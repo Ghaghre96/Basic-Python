{
 "cells": [
  {
   "cell_type": "markdown",
   "id": "c256ff9d-da41-4b82-867c-3073a93e825d",
   "metadata": {},
   "source": [
    "# map, reduce ,filter"
   ]
  },
  {
   "cell_type": "code",
   "execution_count": 1,
   "id": "82dd980b-9dad-4be7-8d9d-4e3304fd60c7",
   "metadata": {},
   "outputs": [],
   "source": [
    "l=[1,2,3,4,5,6]"
   ]
  },
  {
   "cell_type": "code",
   "execution_count": 2,
   "id": "ed55bdb8-1096-412c-a3ce-950025773d15",
   "metadata": {},
   "outputs": [],
   "source": [
    "def test(l):\n",
    "    l1=[]\n",
    "    for i in l:\n",
    "        l1.append(i**2)\n",
    "    return l1"
   ]
  },
  {
   "cell_type": "code",
   "execution_count": 3,
   "id": "4b0b478e-6ecd-41a5-ae06-0f2684ec5566",
   "metadata": {},
   "outputs": [
    {
     "data": {
      "text/plain": [
       "[1, 4, 9, 16, 25, 36]"
      ]
     },
     "execution_count": 3,
     "metadata": {},
     "output_type": "execute_result"
    }
   ],
   "source": [
    "test(l)"
   ]
  },
  {
   "cell_type": "code",
   "execution_count": 4,
   "id": "b2ee8937-0fcf-4261-b558-570ed7b0e839",
   "metadata": {},
   "outputs": [],
   "source": [
    "def sq(x):\n",
    "    return x**2"
   ]
  },
  {
   "cell_type": "code",
   "execution_count": 6,
   "id": "e002a506-8ee6-4773-80d7-49b803a20670",
   "metadata": {},
   "outputs": [
    {
     "data": {
      "text/plain": [
       "[1, 4, 9, 16, 25, 36]"
      ]
     },
     "execution_count": 6,
     "metadata": {},
     "output_type": "execute_result"
    }
   ],
   "source": [
    "list(map(sq ,l))"
   ]
  },
  {
   "cell_type": "markdown",
   "id": "2244edb8-894a-4387-bedf-62170c8e69fd",
   "metadata": {},
   "source": [
    "# map function apko ouput dega iterable ki help se(iterable=list hai yaha par)"
   ]
  },
  {
   "cell_type": "code",
   "execution_count": 7,
   "id": "ab1b7254-b488-47f8-8c17-26b13203a8aa",
   "metadata": {},
   "outputs": [
    {
     "data": {
      "text/plain": [
       "[1, 4, 9, 16, 25, 36]"
      ]
     },
     "execution_count": 7,
     "metadata": {},
     "output_type": "execute_result"
    }
   ],
   "source": [
    "list(map(lambda x: x**2,l))"
   ]
  },
  {
   "cell_type": "code",
   "execution_count": 8,
   "id": "07213111-0ff6-450f-a10f-d496a5469f9a",
   "metadata": {},
   "outputs": [],
   "source": [
    "l1=[1,2,3,4,5]\n",
    "l2=[6,7,8,9,10]"
   ]
  },
  {
   "cell_type": "code",
   "execution_count": 9,
   "id": "e0d434f4-b199-4be7-b498-2144cd06945d",
   "metadata": {},
   "outputs": [
    {
     "data": {
      "text/plain": [
       "[7, 9, 11, 13, 15]"
      ]
     },
     "execution_count": 9,
     "metadata": {},
     "output_type": "execute_result"
    }
   ],
   "source": [
    "list(map(lambda x,y: x+y, l1,l2))"
   ]
  },
  {
   "cell_type": "code",
   "execution_count": 10,
   "id": "5d6da38f-3cde-4cf0-ac28-1e73950162b6",
   "metadata": {},
   "outputs": [],
   "source": [
    "# capitalize"
   ]
  },
  {
   "cell_type": "code",
   "execution_count": 11,
   "id": "1666840d-41d0-49cb-91a2-1397577172c8",
   "metadata": {},
   "outputs": [
    {
     "data": {
      "text/plain": [
       "'SOURABH'"
      ]
     },
     "execution_count": 11,
     "metadata": {},
     "output_type": "execute_result"
    }
   ],
   "source": [
    "s= \"sourabh\"\n",
    "s.upper()"
   ]
  },
  {
   "cell_type": "code",
   "execution_count": 12,
   "id": "8f847db6-c8f3-45cf-a8fa-45c01b4465cf",
   "metadata": {},
   "outputs": [
    {
     "data": {
      "text/plain": [
       "['S', 'O', 'U', 'R', 'A', 'B', 'H']"
      ]
     },
     "execution_count": 12,
     "metadata": {},
     "output_type": "execute_result"
    }
   ],
   "source": [
    "s= \"sourabh\"\n",
    "list(map(lambda s : s.upper(), s))"
   ]
  },
  {
   "cell_type": "markdown",
   "id": "ab7eb1f6-aee9-46cd-b0ac-f4b60220e9eb",
   "metadata": {},
   "source": [
    "# reduce"
   ]
  },
  {
   "cell_type": "code",
   "execution_count": 13,
   "id": "8fa90205-8bfa-4471-9019-8e6d5ccd52c9",
   "metadata": {},
   "outputs": [],
   "source": [
    "from functools import reduce"
   ]
  },
  {
   "cell_type": "code",
   "execution_count": 14,
   "id": "2699b84d-785a-4361-bd4c-1b16bc731a74",
   "metadata": {},
   "outputs": [],
   "source": [
    "l=[1,2,3,4,5,6]"
   ]
  },
  {
   "cell_type": "code",
   "execution_count": 15,
   "id": "eba3e7d5-2dcd-401c-8ec6-682c71331d36",
   "metadata": {},
   "outputs": [
    {
     "data": {
      "text/plain": [
       "21"
      ]
     },
     "execution_count": 15,
     "metadata": {},
     "output_type": "execute_result"
    }
   ],
   "source": [
    "reduce(lambda x,y: x+y , l)"
   ]
  },
  {
   "cell_type": "markdown",
   "id": "e2ebc8e2-e0f0-4c35-ac5e-d20810208eed",
   "metadata": {},
   "source": [
    "# reduce function three variable ke saath kam nahi karta hai"
   ]
  },
  {
   "cell_type": "code",
   "execution_count": 19,
   "id": "e12f54c2-ac01-4c7e-8f2d-772e50c1c9dc",
   "metadata": {},
   "outputs": [
    {
     "ename": "TypeError",
     "evalue": "<lambda>() missing 1 required positional argument: 'z'",
     "output_type": "error",
     "traceback": [
      "\u001b[0;31m---------------------------------------------------------------------------\u001b[0m",
      "\u001b[0;31mTypeError\u001b[0m                                 Traceback (most recent call last)",
      "Cell \u001b[0;32mIn[19], line 1\u001b[0m\n\u001b[0;32m----> 1\u001b[0m \u001b[43mreduce\u001b[49m\u001b[43m(\u001b[49m\u001b[38;5;28;43;01mlambda\u001b[39;49;00m\u001b[43m \u001b[49m\u001b[43mx\u001b[49m\u001b[43m,\u001b[49m\u001b[43my\u001b[49m\u001b[43m,\u001b[49m\u001b[43mz\u001b[49m\u001b[43m:\u001b[49m\u001b[43m \u001b[49m\u001b[43mx\u001b[49m\u001b[38;5;241;43m+\u001b[39;49m\u001b[43my\u001b[49m\u001b[38;5;241;43m+\u001b[39;49m\u001b[43mz\u001b[49m\u001b[43m \u001b[49m\u001b[43m,\u001b[49m\u001b[43m \u001b[49m\u001b[43ml\u001b[49m\u001b[43m)\u001b[49m\n",
      "\u001b[0;31mTypeError\u001b[0m: <lambda>() missing 1 required positional argument: 'z'"
     ]
    }
   ],
   "source": [
    "reduce(lambda x,y,z: x+y+z , l)"
   ]
  },
  {
   "cell_type": "code",
   "execution_count": 20,
   "id": "5b322d11-45e4-494d-959c-da410590250f",
   "metadata": {},
   "outputs": [
    {
     "ename": "TypeError",
     "evalue": "reduce() of empty iterable with no initial value",
     "output_type": "error",
     "traceback": [
      "\u001b[0;31m---------------------------------------------------------------------------\u001b[0m",
      "\u001b[0;31mTypeError\u001b[0m                                 Traceback (most recent call last)",
      "Cell \u001b[0;32mIn[20], line 1\u001b[0m\n\u001b[0;32m----> 1\u001b[0m \u001b[43mreduce\u001b[49m\u001b[43m(\u001b[49m\u001b[38;5;28;43;01mlambda\u001b[39;49;00m\u001b[43m \u001b[49m\u001b[43mx\u001b[49m\u001b[43m,\u001b[49m\u001b[43my\u001b[49m\u001b[43m:\u001b[49m\u001b[43m \u001b[49m\u001b[43mx\u001b[49m\u001b[38;5;241;43m+\u001b[39;49m\u001b[43my\u001b[49m\u001b[43m \u001b[49m\u001b[43m,\u001b[49m\u001b[43m \u001b[49m\u001b[43m[\u001b[49m\u001b[43m]\u001b[49m\u001b[43m)\u001b[49m\n",
      "\u001b[0;31mTypeError\u001b[0m: reduce() of empty iterable with no initial value"
     ]
    }
   ],
   "source": [
    "reduce(lambda x,y: x+y , [])"
   ]
  },
  {
   "cell_type": "code",
   "execution_count": 21,
   "id": "51052533-981c-47fb-8ab3-7c353018ffe3",
   "metadata": {},
   "outputs": [
    {
     "data": {
      "text/plain": [
       "1"
      ]
     },
     "execution_count": 21,
     "metadata": {},
     "output_type": "execute_result"
    }
   ],
   "source": [
    "reduce(lambda x,y: x+y , [1])"
   ]
  },
  {
   "cell_type": "code",
   "execution_count": 23,
   "id": "66ce2160-cb1e-476a-94a5-152294174c0b",
   "metadata": {},
   "outputs": [
    {
     "data": {
      "text/plain": [
       "720"
      ]
     },
     "execution_count": 23,
     "metadata": {},
     "output_type": "execute_result"
    }
   ],
   "source": [
    "reduce(lambda x,y: x*y, l)"
   ]
  },
  {
   "cell_type": "code",
   "execution_count": 24,
   "id": "0c3ebf2d-775b-49ed-928b-7974e340cf16",
   "metadata": {},
   "outputs": [
    {
     "data": {
      "text/plain": [
       "[1, 2, 3, 4, 5, 6]"
      ]
     },
     "execution_count": 24,
     "metadata": {},
     "output_type": "execute_result"
    }
   ],
   "source": [
    "l"
   ]
  },
  {
   "cell_type": "code",
   "execution_count": 26,
   "id": "d5bf2036-00f9-4c9c-9767-b79b9baf7412",
   "metadata": {},
   "outputs": [
    {
     "data": {
      "text/plain": [
       "6"
      ]
     },
     "execution_count": 26,
     "metadata": {},
     "output_type": "execute_result"
    }
   ],
   "source": [
    "reduce(lambda x,y : x if x>y else y,l)"
   ]
  },
  {
   "cell_type": "markdown",
   "id": "30fcbe80-5699-4ec8-b2f8-b6f443a77c8e",
   "metadata": {},
   "source": [
    "# filter"
   ]
  },
  {
   "cell_type": "code",
   "execution_count": 27,
   "id": "518941a8-4fc4-4544-994f-7475811ecf7a",
   "metadata": {},
   "outputs": [
    {
     "data": {
      "text/plain": [
       "[1, 2, 3, 4, 5, 6]"
      ]
     },
     "execution_count": 27,
     "metadata": {},
     "output_type": "execute_result"
    }
   ],
   "source": [
    "l"
   ]
  },
  {
   "cell_type": "code",
   "execution_count": 28,
   "id": "1752143d-3ce5-4a48-9050-dd356e7ad742",
   "metadata": {},
   "outputs": [],
   "source": [
    "# even no"
   ]
  },
  {
   "cell_type": "code",
   "execution_count": 32,
   "id": "240e60a5-df27-4b36-957b-205bc5ed672f",
   "metadata": {},
   "outputs": [
    {
     "name": "stdout",
     "output_type": "stream",
     "text": [
      "2\n",
      "4\n",
      "6\n"
     ]
    }
   ],
   "source": [
    "for i in l:\n",
    "    if i%2==0:\n",
    "        print(i)"
   ]
  },
  {
   "cell_type": "code",
   "execution_count": 37,
   "id": "5f5fece3-8cac-4dd8-ad80-44775cb7c5db",
   "metadata": {},
   "outputs": [
    {
     "data": {
      "text/plain": [
       "[2, 4, 6]"
      ]
     },
     "execution_count": 37,
     "metadata": {},
     "output_type": "execute_result"
    }
   ],
   "source": [
    "list(filter(lambda x:x%2==0, l))"
   ]
  },
  {
   "cell_type": "code",
   "execution_count": 38,
   "id": "17fb7e2d-1c4a-4600-87fc-c3115a32d917",
   "metadata": {},
   "outputs": [
    {
     "data": {
      "text/plain": [
       "[1, 3, 5]"
      ]
     },
     "execution_count": 38,
     "metadata": {},
     "output_type": "execute_result"
    }
   ],
   "source": [
    "list(filter(lambda x:x%2!=0, l))"
   ]
  },
  {
   "cell_type": "code",
   "execution_count": 39,
   "id": "0469cacb-05e7-4e4e-8ac5-5b0739ec9ddc",
   "metadata": {},
   "outputs": [],
   "source": [
    "l1=[-3,5,4,-2,-8]"
   ]
  },
  {
   "cell_type": "code",
   "execution_count": 40,
   "id": "b8e4abd5-3338-4ec3-85ec-f91ba7105a05",
   "metadata": {},
   "outputs": [
    {
     "data": {
      "text/plain": [
       "[-3, -2, -8]"
      ]
     },
     "execution_count": 40,
     "metadata": {},
     "output_type": "execute_result"
    }
   ],
   "source": [
    "list(filter(lambda x:x<0, l1))"
   ]
  },
  {
   "cell_type": "code",
   "execution_count": 43,
   "id": "0b77ee10-9ace-4c98-9c49-79459efa2da0",
   "metadata": {},
   "outputs": [],
   "source": [
    "l2=[\"abcfdfd\",\"bhopal\",\"cvjkhkjgvh\",\"dmvkinvl\"]"
   ]
  },
  {
   "cell_type": "code",
   "execution_count": 45,
   "id": "0d60284d-f938-43b6-a049-3ea46ba42dee",
   "metadata": {},
   "outputs": [
    {
     "data": {
      "text/plain": [
       "['bhopal']"
      ]
     },
     "execution_count": 45,
     "metadata": {},
     "output_type": "execute_result"
    }
   ],
   "source": [
    "list(filter(lambda x: len(x)<7, l2))"
   ]
  },
  {
   "cell_type": "code",
   "execution_count": 46,
   "id": "28ef38c2-7235-4530-af4a-64285a336321",
   "metadata": {},
   "outputs": [
    {
     "data": {
      "text/plain": [
       "['abcfdfd', 'bhopal', 'dmvkinvl']"
      ]
     },
     "execution_count": 46,
     "metadata": {},
     "output_type": "execute_result"
    }
   ],
   "source": [
    "list(filter(lambda x: len(x)<10, l2))"
   ]
  },
  {
   "cell_type": "code",
   "execution_count": null,
   "id": "88b9b22e-ecd5-48a4-8838-d08292faa3c0",
   "metadata": {},
   "outputs": [],
   "source": []
  }
 ],
 "metadata": {
  "kernelspec": {
   "display_name": "Python 3 (ipykernel)",
   "language": "python",
   "name": "python3"
  },
  "language_info": {
   "codemirror_mode": {
    "name": "ipython",
    "version": 3
   },
   "file_extension": ".py",
   "mimetype": "text/x-python",
   "name": "python",
   "nbconvert_exporter": "python",
   "pygments_lexer": "ipython3",
   "version": "3.10.8"
  }
 },
 "nbformat": 4,
 "nbformat_minor": 5
}
