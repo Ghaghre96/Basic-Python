{
 "cells": [
  {
   "cell_type": "markdown",
   "id": "6b2fe6e7-a5d9-47e3-b9de-9db2708a8621",
   "metadata": {},
   "source": [
    "# function"
   ]
  },
  {
   "cell_type": "code",
   "execution_count": 4,
   "id": "d0eb1e32-07c5-43b2-8b5b-acb68b49cc3f",
   "metadata": {},
   "outputs": [],
   "source": [
    "def function_name():\n",
    "    print(\"hello friend\")\n",
    "\n",
    "    "
   ]
  },
  {
   "cell_type": "code",
   "execution_count": 5,
   "id": "ef5c31fe-e924-4f42-bde4-8e25947facbf",
   "metadata": {},
   "outputs": [
    {
     "name": "stdout",
     "output_type": "stream",
     "text": [
      "hello friend\n"
     ]
    }
   ],
   "source": [
    "function_name()"
   ]
  },
  {
   "cell_type": "code",
   "execution_count": 8,
   "id": "a30bf734-bf65-4aa9-b048-baa288f2f080",
   "metadata": {},
   "outputs": [
    {
     "ename": "TypeError",
     "evalue": "unsupported operand type(s) for +: 'function' and 'str'",
     "output_type": "error",
     "traceback": [
      "\u001b[0;31m---------------------------------------------------------------------------\u001b[0m",
      "\u001b[0;31mTypeError\u001b[0m                                 Traceback (most recent call last)",
      "Cell \u001b[0;32mIn[8], line 1\u001b[0m\n\u001b[0;32m----> 1\u001b[0m \u001b[43mfunction_name\u001b[49m\u001b[38;5;241;43m+\u001b[39;49m\u001b[38;5;124;43m\"\u001b[39;49m\u001b[38;5;124;43msourabh\u001b[39;49m\u001b[38;5;124;43m\"\u001b[39;49m\n",
      "\u001b[0;31mTypeError\u001b[0m: unsupported operand type(s) for +: 'function' and 'str'"
     ]
    }
   ],
   "source": [
    "function_name+\"sourabh\""
   ]
  },
  {
   "cell_type": "markdown",
   "id": "9d427e0b-1742-4c86-9523-5c0f3ccd7414",
   "metadata": {},
   "source": [
    "### print always give none type (means none ke sath kuch bhi add nahi hoga)\n",
    "### return always give data type"
   ]
  },
  {
   "cell_type": "code",
   "execution_count": 21,
   "id": "b5f7b690-73af-4dbe-a506-f19ae4070d0b",
   "metadata": {},
   "outputs": [],
   "source": [
    "def test():\n",
    "    return\"this is sourabh\" "
   ]
  },
  {
   "cell_type": "code",
   "execution_count": 22,
   "id": "5658ea8c-0e67-4199-9882-dddf8711e0bc",
   "metadata": {},
   "outputs": [
    {
     "data": {
      "text/plain": [
       "'this is sourabh'"
      ]
     },
     "execution_count": 22,
     "metadata": {},
     "output_type": "execute_result"
    }
   ],
   "source": [
    "test()"
   ]
  },
  {
   "cell_type": "code",
   "execution_count": 23,
   "id": "a085a634-37ef-4aa5-b22c-dc11a607d3cb",
   "metadata": {},
   "outputs": [
    {
     "data": {
      "text/plain": [
       "'this is sourabhghaghre'"
      ]
     },
     "execution_count": 23,
     "metadata": {},
     "output_type": "execute_result"
    }
   ],
   "source": [
    "test() + \"ghaghre\""
   ]
  },
  {
   "cell_type": "code",
   "execution_count": 24,
   "id": "f260ee68-c69b-4a21-b310-0534799c351e",
   "metadata": {},
   "outputs": [],
   "source": [
    "def test2():\n",
    "    return \"sourabh\",23,45.6,[1,2,3,4]"
   ]
  },
  {
   "cell_type": "code",
   "execution_count": 25,
   "id": "e56390b9-a398-4cc8-86ea-b30bf15e2678",
   "metadata": {},
   "outputs": [
    {
     "data": {
      "text/plain": [
       "('sourabh', 23, 45.6, [1, 2, 3, 4])"
      ]
     },
     "execution_count": 25,
     "metadata": {},
     "output_type": "execute_result"
    }
   ],
   "source": [
    "test2()"
   ]
  },
  {
   "cell_type": "code",
   "execution_count": 26,
   "id": "5b8286f5-231c-4908-9623-8df18a0f263d",
   "metadata": {},
   "outputs": [],
   "source": [
    "a,b,c,d=test2()"
   ]
  },
  {
   "cell_type": "code",
   "execution_count": 27,
   "id": "b5da3923-7ff1-4630-ab57-084604e72549",
   "metadata": {},
   "outputs": [
    {
     "data": {
      "text/plain": [
       "'sourabh'"
      ]
     },
     "execution_count": 27,
     "metadata": {},
     "output_type": "execute_result"
    }
   ],
   "source": [
    "a"
   ]
  },
  {
   "cell_type": "code",
   "execution_count": 29,
   "id": "3f3628d9-9c02-453c-b96b-ed475fd31615",
   "metadata": {},
   "outputs": [
    {
     "data": {
      "text/plain": [
       "23"
      ]
     },
     "execution_count": 29,
     "metadata": {},
     "output_type": "execute_result"
    }
   ],
   "source": [
    "b"
   ]
  },
  {
   "cell_type": "code",
   "execution_count": 30,
   "id": "6d8c6dc5-e39f-42af-9485-b833560330f5",
   "metadata": {},
   "outputs": [
    {
     "data": {
      "text/plain": [
       "45.6"
      ]
     },
     "execution_count": 30,
     "metadata": {},
     "output_type": "execute_result"
    }
   ],
   "source": [
    "c"
   ]
  },
  {
   "cell_type": "code",
   "execution_count": 31,
   "id": "5f922794-2d52-4a9c-9af1-5e4b407f2776",
   "metadata": {},
   "outputs": [
    {
     "data": {
      "text/plain": [
       "[1, 2, 3, 4]"
      ]
     },
     "execution_count": 31,
     "metadata": {},
     "output_type": "execute_result"
    }
   ],
   "source": [
    "d"
   ]
  },
  {
   "cell_type": "code",
   "execution_count": 32,
   "id": "177ad900-7d9e-4664-9542-a152c73d469a",
   "metadata": {},
   "outputs": [],
   "source": [
    "def test4():\n",
    "    a=5+6/7\n",
    "    return a\n",
    "    "
   ]
  },
  {
   "cell_type": "code",
   "execution_count": 35,
   "id": "53e53ad8-d349-409e-98b7-00ff42a9a4c1",
   "metadata": {},
   "outputs": [
    {
     "data": {
      "text/plain": [
       "5.857142857142857"
      ]
     },
     "execution_count": 35,
     "metadata": {},
     "output_type": "execute_result"
    }
   ],
   "source": [
    "test4()"
   ]
  },
  {
   "cell_type": "code",
   "execution_count": 41,
   "id": "2107dc25-be25-40bc-9c59-959e72ba4cda",
   "metadata": {},
   "outputs": [],
   "source": [
    "def test5(a,b,c): # fix argument\n",
    "    d=a+b/c\n",
    "    return d"
   ]
  },
  {
   "cell_type": "code",
   "execution_count": 42,
   "id": "0ad4bfd6-bd50-437a-9d49-31170c25229d",
   "metadata": {},
   "outputs": [
    {
     "ename": "TypeError",
     "evalue": "test5() missing 3 required positional arguments: 'a', 'b', and 'c'",
     "output_type": "error",
     "traceback": [
      "\u001b[0;31m---------------------------------------------------------------------------\u001b[0m",
      "\u001b[0;31mTypeError\u001b[0m                                 Traceback (most recent call last)",
      "Cell \u001b[0;32mIn[42], line 1\u001b[0m\n\u001b[0;32m----> 1\u001b[0m \u001b[43mtest5\u001b[49m\u001b[43m(\u001b[49m\u001b[43m)\u001b[49m\n",
      "\u001b[0;31mTypeError\u001b[0m: test5() missing 3 required positional arguments: 'a', 'b', and 'c'"
     ]
    }
   ],
   "source": [
    "test5()"
   ]
  },
  {
   "cell_type": "code",
   "execution_count": 43,
   "id": "122aa46c-d179-4722-9d0c-47dee7d81ab1",
   "metadata": {},
   "outputs": [
    {
     "data": {
      "text/plain": [
       "9.666666666666666"
      ]
     },
     "execution_count": 43,
     "metadata": {},
     "output_type": "execute_result"
    }
   ],
   "source": [
    "test5(8,5,3)"
   ]
  },
  {
   "cell_type": "code",
   "execution_count": 44,
   "id": "18755d07-bcd9-45cf-a322-c21c5d3d3d88",
   "metadata": {},
   "outputs": [],
   "source": [
    "def test5(a,b,c): # fix argument\n",
    "    \n",
    "    return a*b/c"
   ]
  },
  {
   "cell_type": "code",
   "execution_count": 45,
   "id": "5879bf21-9d03-4916-995a-b7e931561662",
   "metadata": {},
   "outputs": [
    {
     "data": {
      "text/plain": [
       "16.0"
      ]
     },
     "execution_count": 45,
     "metadata": {},
     "output_type": "execute_result"
    }
   ],
   "source": [
    "test5(8,4,2)"
   ]
  },
  {
   "cell_type": "code",
   "execution_count": 46,
   "id": "9170e94e-a5a7-4d56-aff1-65aeb5f13c0d",
   "metadata": {},
   "outputs": [],
   "source": [
    "def test6(a,b):\n",
    "    return a+b"
   ]
  },
  {
   "cell_type": "code",
   "execution_count": 49,
   "id": "767848da-fc7c-413c-94df-84f08946fd93",
   "metadata": {},
   "outputs": [
    {
     "data": {
      "text/plain": [
       "'sourabhghaghre'"
      ]
     },
     "execution_count": 49,
     "metadata": {},
     "output_type": "execute_result"
    }
   ],
   "source": [
    "test6(\"sourabh\" , \"ghaghre\")"
   ]
  },
  {
   "cell_type": "code",
   "execution_count": 50,
   "id": "6b272a96-7c3c-4796-a948-e775dea01f5c",
   "metadata": {},
   "outputs": [
    {
     "data": {
      "text/plain": [
       "[1, 2, 3, 4, 5, 6, 7, 8, 9]"
      ]
     },
     "execution_count": 50,
     "metadata": {},
     "output_type": "execute_result"
    }
   ],
   "source": [
    "test6([1,2,3,4,5],[6,7,8,9])"
   ]
  },
  {
   "cell_type": "code",
   "execution_count": 51,
   "id": "3e77ccd9-d0b7-4f18-be62-60b0088803c5",
   "metadata": {},
   "outputs": [],
   "source": [
    "# most"
   ]
  },
  {
   "cell_type": "code",
   "execution_count": 70,
   "id": "8dcb9962-3240-464d-8d7b-23bebb21767a",
   "metadata": {},
   "outputs": [],
   "source": [
    "l=[1,2,3,4,\"sou\",\"gha\",[1,2,3,4,5,6]]"
   ]
  },
  {
   "cell_type": "code",
   "execution_count": 71,
   "id": "cf70ba41-0cd8-44cb-afe0-f0832376e86f",
   "metadata": {},
   "outputs": [],
   "source": [
    "l1 =[]\n",
    "for i in l :\n",
    "    if type(i)==int or type(i)==float:\n",
    "        l1.append(i)\n",
    "        "
   ]
  },
  {
   "cell_type": "code",
   "execution_count": 72,
   "id": "1ce14536-02c4-4ce4-99c9-07fa70f70bb7",
   "metadata": {},
   "outputs": [
    {
     "data": {
      "text/plain": [
       "[1, 2, 3, 4]"
      ]
     },
     "execution_count": 72,
     "metadata": {},
     "output_type": "execute_result"
    }
   ],
   "source": [
    "l1"
   ]
  },
  {
   "cell_type": "code",
   "execution_count": 73,
   "id": "83a79658-30ae-4dc4-aaaf-25abe878820d",
   "metadata": {},
   "outputs": [],
   "source": [
    "def test7(l):\n",
    "    l1=[]\n",
    "    for i in l:\n",
    "         if type(i)==int or type(i)==float:\n",
    "                 l1.append(i)\n",
    "    return(l1)\n",
    "        "
   ]
  },
  {
   "cell_type": "code",
   "execution_count": 74,
   "id": "a285b583-20bc-4e5f-8e1a-5193be102bee",
   "metadata": {},
   "outputs": [
    {
     "data": {
      "text/plain": [
       "[1, 2, 3, 4]"
      ]
     },
     "execution_count": 74,
     "metadata": {},
     "output_type": "execute_result"
    }
   ],
   "source": [
    "test7(l)"
   ]
  },
  {
   "cell_type": "code",
   "execution_count": 77,
   "id": "ba1f651f-831b-491d-abc2-0a27c59e91ac",
   "metadata": {},
   "outputs": [],
   "source": [
    "def test8(a):\n",
    "    l=[]\n",
    "    for i in a:\n",
    "        if type(i) == list:\n",
    "            for j in i:\n",
    "                l.append(j)\n",
    "        else:\n",
    "             if type(i) == int or type(i)==float:\n",
    "                    l.append(i)\n",
    "    return l           \n",
    "            "
   ]
  },
  {
   "cell_type": "code",
   "execution_count": 78,
   "id": "12e9d17b-a71f-41c1-a26f-5502bd548bda",
   "metadata": {},
   "outputs": [
    {
     "data": {
      "text/plain": [
       "[1, 2, 3, 4, 1, 2, 3, 4, 5, 6]"
      ]
     },
     "execution_count": 78,
     "metadata": {},
     "output_type": "execute_result"
    }
   ],
   "source": [
    "test8(l)"
   ]
  },
  {
   "cell_type": "code",
   "execution_count": 1,
   "id": "198a978c-9f87-40db-910d-65a058a2e75d",
   "metadata": {},
   "outputs": [],
   "source": [
    "def test10(a,b):\n",
    "    return a+b"
   ]
  },
  {
   "cell_type": "code",
   "execution_count": 2,
   "id": "4cfc19d8-889e-478a-bb2e-bda47a0eebb2",
   "metadata": {},
   "outputs": [],
   "source": [
    "# perameter a,b\n",
    "# parameter ko dynamic banana ke liye\"(*args)\" use  karte hai"
   ]
  },
  {
   "cell_type": "code",
   "execution_count": 3,
   "id": "d7fa512e-e7f2-4cf3-8317-850357123408",
   "metadata": {},
   "outputs": [],
   "source": [
    "def test11(*args): # *args = star+args means you can give multiple input\n",
    "    return args"
   ]
  },
  {
   "cell_type": "code",
   "execution_count": 4,
   "id": "6e4acfbd-b8b0-4090-886a-e6b076c8f6e9",
   "metadata": {},
   "outputs": [
    {
     "data": {
      "text/plain": [
       "()"
      ]
     },
     "execution_count": 4,
     "metadata": {},
     "output_type": "execute_result"
    }
   ],
   "source": [
    "test11()"
   ]
  },
  {
   "cell_type": "code",
   "execution_count": 6,
   "id": "7a9b1608-456d-4a8d-a12f-aaa8b50ee8ee",
   "metadata": {},
   "outputs": [
    {
     "data": {
      "text/plain": [
       "(1, 2, 3)"
      ]
     },
     "execution_count": 6,
     "metadata": {},
     "output_type": "execute_result"
    }
   ],
   "source": [
    "test11(1,2,3)"
   ]
  },
  {
   "cell_type": "code",
   "execution_count": 7,
   "id": "174e794d-9dc4-4045-94b5-ffa9265c89b5",
   "metadata": {},
   "outputs": [
    {
     "data": {
      "text/plain": [
       "(5, 6, 3, 'a', 4)"
      ]
     },
     "execution_count": 7,
     "metadata": {},
     "output_type": "execute_result"
    }
   ],
   "source": [
    "test11(5,6,3,\"a\",4)"
   ]
  },
  {
   "cell_type": "code",
   "execution_count": 8,
   "id": "12fa253b-f766-40b5-a98d-9f6986df3726",
   "metadata": {},
   "outputs": [],
   "source": [
    "def test13(*args,a):\n",
    "    return args, a"
   ]
  },
  {
   "cell_type": "code",
   "execution_count": 9,
   "id": "b6a01ba3-e8e0-469b-9a2b-f270f8317df1",
   "metadata": {},
   "outputs": [
    {
     "ename": "TypeError",
     "evalue": "test13() missing 1 required keyword-only argument: 'a'",
     "output_type": "error",
     "traceback": [
      "\u001b[0;31m---------------------------------------------------------------------------\u001b[0m",
      "\u001b[0;31mTypeError\u001b[0m                                 Traceback (most recent call last)",
      "Cell \u001b[0;32mIn[9], line 1\u001b[0m\n\u001b[0;32m----> 1\u001b[0m \u001b[43mtest13\u001b[49m\u001b[43m(\u001b[49m\u001b[38;5;241;43m1\u001b[39;49m\u001b[43m,\u001b[49m\u001b[38;5;241;43m2\u001b[39;49m\u001b[43m,\u001b[49m\u001b[38;5;241;43m3\u001b[39;49m\u001b[43m,\u001b[49m\u001b[38;5;241;43m4\u001b[39;49m\u001b[43m,\u001b[49m\u001b[38;5;241;43m5\u001b[39;49m\u001b[43m)\u001b[49m\n",
      "\u001b[0;31mTypeError\u001b[0m: test13() missing 1 required keyword-only argument: 'a'"
     ]
    }
   ],
   "source": [
    "test13(1,2,3,4,5)"
   ]
  },
  {
   "cell_type": "code",
   "execution_count": 10,
   "id": "acda1c55-72c6-4145-ae68-749fca616d05",
   "metadata": {},
   "outputs": [
    {
     "data": {
      "text/plain": [
       "((1, 2, 3, 4, 5), 25)"
      ]
     },
     "execution_count": 10,
     "metadata": {},
     "output_type": "execute_result"
    }
   ],
   "source": [
    "test13(1,2,3,4,5,a=25)"
   ]
  },
  {
   "cell_type": "code",
   "execution_count": 11,
   "id": "7b8c3787-b59e-4dab-a404-0d309b583453",
   "metadata": {},
   "outputs": [],
   "source": [
    "def test14(c,d,a=23 , b=1):\n",
    "    return a,b,c,d"
   ]
  },
  {
   "cell_type": "code",
   "execution_count": 12,
   "id": "76e167bb-ab1b-4157-be34-ae8a66f4c1e8",
   "metadata": {},
   "outputs": [
    {
     "ename": "TypeError",
     "evalue": "test14() missing 2 required positional arguments: 'c' and 'd'",
     "output_type": "error",
     "traceback": [
      "\u001b[0;31m---------------------------------------------------------------------------\u001b[0m",
      "\u001b[0;31mTypeError\u001b[0m                                 Traceback (most recent call last)",
      "Cell \u001b[0;32mIn[12], line 1\u001b[0m\n\u001b[0;32m----> 1\u001b[0m \u001b[43mtest14\u001b[49m\u001b[43m(\u001b[49m\u001b[43m)\u001b[49m\n",
      "\u001b[0;31mTypeError\u001b[0m: test14() missing 2 required positional arguments: 'c' and 'd'"
     ]
    }
   ],
   "source": [
    "test14()"
   ]
  },
  {
   "cell_type": "code",
   "execution_count": 13,
   "id": "25d28d88-b4e1-4658-8e38-7835461333a4",
   "metadata": {},
   "outputs": [
    {
     "data": {
      "text/plain": [
       "(23, 1, 3, 4)"
      ]
     },
     "execution_count": 13,
     "metadata": {},
     "output_type": "execute_result"
    }
   ],
   "source": [
    "test14(3,4)"
   ]
  },
  {
   "cell_type": "code",
   "execution_count": 14,
   "id": "417f4ece-48c3-4acf-96f0-346bc08f92de",
   "metadata": {},
   "outputs": [
    {
     "data": {
      "text/plain": [
       "(2435, 1, 3, 4)"
      ]
     },
     "execution_count": 14,
     "metadata": {},
     "output_type": "execute_result"
    }
   ],
   "source": [
    "test14(3,4,a=2435)"
   ]
  },
  {
   "cell_type": "code",
   "execution_count": 16,
   "id": "9dbb6bb8-b979-4aef-866d-6ceaa41c7a94",
   "metadata": {},
   "outputs": [],
   "source": [
    "# **strg use for dictionary\n",
    "# **kwargs = keyword + arg"
   ]
  },
  {
   "cell_type": "code",
   "execution_count": 17,
   "id": "3bf216b5-d5c1-47df-af91-6b3a11814430",
   "metadata": {},
   "outputs": [],
   "source": [
    "def test15(**kwargs):\n",
    "    return kwargs"
   ]
  },
  {
   "cell_type": "code",
   "execution_count": 18,
   "id": "e1168d1b-7b78-4d66-85b9-a2ddc09fec9a",
   "metadata": {},
   "outputs": [
    {
     "data": {
      "text/plain": [
       "{}"
      ]
     },
     "execution_count": 18,
     "metadata": {},
     "output_type": "execute_result"
    }
   ],
   "source": [
    "test15()"
   ]
  },
  {
   "cell_type": "code",
   "execution_count": 20,
   "id": "ec42da70-f7aa-480f-9536-1b814f62b0d0",
   "metadata": {},
   "outputs": [
    {
     "data": {
      "text/plain": [
       "{'a': [1, 2, 3], 'b': 'gha'}"
      ]
     },
     "execution_count": 20,
     "metadata": {},
     "output_type": "execute_result"
    }
   ],
   "source": [
    "test15(a=[1,2,3], b=\"gha\")"
   ]
  },
  {
   "cell_type": "code",
   "execution_count": null,
   "id": "b42436c4-5874-42ac-af43-664a390bec32",
   "metadata": {},
   "outputs": [],
   "source": []
  }
 ],
 "metadata": {
  "kernelspec": {
   "display_name": "Python 3 (ipykernel)",
   "language": "python",
   "name": "python3"
  },
  "language_info": {
   "codemirror_mode": {
    "name": "ipython",
    "version": 3
   },
   "file_extension": ".py",
   "mimetype": "text/x-python",
   "name": "python",
   "nbconvert_exporter": "python",
   "pygments_lexer": "ipython3",
   "version": "3.10.8"
  }
 },
 "nbformat": 4,
 "nbformat_minor": 5
}
