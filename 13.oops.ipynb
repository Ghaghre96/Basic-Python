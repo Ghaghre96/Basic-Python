{
 "cells": [
  {
   "cell_type": "markdown",
   "id": "d6429fd1-6b73-49e2-bd0f-67aa99c15f08",
   "metadata": {},
   "source": [
    "# oops- object oriented programming"
   ]
  },
  {
   "cell_type": "code",
   "execution_count": 3,
   "id": "53f99334-c26b-4bad-990e-2a23984d1bc8",
   "metadata": {},
   "outputs": [],
   "source": [
    "a = 1  # \" a \" is a variable and object\""
   ]
  },
  {
   "cell_type": "code",
   "execution_count": 4,
   "id": "498f99a7-78e8-4f9a-b038-5f96a3f10b8a",
   "metadata": {},
   "outputs": [
    {
     "name": "stdout",
     "output_type": "stream",
     "text": [
      "<class 'int'>\n"
     ]
    }
   ],
   "source": [
    "print(type(a))"
   ]
  },
  {
   "cell_type": "code",
   "execution_count": 5,
   "id": "8052fd31-f54a-4d0d-89c2-1b468e986699",
   "metadata": {},
   "outputs": [
    {
     "name": "stdout",
     "output_type": "stream",
     "text": [
      "<class 'str'>\n"
     ]
    }
   ],
   "source": [
    "print(type(\"sourabh\"))"
   ]
  },
  {
   "cell_type": "markdown",
   "id": "5c524744-6a72-42b3-a36d-81815f31f5ee",
   "metadata": {},
   "source": [
    "# class is a classifiaction of real world entity"
   ]
  },
  {
   "cell_type": "code",
   "execution_count": 6,
   "id": "c5cf3f86-2de6-486f-914a-53fa1b4232b4",
   "metadata": {},
   "outputs": [],
   "source": [
    "class test:\n",
    "    pass"
   ]
  },
  {
   "cell_type": "code",
   "execution_count": 7,
   "id": "c266ce0d-8e77-41e7-987b-11a882230ac4",
   "metadata": {},
   "outputs": [],
   "source": [
    "a= test()"
   ]
  },
  {
   "cell_type": "code",
   "execution_count": 8,
   "id": "f279c579-3dcd-4891-ba6a-f4205edb126f",
   "metadata": {},
   "outputs": [
    {
     "data": {
      "text/plain": [
       "__main__.test"
      ]
     },
     "execution_count": 8,
     "metadata": {},
     "output_type": "execute_result"
    }
   ],
   "source": [
    "type(a)"
   ]
  },
  {
   "cell_type": "code",
   "execution_count": 9,
   "id": "84e2d643-bd4d-459f-bb8c-b7f872208ed9",
   "metadata": {},
   "outputs": [
    {
     "name": "stdout",
     "output_type": "stream",
     "text": [
      "<class '__main__.test'>\n"
     ]
    }
   ],
   "source": [
    "print(type(a))"
   ]
  },
  {
   "cell_type": "code",
   "execution_count": 10,
   "id": "42006263-f53a-494d-896e-fba7cce65994",
   "metadata": {},
   "outputs": [],
   "source": [
    "class pwskills:\n",
    "    def welcome_msg():\n",
    "        print(\"welcome to pwskills\")"
   ]
  },
  {
   "cell_type": "code",
   "execution_count": 11,
   "id": "696b631b-0f38-4e34-a4db-54c8bc92160e",
   "metadata": {},
   "outputs": [],
   "source": [
    "rohan = pwskills()"
   ]
  },
  {
   "cell_type": "code",
   "execution_count": 12,
   "id": "7eabb588-4d33-4656-a270-ebee4e86fbe9",
   "metadata": {},
   "outputs": [
    {
     "name": "stdout",
     "output_type": "stream",
     "text": [
      "<class '__main__.pwskills'>\n"
     ]
    }
   ],
   "source": [
    "print(type(rohan))"
   ]
  },
  {
   "cell_type": "code",
   "execution_count": 13,
   "id": "1a808ff0-4be9-4ec6-89dd-d85b4b1a858a",
   "metadata": {},
   "outputs": [
    {
     "ename": "TypeError",
     "evalue": "pwskills.welcome_msg() takes 0 positional arguments but 1 was given",
     "output_type": "error",
     "traceback": [
      "\u001b[0;31m---------------------------------------------------------------------------\u001b[0m",
      "\u001b[0;31mTypeError\u001b[0m                                 Traceback (most recent call last)",
      "Cell \u001b[0;32mIn[13], line 1\u001b[0m\n\u001b[0;32m----> 1\u001b[0m \u001b[43mrohan\u001b[49m\u001b[38;5;241;43m.\u001b[39;49m\u001b[43mwelcome_msg\u001b[49m\u001b[43m(\u001b[49m\u001b[43m)\u001b[49m\n",
      "\u001b[0;31mTypeError\u001b[0m: pwskills.welcome_msg() takes 0 positional arguments but 1 was given"
     ]
    }
   ],
   "source": [
    "rohan.welcome_msg()"
   ]
  },
  {
   "cell_type": "code",
   "execution_count": 14,
   "id": "b2a9b19a-4987-4e04-967d-a4c2b2b897d5",
   "metadata": {},
   "outputs": [],
   "source": [
    "class pwskills:\n",
    "    def welcome_msg(self):\n",
    "        print(\"welcome to pwskills\")"
   ]
  },
  {
   "cell_type": "code",
   "execution_count": 15,
   "id": "d0273669-94eb-4d95-95a8-a8e49753c144",
   "metadata": {},
   "outputs": [],
   "source": [
    "rohan = pwskills()"
   ]
  },
  {
   "cell_type": "code",
   "execution_count": 16,
   "id": "cd8acaf1-5aaf-4c9b-af74-495ce6423ddb",
   "metadata": {},
   "outputs": [
    {
     "name": "stdout",
     "output_type": "stream",
     "text": [
      "<class '__main__.pwskills'>\n"
     ]
    }
   ],
   "source": [
    "print(type(rohan))"
   ]
  },
  {
   "cell_type": "code",
   "execution_count": 17,
   "id": "184f4f50-712e-4cac-b56f-bb94cb9b7c4c",
   "metadata": {},
   "outputs": [
    {
     "ename": "NameError",
     "evalue": "name 'gaurav' is not defined",
     "output_type": "error",
     "traceback": [
      "\u001b[0;31m---------------------------------------------------------------------------\u001b[0m",
      "\u001b[0;31mNameError\u001b[0m                                 Traceback (most recent call last)",
      "Cell \u001b[0;32mIn[17], line 1\u001b[0m\n\u001b[0;32m----> 1\u001b[0m \u001b[43mgaurav\u001b[49m\u001b[38;5;241m.\u001b[39mwelcome_msg()\n",
      "\u001b[0;31mNameError\u001b[0m: name 'gaurav' is not defined"
     ]
    }
   ],
   "source": [
    "gaurav.welcome_msg()"
   ]
  },
  {
   "cell_type": "code",
   "execution_count": 18,
   "id": "6bf6cf0b-7bb4-40f1-86c6-9895e95107b7",
   "metadata": {},
   "outputs": [],
   "source": [
    "gaurav = pwskills()"
   ]
  },
  {
   "cell_type": "code",
   "execution_count": 19,
   "id": "c5a1bdc1-4fb5-4051-a981-23735330b06b",
   "metadata": {},
   "outputs": [
    {
     "name": "stdout",
     "output_type": "stream",
     "text": [
      "welcome to pwskills\n"
     ]
    }
   ],
   "source": [
    "gaurav.welcome_msg()"
   ]
  },
  {
   "cell_type": "code",
   "execution_count": 20,
   "id": "658f7c8d-ea75-46ba-8951-5e49c9176a8f",
   "metadata": {},
   "outputs": [],
   "source": [
    "# __init__ = constructor"
   ]
  },
  {
   "cell_type": "markdown",
   "id": "ab00aa6c-d917-4ca8-a2d8-57782181b32a",
   "metadata": {},
   "source": [
    "# skeleton = dhacha  "
   ]
  },
  {
   "cell_type": "code",
   "execution_count": 39,
   "id": "49d866c4-28ed-4165-8e25-9bdd94274848",
   "metadata": {},
   "outputs": [],
   "source": [
    "class pwskills1:\n",
    "    \n",
    "    def __init__(self,phone_number, email_id, student_id):\n",
    "        self.phone_number = phone_number\n",
    "        self.email_id = email_id\n",
    "        self.student_id= student_id\n",
    "    def return_student_details(self):\n",
    "        return self.student_id, self.phone_number, self.email_id\n",
    "    "
   ]
  },
  {
   "cell_type": "code",
   "execution_count": 40,
   "id": "c5654552-8faf-4b65-bcb8-f20a213b8142",
   "metadata": {},
   "outputs": [],
   "source": [
    "rohan = pwskills1(1231456616,\"rohan@gmail.com\",101)"
   ]
  },
  {
   "cell_type": "code",
   "execution_count": 41,
   "id": "ecd5d8a9-abe1-44b4-a768-091162e3e4fe",
   "metadata": {},
   "outputs": [
    {
     "data": {
      "text/plain": [
       "(101, 1231456616, 'rohan@gmail.com')"
      ]
     },
     "execution_count": 41,
     "metadata": {},
     "output_type": "execute_result"
    }
   ],
   "source": [
    "rohan.return_student_details()"
   ]
  },
  {
   "cell_type": "code",
   "execution_count": 42,
   "id": "da5e61f2-b36a-4cf7-895d-9f6bab8347dd",
   "metadata": {},
   "outputs": [],
   "source": [
    "gaurav =  pwskills1(22222222,\"ghajnnjv@gmail.com\",201)"
   ]
  },
  {
   "cell_type": "code",
   "execution_count": 43,
   "id": "98fd18b7-7e25-45cd-80d3-375c65cfe8f9",
   "metadata": {},
   "outputs": [
    {
     "data": {
      "text/plain": [
       "(201, 22222222, 'ghajnnjv@gmail.com')"
      ]
     },
     "execution_count": 43,
     "metadata": {},
     "output_type": "execute_result"
    }
   ],
   "source": [
    "gaurav.return_student_details()"
   ]
  },
  {
   "cell_type": "code",
   "execution_count": 62,
   "id": "1aa61d3f-151b-4afb-89d3-92b372dac598",
   "metadata": {},
   "outputs": [],
   "source": [
    "class pwskills2:\n",
    "    \n",
    "    def __init__(self,phone_number, email_id, student_id):\n",
    "        self.phone_number1 = phone_number\n",
    "        self.email_id1 = email_id\n",
    "        self.student_id1= student_id\n",
    "    def return_student_details(self):\n",
    "        return self.student_id, self.phone_number, self.email_id"
   ]
  },
  {
   "cell_type": "code",
   "execution_count": 63,
   "id": "50bedbbc-ab5c-42e0-b4d4-d361135e4bbc",
   "metadata": {},
   "outputs": [],
   "source": [
    "sudh = pwskills2(9999999253,\"sudh@gmail.com\",105)"
   ]
  },
  {
   "cell_type": "code",
   "execution_count": 64,
   "id": "589fbf74-17ca-4958-941b-686e1daf1c3d",
   "metadata": {},
   "outputs": [
    {
     "ename": "AttributeError",
     "evalue": "'pwskills2' object has no attribute 'phone_number'",
     "output_type": "error",
     "traceback": [
      "\u001b[0;31m---------------------------------------------------------------------------\u001b[0m",
      "\u001b[0;31mAttributeError\u001b[0m                            Traceback (most recent call last)",
      "Cell \u001b[0;32mIn[64], line 1\u001b[0m\n\u001b[0;32m----> 1\u001b[0m \u001b[43msudh\u001b[49m\u001b[38;5;241;43m.\u001b[39;49m\u001b[43mphone_number\u001b[49m\n",
      "\u001b[0;31mAttributeError\u001b[0m: 'pwskills2' object has no attribute 'phone_number'"
     ]
    }
   ],
   "source": [
    "sudh.phone_number"
   ]
  },
  {
   "cell_type": "code",
   "execution_count": 65,
   "id": "333de98f-c4e0-438c-909d-47daaf2e4be2",
   "metadata": {},
   "outputs": [
    {
     "data": {
      "text/plain": [
       "9999999253"
      ]
     },
     "execution_count": 65,
     "metadata": {},
     "output_type": "execute_result"
    }
   ],
   "source": [
    "sudh.phone_number1"
   ]
  },
  {
   "cell_type": "code",
   "execution_count": 66,
   "id": "157fcc01-5f67-4796-8db2-412b18ed2bb9",
   "metadata": {},
   "outputs": [
    {
     "data": {
      "text/plain": [
       "'sudh@gmail.com'"
      ]
     },
     "execution_count": 66,
     "metadata": {},
     "output_type": "execute_result"
    }
   ],
   "source": [
    "sudh.email_id1"
   ]
  },
  {
   "cell_type": "code",
   "execution_count": 67,
   "id": "ca35f9d8-51c5-43ae-81b9-4e33c009dcb6",
   "metadata": {},
   "outputs": [
    {
     "ename": "AttributeError",
     "evalue": "'pwskills2' object has no attribute 'student_id'",
     "output_type": "error",
     "traceback": [
      "\u001b[0;31m---------------------------------------------------------------------------\u001b[0m",
      "\u001b[0;31mAttributeError\u001b[0m                            Traceback (most recent call last)",
      "Cell \u001b[0;32mIn[67], line 1\u001b[0m\n\u001b[0;32m----> 1\u001b[0m \u001b[43msudh\u001b[49m\u001b[38;5;241;43m.\u001b[39;49m\u001b[43mreturn_student_details\u001b[49m\u001b[43m(\u001b[49m\u001b[43m)\u001b[49m\n",
      "Cell \u001b[0;32mIn[62], line 8\u001b[0m, in \u001b[0;36mpwskills2.return_student_details\u001b[0;34m(self)\u001b[0m\n\u001b[1;32m      7\u001b[0m \u001b[38;5;28;01mdef\u001b[39;00m \u001b[38;5;21mreturn_student_details\u001b[39m(\u001b[38;5;28mself\u001b[39m):\n\u001b[0;32m----> 8\u001b[0m     \u001b[38;5;28;01mreturn\u001b[39;00m \u001b[38;5;28;43mself\u001b[39;49m\u001b[38;5;241;43m.\u001b[39;49m\u001b[43mstudent_id\u001b[49m, \u001b[38;5;28mself\u001b[39m\u001b[38;5;241m.\u001b[39mphone_number, \u001b[38;5;28mself\u001b[39m\u001b[38;5;241m.\u001b[39memail_id\n",
      "\u001b[0;31mAttributeError\u001b[0m: 'pwskills2' object has no attribute 'student_id'"
     ]
    }
   ],
   "source": [
    "sudh.return_student_details()"
   ]
  },
  {
   "cell_type": "code",
   "execution_count": 70,
   "id": "ead6d813-a097-4807-a2b8-3eb50d6793b9",
   "metadata": {},
   "outputs": [],
   "source": [
    "class pwskills2:\n",
    "    \n",
    "    def __init__(self,phone_number, email_id, student_id):\n",
    "        self.phone_number1 = phone_number\n",
    "        self.email_id1 = email_id\n",
    "        self.student_id1= student_id\n",
    "    def return_student_details(self):\n",
    "        return self.student_id1, self.phone_number1, self.email_id1"
   ]
  },
  {
   "cell_type": "code",
   "execution_count": 71,
   "id": "8ba4ccd2-9839-45c6-84f3-e1afbe260bae",
   "metadata": {},
   "outputs": [],
   "source": [
    "sudh = pwskills2(9999999253,\"sudh@gmail.com\",105)"
   ]
  },
  {
   "cell_type": "code",
   "execution_count": 72,
   "id": "e04ddc08-4815-47c3-908f-22d2ed66f67f",
   "metadata": {},
   "outputs": [
    {
     "data": {
      "text/plain": [
       "(105, 9999999253, 'sudh@gmail.com')"
      ]
     },
     "execution_count": 72,
     "metadata": {},
     "output_type": "execute_result"
    }
   ],
   "source": [
    "sudh.return_student_details()"
   ]
  },
  {
   "cell_type": "markdown",
   "id": "29ebe2b2-b2cb-4028-b2d2-79b3fb8aed1c",
   "metadata": {},
   "source": [
    "# self = \"any_name \" can write"
   ]
  },
  {
   "cell_type": "code",
   "execution_count": 77,
   "id": "0550fd6d-e72d-4a75-a539-756d14c9236f",
   "metadata": {},
   "outputs": [],
   "source": [
    "class pwskills2:\n",
    "    \n",
    "    def __init__(any_thing,phone_number, email_id, student_id):\n",
    "        any_thing.phone_number1 = phone_number\n",
    "        any_thing.email_id1 = email_id\n",
    "        any_thing.student_id1= student_id\n",
    "    def return_student_details(any_thing):\n",
    "        return any_thing.student_id1, any_thing.phone_number1, any_thing.email_id1"
   ]
  },
  {
   "cell_type": "code",
   "execution_count": 78,
   "id": "7adb88d1-40fa-444a-842e-1230a441b1da",
   "metadata": {},
   "outputs": [],
   "source": [
    "rohan = pwskills2(34526,\"gh\",3256)"
   ]
  },
  {
   "cell_type": "code",
   "execution_count": 79,
   "id": "a5aebedb-b543-4e1d-8005-fa6e0b576b82",
   "metadata": {},
   "outputs": [
    {
     "data": {
      "text/plain": [
       "34526"
      ]
     },
     "execution_count": 79,
     "metadata": {},
     "output_type": "execute_result"
    }
   ],
   "source": [
    "rohan.phone_number1"
   ]
  },
  {
   "cell_type": "code",
   "execution_count": null,
   "id": "be631168-2480-40fc-a727-d18e376eb92a",
   "metadata": {},
   "outputs": [],
   "source": []
  }
 ],
 "metadata": {
  "kernelspec": {
   "display_name": "Python 3 (ipykernel)",
   "language": "python",
   "name": "python3"
  },
  "language_info": {
   "codemirror_mode": {
    "name": "ipython",
    "version": 3
   },
   "file_extension": ".py",
   "mimetype": "text/x-python",
   "name": "python",
   "nbconvert_exporter": "python",
   "pygments_lexer": "ipython3",
   "version": "3.10.8"
  }
 },
 "nbformat": 4,
 "nbformat_minor": 5
}
