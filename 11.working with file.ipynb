{
 "cells": [
  {
   "cell_type": "code",
   "execution_count": 47,
   "id": "bbfe71b3-7f41-478b-a821-43ef210bf975",
   "metadata": {},
   "outputs": [],
   "source": [
    "f=open(\"test.txt\",\"w\")"
   ]
  },
  {
   "cell_type": "code",
   "execution_count": 48,
   "id": "448c36b2-48c2-479c-976b-77b97757aeb0",
   "metadata": {},
   "outputs": [
    {
     "data": {
      "text/plain": [
       "'/home/jovyan/work'"
      ]
     },
     "execution_count": 48,
     "metadata": {},
     "output_type": "execute_result"
    }
   ],
   "source": [
    "pwd"
   ]
  },
  {
   "cell_type": "code",
   "execution_count": 49,
   "id": "6dc1bcb6-fb04-4868-8b1b-d668d6ddf202",
   "metadata": {},
   "outputs": [
    {
     "name": "stdout",
     "output_type": "stream",
     "text": [
      " 00.practise.ipynb             '09.lembda function.ipynb'\n",
      "'01.start class.ipynb'          10.map,reduce,fillter.ipynb\n",
      " 02.ipynb                      '11.working with file.ipynb'\n",
      " 03.ipynb                       README.md\n",
      "'04,Loop Practise.ipynb'        sample-code.ipynb\n",
      "'05.while loop.ipynb'          'sourabh practise.ipynb'\n",
      " 06.comprehension.ipynb         test.txt\n",
      " 07.function.ipynb              Untitled.ipynb\n",
      "'08.generator function.ipynb'   ytest.txt\n"
     ]
    }
   ],
   "source": [
    "ls"
   ]
  },
  {
   "cell_type": "code",
   "execution_count": 50,
   "id": "b06876c9-6863-4d84-9f23-eee7860332e8",
   "metadata": {},
   "outputs": [
    {
     "name": "stdout",
     "output_type": "stream",
     "text": [
      "[Errno 2] No such file or directory: 'work'\n",
      "/home/jovyan/work\n"
     ]
    }
   ],
   "source": [
    "cd work"
   ]
  },
  {
   "cell_type": "code",
   "execution_count": 51,
   "id": "bd51dd3f-479b-4e97-b7ed-073e74bb43b7",
   "metadata": {},
   "outputs": [
    {
     "name": "stdout",
     "output_type": "stream",
     "text": [
      " 00.practise.ipynb             '09.lembda function.ipynb'\n",
      "'01.start class.ipynb'          10.map,reduce,fillter.ipynb\n",
      " 02.ipynb                      '11.working with file.ipynb'\n",
      " 03.ipynb                       README.md\n",
      "'04,Loop Practise.ipynb'        sample-code.ipynb\n",
      "'05.while loop.ipynb'          'sourabh practise.ipynb'\n",
      " 06.comprehension.ipynb         test.txt\n",
      " 07.function.ipynb              Untitled.ipynb\n",
      "'08.generator function.ipynb'   ytest.txt\n"
     ]
    }
   ],
   "source": [
    "ls"
   ]
  },
  {
   "cell_type": "code",
   "execution_count": 52,
   "id": "2a005828-886f-4882-adbe-683308f4d9bf",
   "metadata": {},
   "outputs": [
    {
     "data": {
      "text/plain": [
       "30"
      ]
     },
     "execution_count": 52,
     "metadata": {},
     "output_type": "execute_result"
    }
   ],
   "source": [
    "f.write(\"this is my first file to write\")"
   ]
  },
  {
   "cell_type": "code",
   "execution_count": 53,
   "id": "5e04a91e-6d35-409e-93dd-a50e99022101",
   "metadata": {},
   "outputs": [],
   "source": [
    "f.close()"
   ]
  },
  {
   "cell_type": "code",
   "execution_count": 54,
   "id": "df811b47-7d64-4af9-8cff-d25fcb9b6e01",
   "metadata": {},
   "outputs": [],
   "source": [
    "f= open(\"test.txt\" ,\"w\")"
   ]
  },
  {
   "cell_type": "code",
   "execution_count": 55,
   "id": "26e2ae38-58d8-426c-9d6c-9f388eae311c",
   "metadata": {},
   "outputs": [
    {
     "data": {
      "text/plain": [
       "15"
      ]
     },
     "execution_count": 55,
     "metadata": {},
     "output_type": "execute_result"
    }
   ],
   "source": [
    "f.write(\"this is my file\")"
   ]
  },
  {
   "cell_type": "code",
   "execution_count": 56,
   "id": "3e1c7a88-7f68-4845-a456-4fe7ef39df36",
   "metadata": {},
   "outputs": [],
   "source": [
    "f.close()"
   ]
  },
  {
   "cell_type": "code",
   "execution_count": 57,
   "id": "b535ef3c-4fca-41ae-8310-8d646c70c650",
   "metadata": {},
   "outputs": [],
   "source": [
    "f = open(\"test.txt\", 'a')"
   ]
  },
  {
   "cell_type": "code",
   "execution_count": 58,
   "id": "cb6720d4-d48a-4a2d-bb18-f6d34e4305e7",
   "metadata": {},
   "outputs": [
    {
     "data": {
      "text/plain": [
       "30"
      ]
     },
     "execution_count": 58,
     "metadata": {},
     "output_type": "execute_result"
    }
   ],
   "source": [
    "f.write(\"nilfklnknnknvkjjkvjfnklnkjhfio\")"
   ]
  },
  {
   "cell_type": "code",
   "execution_count": 59,
   "id": "e4246fb1-d901-4447-a86b-31a3a5b42409",
   "metadata": {},
   "outputs": [],
   "source": [
    "f.close()"
   ]
  },
  {
   "cell_type": "code",
   "execution_count": 60,
   "id": "bdb961ba-165a-4d90-8f81-0049cefcaa10",
   "metadata": {},
   "outputs": [],
   "source": [
    "f = open(\"test.txt\",'r')"
   ]
  },
  {
   "cell_type": "code",
   "execution_count": 61,
   "id": "0b26a021-0ab1-4161-84bf-b7da6304e698",
   "metadata": {},
   "outputs": [
    {
     "data": {
      "text/plain": [
       "'this is my filenilfklnknnknvkjjkvjfnklnkjhfio'"
      ]
     },
     "execution_count": 61,
     "metadata": {},
     "output_type": "execute_result"
    }
   ],
   "source": [
    "f.read()"
   ]
  },
  {
   "cell_type": "code",
   "execution_count": 64,
   "id": "f168711f-8b98-4d9f-a6c3-a05f6966add1",
   "metadata": {},
   "outputs": [
    {
     "data": {
      "text/plain": [
       "'this is my filenilfklnknnknvkjjkvjfnklnkjhfio'"
      ]
     },
     "execution_count": 64,
     "metadata": {},
     "output_type": "execute_result"
    }
   ],
   "source": [
    "f.readline()"
   ]
  },
  {
   "cell_type": "code",
   "execution_count": 65,
   "id": "71c752a8-8b37-49ea-a818-c926c97a7922",
   "metadata": {},
   "outputs": [
    {
     "data": {
      "text/plain": [
       "0"
      ]
     },
     "execution_count": 65,
     "metadata": {},
     "output_type": "execute_result"
    }
   ],
   "source": [
    "f.seek(0)"
   ]
  },
  {
   "cell_type": "code",
   "execution_count": 66,
   "id": "4ca6c135-7d71-40b6-b354-46762c107779",
   "metadata": {},
   "outputs": [
    {
     "data": {
      "text/plain": [
       "'this is my filenilfklnknnknvkjjkvjfnklnkjhfio'"
      ]
     },
     "execution_count": 66,
     "metadata": {},
     "output_type": "execute_result"
    }
   ],
   "source": [
    "f.readline()"
   ]
  },
  {
   "cell_type": "code",
   "execution_count": 68,
   "id": "39938eef-439c-480b-9f23-989a81a010a6",
   "metadata": {},
   "outputs": [
    {
     "data": {
      "text/plain": [
       "10"
      ]
     },
     "execution_count": 68,
     "metadata": {},
     "output_type": "execute_result"
    }
   ],
   "source": [
    "f.seek(10)"
   ]
  },
  {
   "cell_type": "code",
   "execution_count": 69,
   "id": "e4fedc2f-eea5-4c38-a1e1-77b881944976",
   "metadata": {},
   "outputs": [
    {
     "data": {
      "text/plain": [
       "' filenilfklnknnknvkjjkvjfnklnkjhfio'"
      ]
     },
     "execution_count": 69,
     "metadata": {},
     "output_type": "execute_result"
    }
   ],
   "source": [
    "f.read()"
   ]
  },
  {
   "cell_type": "code",
   "execution_count": 70,
   "id": "6fe07339-ada0-4f04-b84a-787d3d562db8",
   "metadata": {},
   "outputs": [],
   "source": [
    "data1=open(\"test.txt\",\"r\")"
   ]
  },
  {
   "cell_type": "code",
   "execution_count": 71,
   "id": "f117b967-35d9-4c95-a8a3-a549b6a81181",
   "metadata": {},
   "outputs": [
    {
     "name": "stdout",
     "output_type": "stream",
     "text": [
      "this is my filenilfklnknnknvkjjkvjfnklnkjhfio\n"
     ]
    }
   ],
   "source": [
    "for i in data1:\n",
    "    print(i)"
   ]
  },
  {
   "cell_type": "code",
   "execution_count": 72,
   "id": "cc0be74f-cfe4-4579-8c4d-632b95343d29",
   "metadata": {},
   "outputs": [],
   "source": [
    "import os"
   ]
  },
  {
   "cell_type": "code",
   "execution_count": 73,
   "id": "42d2d3ca-2f53-4587-9e40-781509300d84",
   "metadata": {},
   "outputs": [
    {
     "data": {
      "text/plain": [
       "45"
      ]
     },
     "execution_count": 73,
     "metadata": {},
     "output_type": "execute_result"
    }
   ],
   "source": [
    "os.path.getsize(\"test.txt\")"
   ]
  },
  {
   "cell_type": "code",
   "execution_count": 74,
   "id": "22ca2d77-0842-47a6-81b6-11a450ab587d",
   "metadata": {},
   "outputs": [],
   "source": [
    "os.remove(\"test.txt\")"
   ]
  },
  {
   "cell_type": "code",
   "execution_count": 77,
   "id": "29792e1b-f15c-4f13-bfc7-a7c4e2c1ab26",
   "metadata": {},
   "outputs": [],
   "source": [
    "f = open(\"test.txt\",\"w\")"
   ]
  },
  {
   "cell_type": "code",
   "execution_count": 78,
   "id": "ad9a841d-aab9-4db6-8bca-b616550d83ad",
   "metadata": {},
   "outputs": [
    {
     "data": {
      "text/plain": [
       "54"
      ]
     },
     "execution_count": 78,
     "metadata": {},
     "output_type": "execute_result"
    }
   ],
   "source": [
    "f.write(\"cdfyuuihyucfgfxgvhjbn jhbvgvyuunhhjcdfxdxv ghgvhgcrrfd\")"
   ]
  },
  {
   "cell_type": "code",
   "execution_count": 79,
   "id": "db6229a6-3ce1-4067-a2e7-ba6d67234759",
   "metadata": {},
   "outputs": [],
   "source": [
    "f.close()"
   ]
  },
  {
   "cell_type": "code",
   "execution_count": 81,
   "id": "f4d2f93c-75fb-49e4-b191-d9aac8267e7c",
   "metadata": {},
   "outputs": [],
   "source": [
    "os.rename(\"test.txt\",\"new.txt\")"
   ]
  },
  {
   "cell_type": "code",
   "execution_count": 82,
   "id": "5b13d6c6-254e-4739-a025-7fc6047d386c",
   "metadata": {},
   "outputs": [],
   "source": [
    "import shutil"
   ]
  },
  {
   "cell_type": "code",
   "execution_count": 83,
   "id": "b5cada65-b592-42da-850a-92e230473771",
   "metadata": {},
   "outputs": [
    {
     "data": {
      "text/plain": [
       "'copy_new.txt'"
      ]
     },
     "execution_count": 83,
     "metadata": {},
     "output_type": "execute_result"
    }
   ],
   "source": [
    "shutil.copy(\"new.txt\" , \"copy_new.txt\")"
   ]
  },
  {
   "cell_type": "code",
   "execution_count": null,
   "id": "05298db4-670b-487b-bcfc-1e10f99b766c",
   "metadata": {},
   "outputs": [],
   "source": []
  }
 ],
 "metadata": {
  "kernelspec": {
   "display_name": "Python 3 (ipykernel)",
   "language": "python",
   "name": "python3"
  },
  "language_info": {
   "codemirror_mode": {
    "name": "ipython",
    "version": 3
   },
   "file_extension": ".py",
   "mimetype": "text/x-python",
   "name": "python",
   "nbconvert_exporter": "python",
   "pygments_lexer": "ipython3",
   "version": "3.10.8"
  }
 },
 "nbformat": 4,
 "nbformat_minor": 5
}
