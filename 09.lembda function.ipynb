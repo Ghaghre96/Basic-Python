{
 "cells": [
  {
   "cell_type": "markdown",
   "id": "08541a84-341c-4352-90cc-f84e152bb5c0",
   "metadata": {},
   "source": [
    "# lembda function"
   ]
  },
  {
   "cell_type": "markdown",
   "id": "485ce9d7-190e-417f-a46e-9e1f36fd36b2",
   "metadata": {},
   "source": [
    "### output = lambda * input : condition"
   ]
  },
  {
   "cell_type": "code",
   "execution_count": 3,
   "id": "85b937b6-518e-4ddf-aef0-73458e76241a",
   "metadata": {},
   "outputs": [],
   "source": [
    "# case find cube of any number"
   ]
  },
  {
   "cell_type": "code",
   "execution_count": 6,
   "id": "994f8f51-67aa-4f22-8832-d01c358776ff",
   "metadata": {},
   "outputs": [],
   "source": [
    "def test(n,p):\n",
    "    return n**p"
   ]
  },
  {
   "cell_type": "code",
   "execution_count": 7,
   "id": "d0215e5a-74a5-4c58-b4b7-936846c0191f",
   "metadata": {},
   "outputs": [
    {
     "data": {
      "text/plain": [
       "8"
      ]
     },
     "execution_count": 7,
     "metadata": {},
     "output_type": "execute_result"
    }
   ],
   "source": [
    "test(2,3)"
   ]
  },
  {
   "cell_type": "code",
   "execution_count": 8,
   "id": "317af729-4e03-4119-9c38-e58187871ca8",
   "metadata": {},
   "outputs": [],
   "source": [
    "# lambda is anonyms function"
   ]
  },
  {
   "cell_type": "code",
   "execution_count": 9,
   "id": "e8a928ef-582c-469a-9d85-0e62c7c9c023",
   "metadata": {},
   "outputs": [
    {
     "data": {
      "text/plain": [
       "<function __main__.<lambda>(n, p)>"
      ]
     },
     "execution_count": 9,
     "metadata": {},
     "output_type": "execute_result"
    }
   ],
   "source": [
    "lambda n,p:n**p"
   ]
  },
  {
   "cell_type": "code",
   "execution_count": 10,
   "id": "f5983d6c-c173-46df-a1f2-466a08dcfdc3",
   "metadata": {},
   "outputs": [],
   "source": [
    "a=lambda n,p:n**p"
   ]
  },
  {
   "cell_type": "code",
   "execution_count": 11,
   "id": "65df2c35-130a-4a53-a65b-a0bf325540fa",
   "metadata": {},
   "outputs": [
    {
     "data": {
      "text/plain": [
       "8"
      ]
     },
     "execution_count": 11,
     "metadata": {},
     "output_type": "execute_result"
    }
   ],
   "source": [
    "a(2,3)"
   ]
  },
  {
   "cell_type": "code",
   "execution_count": 12,
   "id": "8398dcac-cf43-4ed4-bc13-b840fe0a24a4",
   "metadata": {},
   "outputs": [],
   "source": [
    "def value(a,b):\n",
    "    sum=a+b\n",
    "    return(sum)"
   ]
  },
  {
   "cell_type": "code",
   "execution_count": 13,
   "id": "c738f8ef-f1b1-48e5-b857-9b2a28a8dd81",
   "metadata": {},
   "outputs": [
    {
     "data": {
      "text/plain": [
       "8"
      ]
     },
     "execution_count": 13,
     "metadata": {},
     "output_type": "execute_result"
    }
   ],
   "source": [
    "value(3,5)"
   ]
  },
  {
   "cell_type": "code",
   "execution_count": 17,
   "id": "1c2dd4f0-2209-41a4-8df0-c5c31a249ffa",
   "metadata": {},
   "outputs": [],
   "source": [
    "add=lambda a,b:a+b"
   ]
  },
  {
   "cell_type": "code",
   "execution_count": 18,
   "id": "8055e678-3d95-40e4-874f-e5552d44fe7f",
   "metadata": {},
   "outputs": [
    {
     "data": {
      "text/plain": [
       "5"
      ]
     },
     "execution_count": 18,
     "metadata": {},
     "output_type": "execute_result"
    }
   ],
   "source": [
    "add(3,2)"
   ]
  },
  {
   "cell_type": "code",
   "execution_count": 19,
   "id": "e1bc39d0-9361-430f-a8b0-bed7509a790b",
   "metadata": {},
   "outputs": [],
   "source": [
    "# case- celsius to feranhight"
   ]
  },
  {
   "cell_type": "code",
   "execution_count": 20,
   "id": "7779d902-834e-4ac3-8923-6460b589a57f",
   "metadata": {},
   "outputs": [],
   "source": [
    "c_to_f=lambda c:(9/5)*c+32"
   ]
  },
  {
   "cell_type": "code",
   "execution_count": 22,
   "id": "dbb5a380-6904-471f-871b-2a5f63a37d51",
   "metadata": {},
   "outputs": [
    {
     "data": {
      "text/plain": [
       "95.0"
      ]
     },
     "execution_count": 22,
     "metadata": {},
     "output_type": "execute_result"
    }
   ],
   "source": [
    "c_to_f(35)"
   ]
  },
  {
   "cell_type": "code",
   "execution_count": 23,
   "id": "ab5b86c0-5522-4f8b-b30a-6eb7f97b30ea",
   "metadata": {},
   "outputs": [
    {
     "data": {
      "text/plain": [
       "96.8"
      ]
     },
     "execution_count": 23,
     "metadata": {},
     "output_type": "execute_result"
    }
   ],
   "source": [
    "c_to_f(36)"
   ]
  },
  {
   "cell_type": "code",
   "execution_count": 24,
   "id": "510bf27b-9fd2-4fc8-bdbd-cfd45aba47f7",
   "metadata": {},
   "outputs": [],
   "source": [
    "# find greater"
   ]
  },
  {
   "cell_type": "code",
   "execution_count": 25,
   "id": "1a121274-7af2-4f98-9bcd-1f6680ef3cbb",
   "metadata": {},
   "outputs": [],
   "source": [
    "maximum = lambda x,y: x if x>y else y"
   ]
  },
  {
   "cell_type": "code",
   "execution_count": 26,
   "id": "7cae9e9b-3bc5-43b0-924d-f05a997d1d4e",
   "metadata": {},
   "outputs": [
    {
     "data": {
      "text/plain": [
       "35"
      ]
     },
     "execution_count": 26,
     "metadata": {},
     "output_type": "execute_result"
    }
   ],
   "source": [
    "maximum(34,35)"
   ]
  },
  {
   "cell_type": "code",
   "execution_count": 27,
   "id": "d91f34a7-2166-4e49-9949-12fe79f426cd",
   "metadata": {},
   "outputs": [
    {
     "data": {
      "text/plain": [
       "35"
      ]
     },
     "execution_count": 27,
     "metadata": {},
     "output_type": "execute_result"
    }
   ],
   "source": [
    "maximum(23,35)"
   ]
  },
  {
   "cell_type": "code",
   "execution_count": 28,
   "id": "6c4fc1e9-b295-42e1-8ba8-ec62f69a9f8a",
   "metadata": {},
   "outputs": [],
   "source": [
    "s=\"sourabh\""
   ]
  },
  {
   "cell_type": "code",
   "execution_count": 29,
   "id": "48873b07-580f-4044-9991-3996bd9b1038",
   "metadata": {},
   "outputs": [],
   "source": [
    "find_len= lambda s : len(s)"
   ]
  },
  {
   "cell_type": "code",
   "execution_count": 30,
   "id": "cbdeff86-ae02-4ae8-b00b-53da47d9e170",
   "metadata": {},
   "outputs": [
    {
     "data": {
      "text/plain": [
       "7"
      ]
     },
     "execution_count": 30,
     "metadata": {},
     "output_type": "execute_result"
    }
   ],
   "source": [
    "find_len(s)"
   ]
  },
  {
   "cell_type": "code",
   "execution_count": null,
   "id": "2f728397-8aad-4c53-b6a8-955e3ddc3c98",
   "metadata": {},
   "outputs": [],
   "source": []
  }
 ],
 "metadata": {
  "kernelspec": {
   "display_name": "Python 3 (ipykernel)",
   "language": "python",
   "name": "python3"
  },
  "language_info": {
   "codemirror_mode": {
    "name": "ipython",
    "version": 3
   },
   "file_extension": ".py",
   "mimetype": "text/x-python",
   "name": "python",
   "nbconvert_exporter": "python",
   "pygments_lexer": "ipython3",
   "version": "3.10.8"
  }
 },
 "nbformat": 4,
 "nbformat_minor": 5
}
