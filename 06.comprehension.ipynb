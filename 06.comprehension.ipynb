{
 "cells": [
  {
   "cell_type": "code",
   "execution_count": 1,
   "id": "72b089bc-deea-4d07-9f58-b130870388c2",
   "metadata": {},
   "outputs": [],
   "source": [
    "l=[1,2,3,4,5]"
   ]
  },
  {
   "cell_type": "code",
   "execution_count": 5,
   "id": "26071caa-97a0-404c-8d9b-d42259c52bfb",
   "metadata": {},
   "outputs": [],
   "source": [
    "l1=[]\n",
    "for i in l:\n",
    "    l1.append(i**2)"
   ]
  },
  {
   "cell_type": "code",
   "execution_count": 6,
   "id": "6417ac48-fe14-4faf-af85-319ec541c9c1",
   "metadata": {},
   "outputs": [
    {
     "data": {
      "text/plain": [
       "[1, 4, 9, 16, 25]"
      ]
     },
     "execution_count": 6,
     "metadata": {},
     "output_type": "execute_result"
    }
   ],
   "source": [
    "l1"
   ]
  },
  {
   "cell_type": "markdown",
   "id": "6bcac8ac-875d-4028-83ce-07fdd8c9aa99",
   "metadata": {},
   "source": [
    "# comprehension way"
   ]
  },
  {
   "cell_type": "markdown",
   "id": "790f2109-cef6-43c5-a0d3-780f73518392",
   "metadata": {},
   "source": [
    "# [output, loop, condition ]"
   ]
  },
  {
   "cell_type": "code",
   "execution_count": 8,
   "id": "185243af-ace8-46ec-a44f-6de91b5dc0e1",
   "metadata": {},
   "outputs": [
    {
     "data": {
      "text/plain": [
       "[1, 4, 9, 16, 25]"
      ]
     },
     "execution_count": 8,
     "metadata": {},
     "output_type": "execute_result"
    }
   ],
   "source": [
    "[i**2 for i in l]"
   ]
  },
  {
   "cell_type": "code",
   "execution_count": 10,
   "id": "4aaa4e17-dbec-45d1-8705-31ebac2b1991",
   "metadata": {},
   "outputs": [
    {
     "data": {
      "text/plain": [
       "[2, 4]"
      ]
     },
     "execution_count": 10,
     "metadata": {},
     "output_type": "execute_result"
    }
   ],
   "source": [
    "[i for i in l if i%2==0]"
   ]
  },
  {
   "cell_type": "code",
   "execution_count": 11,
   "id": "9c982fba-572c-45c1-a93f-05ed4f62a62d",
   "metadata": {},
   "outputs": [],
   "source": [
    "l2=[\"sourabh\",\"ghaghre\",\"bhai\"]"
   ]
  },
  {
   "cell_type": "code",
   "execution_count": 12,
   "id": "9de12b15-a551-4ebf-8513-b32867c61d53",
   "metadata": {},
   "outputs": [
    {
     "data": {
      "text/plain": [
       "['SOURABH', 'GHAGHRE', 'BHAI']"
      ]
     },
     "execution_count": 12,
     "metadata": {},
     "output_type": "execute_result"
    }
   ],
   "source": [
    "[i.upper() for i in l2]"
   ]
  },
  {
   "cell_type": "code",
   "execution_count": 16,
   "id": "e24d26fe-1bc9-4d4b-a3e3-84c142a44ec3",
   "metadata": {},
   "outputs": [
    {
     "data": {
      "text/plain": [
       "[1, 4, 9, 16, 25]"
      ]
     },
     "execution_count": 16,
     "metadata": {},
     "output_type": "execute_result"
    }
   ],
   "source": [
    "list(i**2 for i in l) # tuple compherihension"
   ]
  },
  {
   "cell_type": "code",
   "execution_count": 17,
   "id": "ebba12b3-b1d5-40ab-976f-6b7f3c813fca",
   "metadata": {},
   "outputs": [],
   "source": [
    "d ={\"key1\":1, \"key2\":2, \"key3\":3}"
   ]
  },
  {
   "cell_type": "code",
   "execution_count": 21,
   "id": "6489d865-66d4-430d-814a-d402c27ea362",
   "metadata": {},
   "outputs": [
    {
     "data": {
      "text/plain": [
       "{'key1': 1, 'key2': 4, 'key3': 9}"
      ]
     },
     "execution_count": 21,
     "metadata": {},
     "output_type": "execute_result"
    }
   ],
   "source": [
    "{k:v**2 for k, v in d.items()}"
   ]
  },
  {
   "cell_type": "code",
   "execution_count": 22,
   "id": "99b75021-8bda-425c-859a-dad3fb1c2af8",
   "metadata": {},
   "outputs": [
    {
     "data": {
      "text/plain": [
       "{'key1': 1, 'key2': 2, 'key3': 3}"
      ]
     },
     "execution_count": 22,
     "metadata": {},
     "output_type": "execute_result"
    }
   ],
   "source": [
    "d"
   ]
  },
  {
   "cell_type": "code",
   "execution_count": 25,
   "id": "2998e740-cc44-4fc1-9d45-3d2ff8b7c6e7",
   "metadata": {},
   "outputs": [
    {
     "data": {
      "text/plain": [
       "{'key2': 2, 'key3': 3}"
      ]
     },
     "execution_count": 25,
     "metadata": {},
     "output_type": "execute_result"
    }
   ],
   "source": [
    "{k:v for k,v in d.items() if v>1}"
   ]
  },
  {
   "cell_type": "code",
   "execution_count": null,
   "id": "464a1938-d70b-4f22-8cc8-0b20dc151a08",
   "metadata": {},
   "outputs": [],
   "source": []
  }
 ],
 "metadata": {
  "kernelspec": {
   "display_name": "Python 3 (ipykernel)",
   "language": "python",
   "name": "python3"
  },
  "language_info": {
   "codemirror_mode": {
    "name": "ipython",
    "version": 3
   },
   "file_extension": ".py",
   "mimetype": "text/x-python",
   "name": "python",
   "nbconvert_exporter": "python",
   "pygments_lexer": "ipython3",
   "version": "3.10.8"
  }
 },
 "nbformat": 4,
 "nbformat_minor": 5
}
