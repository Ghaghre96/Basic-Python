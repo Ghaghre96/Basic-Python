{
 "cells": [
  {
   "cell_type": "markdown",
   "id": "cfcf38df-d2ec-4043-ba5f-0cffb9bd9e36",
   "metadata": {},
   "source": [
    "# Dictonary , Conditional AND loop"
   ]
  },
  {
   "cell_type": "markdown",
   "id": "03f5e3b2-6977-43f2-87b8-809a0b6af8e4",
   "metadata": {},
   "source": [
    "## dict is mutable"
   ]
  },
  {
   "cell_type": "code",
   "execution_count": 2,
   "id": "d5089d43-abf0-4fc1-bb04-d1628498b529",
   "metadata": {},
   "outputs": [],
   "source": [
    "d={}"
   ]
  },
  {
   "cell_type": "code",
   "execution_count": 3,
   "id": "0b267139-848d-4710-aece-3959aa28b2a4",
   "metadata": {},
   "outputs": [
    {
     "data": {
      "text/plain": [
       "dict"
      ]
     },
     "execution_count": 3,
     "metadata": {},
     "output_type": "execute_result"
    }
   ],
   "source": [
    "type(d)"
   ]
  },
  {
   "cell_type": "code",
   "execution_count": 4,
   "id": "b2f22487-615b-444d-a2c5-1e7afef7e411",
   "metadata": {},
   "outputs": [],
   "source": [
    "d1={\"key\":\"value\"}"
   ]
  },
  {
   "cell_type": "code",
   "execution_count": 5,
   "id": "7a69b37e-acf7-4efd-a64e-ae1f3d8be19c",
   "metadata": {},
   "outputs": [
    {
     "data": {
      "text/plain": [
       "{'key': 'value'}"
      ]
     },
     "execution_count": 5,
     "metadata": {},
     "output_type": "execute_result"
    }
   ],
   "source": [
    "d1"
   ]
  },
  {
   "cell_type": "code",
   "execution_count": 6,
   "id": "0af95887-27f9-44e4-887d-5508eab4f882",
   "metadata": {},
   "outputs": [],
   "source": [
    "d2={\"name\":\"sourabh\",\"surname\":\"ghaghre\"}"
   ]
  },
  {
   "cell_type": "code",
   "execution_count": 7,
   "id": "844574f5-d060-4b11-9abf-4d1a47cdc266",
   "metadata": {},
   "outputs": [
    {
     "data": {
      "text/plain": [
       "{'name': 'sourabh', 'surname': 'ghaghre'}"
      ]
     },
     "execution_count": 7,
     "metadata": {},
     "output_type": "execute_result"
    }
   ],
   "source": [
    "d2"
   ]
  },
  {
   "cell_type": "code",
   "execution_count": 8,
   "id": "580b3c23-4002-430d-aea6-d92fb5cb736a",
   "metadata": {},
   "outputs": [],
   "source": [
    "d3={786:\"mango\"}"
   ]
  },
  {
   "cell_type": "code",
   "execution_count": 9,
   "id": "8e7a30f5-f3be-4039-8d9b-4751b7a8f94d",
   "metadata": {},
   "outputs": [
    {
     "data": {
      "text/plain": [
       "{786: 'mango'}"
      ]
     },
     "execution_count": 9,
     "metadata": {},
     "output_type": "execute_result"
    }
   ],
   "source": [
    "d3"
   ]
  },
  {
   "cell_type": "code",
   "execution_count": 10,
   "id": "b4fd0dc9-a2ed-4ce7-a532-254b44bbb0c1",
   "metadata": {},
   "outputs": [
    {
     "ename": "SyntaxError",
     "evalue": "invalid syntax (2872406787.py, line 1)",
     "output_type": "error",
     "traceback": [
      "\u001b[0;36m  Cell \u001b[0;32mIn[10], line 1\u001b[0;36m\u001b[0m\n\u001b[0;31m    d4={\"name\":@} # does not take special character\u001b[0m\n\u001b[0m               ^\u001b[0m\n\u001b[0;31mSyntaxError\u001b[0m\u001b[0;31m:\u001b[0m invalid syntax\n"
     ]
    }
   ],
   "source": [
    "d4={\"name\":@} # does not take special character"
   ]
  },
  {
   "cell_type": "code",
   "execution_count": 11,
   "id": "e39755e1-2c15-499f-8f23-66e7ae5af5a3",
   "metadata": {},
   "outputs": [],
   "source": [
    "d5={'a':4,True:\"yes\",\"b\":6,\"c\":8}"
   ]
  },
  {
   "cell_type": "code",
   "execution_count": 12,
   "id": "79a73cf9-5a6a-46b5-adcb-62b75d5eb0d4",
   "metadata": {},
   "outputs": [
    {
     "data": {
      "text/plain": [
       "{'a': 4, True: 'yes', 'b': 6, 'c': 8}"
      ]
     },
     "execution_count": 12,
     "metadata": {},
     "output_type": "execute_result"
    }
   ],
   "source": [
    "d5"
   ]
  },
  {
   "cell_type": "markdown",
   "id": "12782b2f-d551-4ce5-a98b-33928e73572d",
   "metadata": {},
   "source": [
    "### dictionary don't take index , if you want to extract any value you have to use KEY"
   ]
  },
  {
   "cell_type": "code",
   "execution_count": 13,
   "id": "b9e8d42e-1219-4a8c-a956-cb0ad2c76742",
   "metadata": {},
   "outputs": [
    {
     "data": {
      "text/plain": [
       "4"
      ]
     },
     "execution_count": 13,
     "metadata": {},
     "output_type": "execute_result"
    }
   ],
   "source": [
    "d5['a']"
   ]
  },
  {
   "cell_type": "code",
   "execution_count": 14,
   "id": "54c23a5e-8f6d-49de-b5de-698b5c3269c4",
   "metadata": {},
   "outputs": [
    {
     "data": {
      "text/plain": [
       "'yes'"
      ]
     },
     "execution_count": 14,
     "metadata": {},
     "output_type": "execute_result"
    }
   ],
   "source": [
    "d5[True]"
   ]
  },
  {
   "cell_type": "code",
   "execution_count": 15,
   "id": "053d209e-20eb-4f26-af57-b31303070bcd",
   "metadata": {},
   "outputs": [],
   "source": [
    "d6={\"a\":4,\"b\":5,\"c\":5,\"a\":300}"
   ]
  },
  {
   "cell_type": "code",
   "execution_count": 16,
   "id": "ef737e91-c5c0-43f7-acea-c090ae1bc88f",
   "metadata": {},
   "outputs": [
    {
     "data": {
      "text/plain": [
       "{'a': 300, 'b': 5, 'c': 5}"
      ]
     },
     "execution_count": 16,
     "metadata": {},
     "output_type": "execute_result"
    }
   ],
   "source": [
    "d6"
   ]
  },
  {
   "cell_type": "code",
   "execution_count": 17,
   "id": "28664f7b-2e5a-4208-afa4-6fad0f6a3aaf",
   "metadata": {},
   "outputs": [
    {
     "data": {
      "text/plain": [
       "300"
      ]
     },
     "execution_count": 17,
     "metadata": {},
     "output_type": "execute_result"
    }
   ],
   "source": [
    "d6[\"a\"]"
   ]
  },
  {
   "cell_type": "markdown",
   "id": "b7e98970-7b9c-45ee-a74f-ce5f24a7243e",
   "metadata": {},
   "source": [
    "## dict always take unique value\n",
    "## means always new (last) value legi"
   ]
  },
  {
   "cell_type": "code",
   "execution_count": 18,
   "id": "e771e9ca-3ed5-4189-b7fe-e10ae5676c92",
   "metadata": {},
   "outputs": [],
   "source": [
    "a={\"n\":45,\"m\":76,\"x\":[\"sourabh\",456,\"ghaghre\"]}"
   ]
  },
  {
   "cell_type": "code",
   "execution_count": 19,
   "id": "7804e477-d29b-45db-8a4e-90b6444a9991",
   "metadata": {},
   "outputs": [
    {
     "data": {
      "text/plain": [
       "{'n': 45, 'm': 76, 'x': ['sourabh', 456, 'ghaghre']}"
      ]
     },
     "execution_count": 19,
     "metadata": {},
     "output_type": "execute_result"
    }
   ],
   "source": [
    "a"
   ]
  },
  {
   "cell_type": "code",
   "execution_count": 20,
   "id": "bfb0e81c-67ad-4e44-8e7c-5c7ffab80dab",
   "metadata": {},
   "outputs": [
    {
     "data": {
      "text/plain": [
       "['sourabh', 456, 'ghaghre']"
      ]
     },
     "execution_count": 20,
     "metadata": {},
     "output_type": "execute_result"
    }
   ],
   "source": [
    "a[\"x\"]"
   ]
  },
  {
   "cell_type": "code",
   "execution_count": 21,
   "id": "28c06dfa-c01e-42b4-a063-59b501ccccb2",
   "metadata": {},
   "outputs": [
    {
     "data": {
      "text/plain": [
       "['sourabh', 'ghaghre']"
      ]
     },
     "execution_count": 21,
     "metadata": {},
     "output_type": "execute_result"
    }
   ],
   "source": [
    "a['x'][::2]"
   ]
  },
  {
   "cell_type": "code",
   "execution_count": 22,
   "id": "92600bfc-8fc1-4f19-8d0f-c0301680d8e3",
   "metadata": {},
   "outputs": [
    {
     "data": {
      "text/plain": [
       "456"
      ]
     },
     "execution_count": 22,
     "metadata": {},
     "output_type": "execute_result"
    }
   ],
   "source": [
    "a[\"x\"][1]"
   ]
  },
  {
   "cell_type": "markdown",
   "id": "66cfc2cf-d595-42c7-b0e1-9b73bdd95d98",
   "metadata": {},
   "source": [
    "# key as a LIST, TUPLE, SET, DICTIONARY"
   ]
  },
  {
   "cell_type": "code",
   "execution_count": 33,
   "id": "569286c1-d5aa-4b0f-af04-57e0c65a444d",
   "metadata": {},
   "outputs": [],
   "source": [
    "a1={\"number\":[2,34,3,34,34],\"assignment\":(1,2,3,4,5,6),\"launch_date\":{28,12,14},\"class_time\":{\"sou\":12,\"b\":10}}"
   ]
  },
  {
   "cell_type": "code",
   "execution_count": 34,
   "id": "89743746-9829-4fec-9f77-222fb675dbd5",
   "metadata": {},
   "outputs": [
    {
     "data": {
      "text/plain": [
       "{'number': [2, 34, 3, 34, 34],\n",
       " 'assignment': (1, 2, 3, 4, 5, 6),\n",
       " 'launch_date': {12, 14, 28},\n",
       " 'class_time': {'sou': 12, 'b': 10}}"
      ]
     },
     "execution_count": 34,
     "metadata": {},
     "output_type": "execute_result"
    }
   ],
   "source": [
    "a1"
   ]
  },
  {
   "cell_type": "code",
   "execution_count": 37,
   "id": "5e9d5054-3a05-433e-b2be-2dc1ca163341",
   "metadata": {},
   "outputs": [
    {
     "data": {
      "text/plain": [
       "{'sou': 12, 'b': 10}"
      ]
     },
     "execution_count": 37,
     "metadata": {},
     "output_type": "execute_result"
    }
   ],
   "source": [
    "a1['class_time']"
   ]
  },
  {
   "cell_type": "code",
   "execution_count": 39,
   "id": "ce137dfe-5ac5-4bfe-be10-af19c6ee8414",
   "metadata": {},
   "outputs": [
    {
     "data": {
      "text/plain": [
       "10"
      ]
     },
     "execution_count": 39,
     "metadata": {},
     "output_type": "execute_result"
    }
   ],
   "source": [
    "a1['class_time']['b']"
   ]
  },
  {
   "cell_type": "code",
   "execution_count": 40,
   "id": "a9de4d97-e14d-457e-afa4-26bc00dc1bf8",
   "metadata": {},
   "outputs": [
    {
     "data": {
      "text/plain": [
       "2"
      ]
     },
     "execution_count": 40,
     "metadata": {},
     "output_type": "execute_result"
    }
   ],
   "source": [
    "a1['assignment'][1]"
   ]
  },
  {
   "cell_type": "code",
   "execution_count": 41,
   "id": "525493ed-72fd-4248-8951-847c99cee3b6",
   "metadata": {},
   "outputs": [
    {
     "data": {
      "text/plain": [
       "{12, 14, 28}"
      ]
     },
     "execution_count": 41,
     "metadata": {},
     "output_type": "execute_result"
    }
   ],
   "source": [
    "a1['launch_date']"
   ]
  },
  {
   "cell_type": "code",
   "execution_count": 43,
   "id": "0172ced4-7ac9-40de-af24-17c2180bc253",
   "metadata": {},
   "outputs": [
    {
     "data": {
      "text/plain": [
       "{12, 14, 28}"
      ]
     },
     "execution_count": 43,
     "metadata": {},
     "output_type": "execute_result"
    }
   ],
   "source": [
    "a1['launch_date']"
   ]
  },
  {
   "cell_type": "markdown",
   "id": "e812fb13-d0db-47c6-82b8-637afcb57701",
   "metadata": {},
   "source": [
    "# addition/delect "
   ]
  },
  {
   "cell_type": "code",
   "execution_count": 45,
   "id": "80f06273-f48a-4639-8031-e8eda5eaf5e1",
   "metadata": {},
   "outputs": [],
   "source": [
    "a1[\"marks\"] ={'excel':35,'sql':43}"
   ]
  },
  {
   "cell_type": "code",
   "execution_count": 46,
   "id": "ee402ed2-8210-4e36-8eb5-43f79b118f8e",
   "metadata": {},
   "outputs": [
    {
     "data": {
      "text/plain": [
       "{'number': [2, 34, 3, 34, 34],\n",
       " 'assignment': (1, 2, 3, 4, 5, 6),\n",
       " 'launch_date': {12, 14, 28},\n",
       " 'class_time': {'sou': 12, 'b': 10},\n",
       " 'marks': {'excel': 35, 'sql': 43}}"
      ]
     },
     "execution_count": 46,
     "metadata": {},
     "output_type": "execute_result"
    }
   ],
   "source": [
    "a1"
   ]
  },
  {
   "cell_type": "code",
   "execution_count": 49,
   "id": "af9b63be-12ca-4465-a28c-08823033ebb3",
   "metadata": {},
   "outputs": [],
   "source": [
    "a1['fruit']=[\"mango\",'banana']"
   ]
  },
  {
   "cell_type": "code",
   "execution_count": 50,
   "id": "f6d6dc05-11ba-4937-842b-d4d6a1bb3461",
   "metadata": {},
   "outputs": [
    {
     "data": {
      "text/plain": [
       "{'number': [2, 34, 3, 34, 34],\n",
       " 'assignment': (1, 2, 3, 4, 5, 6),\n",
       " 'launch_date': {12, 14, 28},\n",
       " 'class_time': {'sou': 12, 'b': 10},\n",
       " 'marks': {'excel': 35, 'sql': 43},\n",
       " 'fruit': ['mango', 'banana']}"
      ]
     },
     "execution_count": 50,
     "metadata": {},
     "output_type": "execute_result"
    }
   ],
   "source": [
    "a1"
   ]
  },
  {
   "cell_type": "code",
   "execution_count": 52,
   "id": "01c28498-8bdf-445c-bd11-08d36c24e8f7",
   "metadata": {},
   "outputs": [],
   "source": [
    "del a1['number']"
   ]
  },
  {
   "cell_type": "code",
   "execution_count": 53,
   "id": "1a721c57-cb3f-4d23-a826-7f7e8870db7d",
   "metadata": {},
   "outputs": [
    {
     "data": {
      "text/plain": [
       "{'assignment': (1, 2, 3, 4, 5, 6),\n",
       " 'launch_date': {12, 14, 28},\n",
       " 'class_time': {'sou': 12, 'b': 10},\n",
       " 'marks': {'excel': 35, 'sql': 43},\n",
       " 'fruit': ['mango', 'banana']}"
      ]
     },
     "execution_count": 53,
     "metadata": {},
     "output_type": "execute_result"
    }
   ],
   "source": [
    "a1"
   ]
  },
  {
   "cell_type": "code",
   "execution_count": 54,
   "id": "5c7bd994-b526-4dc5-ba26-9c3d97b022a3",
   "metadata": {},
   "outputs": [
    {
     "data": {
      "text/plain": [
       "dict_keys(['assignment', 'launch_date', 'class_time', 'marks', 'fruit'])"
      ]
     },
     "execution_count": 54,
     "metadata": {},
     "output_type": "execute_result"
    }
   ],
   "source": [
    "a1.keys()"
   ]
  },
  {
   "cell_type": "code",
   "execution_count": 56,
   "id": "11f58932-d88c-4416-a19c-976b5eb60829",
   "metadata": {},
   "outputs": [
    {
     "data": {
      "text/plain": [
       "['assignment', 'launch_date', 'class_time', 'marks', 'fruit']"
      ]
     },
     "execution_count": 56,
     "metadata": {},
     "output_type": "execute_result"
    }
   ],
   "source": [
    "list(a1.keys())"
   ]
  },
  {
   "cell_type": "code",
   "execution_count": 57,
   "id": "86def163-ca02-457b-a4c4-c1796d823108",
   "metadata": {},
   "outputs": [
    {
     "data": {
      "text/plain": [
       "dict_values([(1, 2, 3, 4, 5, 6), {28, 12, 14}, {'sou': 12, 'b': 10}, {'excel': 35, 'sql': 43}, ['mango', 'banana']])"
      ]
     },
     "execution_count": 57,
     "metadata": {},
     "output_type": "execute_result"
    }
   ],
   "source": [
    "a1.values()"
   ]
  },
  {
   "cell_type": "code",
   "execution_count": 58,
   "id": "9efe3163-215e-4c2d-9dbc-157e2462b342",
   "metadata": {},
   "outputs": [
    {
     "data": {
      "text/plain": [
       "[(1, 2, 3, 4, 5, 6),\n",
       " {12, 14, 28},\n",
       " {'sou': 12, 'b': 10},\n",
       " {'excel': 35, 'sql': 43},\n",
       " ['mango', 'banana']]"
      ]
     },
     "execution_count": 58,
     "metadata": {},
     "output_type": "execute_result"
    }
   ],
   "source": [
    "list(a1.values())"
   ]
  },
  {
   "cell_type": "code",
   "execution_count": 59,
   "id": "f2b4b929-cb22-42e1-b9c5-c2e1aec2c05c",
   "metadata": {},
   "outputs": [
    {
     "data": {
      "text/plain": [
       "dict_items([('assignment', (1, 2, 3, 4, 5, 6)), ('launch_date', {28, 12, 14}), ('class_time', {'sou': 12, 'b': 10}), ('marks', {'excel': 35, 'sql': 43}), ('fruit', ['mango', 'banana'])])"
      ]
     },
     "execution_count": 59,
     "metadata": {},
     "output_type": "execute_result"
    }
   ],
   "source": [
    "a1.items()"
   ]
  },
  {
   "cell_type": "code",
   "execution_count": 61,
   "id": "e5ad1ed1-b9ae-4dfb-be37-b87beb9442a6",
   "metadata": {},
   "outputs": [
    {
     "data": {
      "text/plain": [
       "[('assignment', (1, 2, 3, 4, 5, 6)),\n",
       " ('launch_date', {12, 14, 28}),\n",
       " ('class_time', {'sou': 12, 'b': 10}),\n",
       " ('marks', {'excel': 35, 'sql': 43}),\n",
       " ('fruit', ['mango', 'banana'])]"
      ]
     },
     "execution_count": 61,
     "metadata": {},
     "output_type": "execute_result"
    }
   ],
   "source": [
    "list(a1.items())"
   ]
  },
  {
   "cell_type": "code",
   "execution_count": 62,
   "id": "cdc7dac1-e9e1-447c-8322-21251885fec9",
   "metadata": {},
   "outputs": [
    {
     "data": {
      "text/plain": [
       "(1, 2, 3, 4, 5, 6)"
      ]
     },
     "execution_count": 62,
     "metadata": {},
     "output_type": "execute_result"
    }
   ],
   "source": [
    "a1.pop(\"assignment\")"
   ]
  },
  {
   "cell_type": "code",
   "execution_count": 63,
   "id": "0a9795f3-fa12-4696-83c3-95752cec25cd",
   "metadata": {},
   "outputs": [
    {
     "data": {
      "text/plain": [
       "{'launch_date': {12, 14, 28},\n",
       " 'class_time': {'sou': 12, 'b': 10},\n",
       " 'marks': {'excel': 35, 'sql': 43},\n",
       " 'fruit': ['mango', 'banana']}"
      ]
     },
     "execution_count": 63,
     "metadata": {},
     "output_type": "execute_result"
    }
   ],
   "source": [
    "a1"
   ]
  },
  {
   "cell_type": "code",
   "execution_count": 64,
   "id": "1af38cef-da39-43b9-9382-ce9c3c9f819c",
   "metadata": {},
   "outputs": [
    {
     "ename": "TypeError",
     "evalue": "pop expected at least 1 argument, got 0",
     "output_type": "error",
     "traceback": [
      "\u001b[0;31m---------------------------------------------------------------------------\u001b[0m",
      "\u001b[0;31mTypeError\u001b[0m                                 Traceback (most recent call last)",
      "Cell \u001b[0;32mIn[64], line 1\u001b[0m\n\u001b[0;32m----> 1\u001b[0m \u001b[43ma1\u001b[49m\u001b[38;5;241;43m.\u001b[39;49m\u001b[43mpop\u001b[49m\u001b[43m(\u001b[49m\u001b[43m)\u001b[49m\n",
      "\u001b[0;31mTypeError\u001b[0m: pop expected at least 1 argument, got 0"
     ]
    }
   ],
   "source": [
    "a1.pop()"
   ]
  },
  {
   "cell_type": "code",
   "execution_count": null,
   "id": "61a11e3d-dda6-424c-bc6b-a9f36f6776c4",
   "metadata": {},
   "outputs": [],
   "source": []
  },
  {
   "cell_type": "code",
   "execution_count": null,
   "id": "61ba8d94-6b52-412a-a8e5-6babb8bc2836",
   "metadata": {},
   "outputs": [],
   "source": []
  },
  {
   "cell_type": "markdown",
   "id": "8df6b3de-e4d2-49a1-a2a3-884738b1c4b2",
   "metadata": {},
   "source": [
    "# conditional"
   ]
  },
  {
   "cell_type": "code",
   "execution_count": 85,
   "id": "d8b8ea10-5a85-4f3b-99b7-f94bd5695401",
   "metadata": {},
   "outputs": [],
   "source": [
    "a=20\n",
    "b=30"
   ]
  },
  {
   "cell_type": "code",
   "execution_count": 86,
   "id": "0c8efeb7-367b-4897-b6c5-d1ff5cf6c31e",
   "metadata": {},
   "outputs": [
    {
     "data": {
      "text/plain": [
       "True"
      ]
     },
     "execution_count": 86,
     "metadata": {},
     "output_type": "execute_result"
    }
   ],
   "source": [
    "a<b"
   ]
  },
  {
   "cell_type": "code",
   "execution_count": 87,
   "id": "29563fd8-e739-471e-82bf-833c11962d01",
   "metadata": {},
   "outputs": [
    {
     "data": {
      "text/plain": [
       "False"
      ]
     },
     "execution_count": 87,
     "metadata": {},
     "output_type": "execute_result"
    }
   ],
   "source": [
    "a>b"
   ]
  },
  {
   "cell_type": "code",
   "execution_count": 88,
   "id": "bac3f1dc-b437-46ab-a758-8e4d0bf36581",
   "metadata": {},
   "outputs": [
    {
     "data": {
      "text/plain": [
       "False"
      ]
     },
     "execution_count": 88,
     "metadata": {},
     "output_type": "execute_result"
    }
   ],
   "source": [
    "a==b"
   ]
  },
  {
   "cell_type": "code",
   "execution_count": 89,
   "id": "26a5cdd8-7691-4fd5-9910-46b87a641752",
   "metadata": {},
   "outputs": [
    {
     "data": {
      "text/plain": [
       "True"
      ]
     },
     "execution_count": 89,
     "metadata": {},
     "output_type": "execute_result"
    }
   ],
   "source": [
    "a!=b"
   ]
  },
  {
   "cell_type": "code",
   "execution_count": 90,
   "id": "fb27e37b-0ff0-437a-b05e-75c8657fd3fb",
   "metadata": {},
   "outputs": [
    {
     "name": "stdout",
     "output_type": "stream",
     "text": [
      "b is grater than a\n"
     ]
    }
   ],
   "source": [
    "if a>=b:\n",
    "    print(\"a is grater than b \")\n",
    "elif a==b:\n",
    "    print(\"a is equal to b\")\n",
    "else:\n",
    "    print(\"b is grater than a\")"
   ]
  },
  {
   "cell_type": "code",
   "execution_count": 91,
   "id": "c08ccd52-897e-4115-a734-c8d9a172633c",
   "metadata": {},
   "outputs": [],
   "source": [
    "student=100\n",
    "boys=40\n",
    "girls=60"
   ]
  },
  {
   "cell_type": "code",
   "execution_count": 96,
   "id": "e1456153-36e3-4cea-a47f-c188b6f3aea1",
   "metadata": {},
   "outputs": [
    {
     "name": "stdout",
     "output_type": "stream",
     "text": [
      "they will dance\n"
     ]
    }
   ],
   "source": [
    "if boys>=girls:\n",
    "    print('boys will rock')\n",
    "elif girls == boys:\n",
    "    print('both will rock')\n",
    "elif girls>50:\n",
    "    print(\"they will dance\")\n",
    "else:\n",
    "    print(\"dance dance\")"
   ]
  },
  {
   "cell_type": "code",
   "execution_count": 97,
   "id": "dfd9e3c3-fcc6-4702-b3dd-6dc6bd97b19d",
   "metadata": {},
   "outputs": [
    {
     "name": "stdout",
     "output_type": "stream",
     "text": [
      "dance dance\n"
     ]
    }
   ],
   "source": [
    "if boys>=girls:\n",
    "    print('boys will rock')\n",
    "elif girls == boys:\n",
    "    print('both will rock')\n",
    "elif girls>60:\n",
    "    print(\"they will dance\")\n",
    "else:\n",
    "    print(\"dance dance\")"
   ]
  },
  {
   "cell_type": "markdown",
   "id": "008b35f4-3cdf-4f90-9db2-918df48a5333",
   "metadata": {},
   "source": [
    "# input in cnsole"
   ]
  },
  {
   "cell_type": "code",
   "execution_count": 111,
   "id": "e49b8c87-fd7e-4d5b-b494-92f8310b41fe",
   "metadata": {},
   "outputs": [
    {
     "name": "stdout",
     "output_type": "stream",
     "text": [
      "you will select for group d category\n"
     ]
    }
   ],
   "source": [
    "marks = 40\n",
    "if marks>=80:\n",
    "    print(\"you will select for group a category\")\n",
    "elif marks>=60 and marks<=80:\n",
    "    print(\"you will select for group b category\")\n",
    "elif marks>40 and marks<60:\n",
    "    print(\"you will select for group c category\")\n",
    "else:\n",
    "    print(\"you will select for group d category\")"
   ]
  },
  {
   "cell_type": "code",
   "execution_count": 112,
   "id": "0a28385f-bc77-4e80-beed-3956dbfa639f",
   "metadata": {},
   "outputs": [
    {
     "name": "stdin",
     "output_type": "stream",
     "text": [
      "enter your marks \"40\"\n"
     ]
    },
    {
     "ename": "TypeError",
     "evalue": "'>=' not supported between instances of 'str' and 'int'",
     "output_type": "error",
     "traceback": [
      "\u001b[0;31m---------------------------------------------------------------------------\u001b[0m",
      "\u001b[0;31mTypeError\u001b[0m                                 Traceback (most recent call last)",
      "Cell \u001b[0;32mIn[112], line 2\u001b[0m\n\u001b[1;32m      1\u001b[0m marks \u001b[38;5;241m=\u001b[39m (\u001b[38;5;28minput\u001b[39m(\u001b[38;5;124m\"\u001b[39m\u001b[38;5;124menter your marks\u001b[39m\u001b[38;5;124m\"\u001b[39m))\n\u001b[0;32m----> 2\u001b[0m \u001b[38;5;28;01mif\u001b[39;00m \u001b[43mmarks\u001b[49m\u001b[38;5;241;43m>\u001b[39;49m\u001b[38;5;241;43m=\u001b[39;49m\u001b[38;5;241;43m80\u001b[39;49m:\n\u001b[1;32m      3\u001b[0m     \u001b[38;5;28mprint\u001b[39m(\u001b[38;5;124m\"\u001b[39m\u001b[38;5;124myou will select for group a category\u001b[39m\u001b[38;5;124m\"\u001b[39m)\n\u001b[1;32m      4\u001b[0m \u001b[38;5;28;01melif\u001b[39;00m marks\u001b[38;5;241m>\u001b[39m\u001b[38;5;241m=\u001b[39m\u001b[38;5;241m60\u001b[39m \u001b[38;5;129;01mand\u001b[39;00m marks\u001b[38;5;241m<\u001b[39m\u001b[38;5;241m=\u001b[39m\u001b[38;5;241m80\u001b[39m:\n",
      "\u001b[0;31mTypeError\u001b[0m: '>=' not supported between instances of 'str' and 'int'"
     ]
    }
   ],
   "source": [
    "marks = input(\"enter your marks\"))\n",
    "if marks>=80:\n",
    "    print(\"you will select for group a category\")\n",
    "elif marks>=60 and marks<=80:\n",
    "    print(\"you will select for group b category\")\n",
    "elif marks>40 and marks<60:\n",
    "    print(\"you will select for group c category\")\n",
    "else:\n",
    "    print(\"you will select for group d category\")"
   ]
  },
  {
   "cell_type": "code",
   "execution_count": null,
   "id": "a51abd3b-1bd8-409c-9ae1-b2847b259256",
   "metadata": {},
   "outputs": [],
   "source": []
  },
  {
   "cell_type": "code",
   "execution_count": 1,
   "id": "841a6427-1c8a-4f9f-ae3a-dd5ddfd72f78",
   "metadata": {},
   "outputs": [
    {
     "name": "stdin",
     "output_type": "stream",
     "text": [
      "enter a num 5000\n"
     ]
    },
    {
     "name": "stdout",
     "output_type": "stream",
     "text": [
      " i will not purchase\n"
     ]
    }
   ],
   "source": [
    "price = int(input(\"enter a num\"))\n",
    "if price>4000:\n",
    "    print(\" i will not purchase\")\n",
    "else:\n",
    "    print(\" i will purchase\")"
   ]
  },
  {
   "cell_type": "code",
   "execution_count": 2,
   "id": "5ce25ad6-4cef-431f-b91d-586a052ad51b",
   "metadata": {},
   "outputs": [
    {
     "name": "stdin",
     "output_type": "stream",
     "text": [
      "enter a num 3000\n"
     ]
    },
    {
     "name": "stdout",
     "output_type": "stream",
     "text": [
      " i will purchase\n"
     ]
    }
   ],
   "source": [
    "price = int(input(\"enter a num\"))\n",
    "if price>4000:\n",
    "    print(\" i will not purchase\")\n",
    "else:\n",
    "    print(\" i will purchase\")"
   ]
  },
  {
   "cell_type": "markdown",
   "id": "03400ec5-50c2-45db-ab44-2bb98594588b",
   "metadata": {},
   "source": [
    "# LOOP"
   ]
  },
  {
   "cell_type": "code",
   "execution_count": 2,
   "id": "1e7adb14-83b0-4558-9bb2-0a7e80545e14",
   "metadata": {},
   "outputs": [],
   "source": [
    "l=[1,2,3,4,5,6,7,8]"
   ]
  },
  {
   "cell_type": "code",
   "execution_count": 3,
   "id": "7da2e280-9916-4f91-9e07-660d880b2f0b",
   "metadata": {},
   "outputs": [
    {
     "data": {
      "text/plain": [
       "2"
      ]
     },
     "execution_count": 3,
     "metadata": {},
     "output_type": "execute_result"
    }
   ],
   "source": [
    "l[0]+1"
   ]
  },
  {
   "cell_type": "markdown",
   "id": "f1ea87de-32f4-4fab-967f-75c587673797",
   "metadata": {},
   "source": [
    "# for loop"
   ]
  },
  {
   "cell_type": "code",
   "execution_count": 4,
   "id": "c336ad12-562d-462e-a0e9-b97f13c34f39",
   "metadata": {},
   "outputs": [],
   "source": [
    "# one by one data nikal kar deta hai"
   ]
  },
  {
   "cell_type": "code",
   "execution_count": 5,
   "id": "46d03ff3-cf36-4d6f-b123-fa881f5aa711",
   "metadata": {},
   "outputs": [
    {
     "data": {
      "text/plain": [
       "[1, 2, 3, 4, 5, 6, 7, 8]"
      ]
     },
     "execution_count": 5,
     "metadata": {},
     "output_type": "execute_result"
    }
   ],
   "source": [
    "l"
   ]
  },
  {
   "cell_type": "code",
   "execution_count": 6,
   "id": "c17349b3-5a76-484b-80b8-3c878ec74c7d",
   "metadata": {},
   "outputs": [
    {
     "name": "stdout",
     "output_type": "stream",
     "text": [
      "1\n",
      "2\n",
      "3\n",
      "4\n",
      "5\n",
      "6\n",
      "7\n",
      "8\n"
     ]
    }
   ],
   "source": [
    "for i in l :\n",
    "    print(i)"
   ]
  },
  {
   "cell_type": "code",
   "execution_count": 7,
   "id": "6fd4c37d-e8a6-4a52-9523-401822f9498c",
   "metadata": {},
   "outputs": [],
   "source": [
    "t=(1,2,3,4,5)"
   ]
  },
  {
   "cell_type": "code",
   "execution_count": 8,
   "id": "9678821a-0073-46cd-9b54-96c2347963cd",
   "metadata": {},
   "outputs": [
    {
     "data": {
      "text/plain": [
       "(1, 2, 3, 4, 5)"
      ]
     },
     "execution_count": 8,
     "metadata": {},
     "output_type": "execute_result"
    }
   ],
   "source": [
    "t"
   ]
  },
  {
   "cell_type": "code",
   "execution_count": 9,
   "id": "4aa313c9-9767-48bc-9e22-924396f7e25b",
   "metadata": {},
   "outputs": [
    {
     "name": "stdout",
     "output_type": "stream",
     "text": [
      "1\n",
      "2\n",
      "3\n",
      "4\n",
      "5\n"
     ]
    }
   ],
   "source": [
    "for i in t:\n",
    "    print(i)"
   ]
  },
  {
   "cell_type": "code",
   "execution_count": 10,
   "id": "cfe0a154-3fe7-4aa7-9f2d-e6d1807eaeb3",
   "metadata": {},
   "outputs": [],
   "source": [
    "s={1,2,3,4,5}"
   ]
  },
  {
   "cell_type": "code",
   "execution_count": 11,
   "id": "542e7196-a972-48af-95f2-4146e27367eb",
   "metadata": {},
   "outputs": [
    {
     "data": {
      "text/plain": [
       "{1, 2, 3, 4, 5}"
      ]
     },
     "execution_count": 11,
     "metadata": {},
     "output_type": "execute_result"
    }
   ],
   "source": [
    "s"
   ]
  },
  {
   "cell_type": "code",
   "execution_count": 12,
   "id": "37489a33-e25a-4bcc-856f-f08b21f98c63",
   "metadata": {},
   "outputs": [
    {
     "name": "stdout",
     "output_type": "stream",
     "text": [
      "1\n",
      "2\n",
      "3\n",
      "4\n",
      "5\n"
     ]
    }
   ],
   "source": [
    "for i in s:\n",
    "    print(i)"
   ]
  },
  {
   "cell_type": "code",
   "execution_count": 13,
   "id": "68a84f8f-1b23-4c2f-8337-b58878b4f1ac",
   "metadata": {},
   "outputs": [],
   "source": [
    "d={\"ram\":1,\"cnm\":2,\"sdf\":3}"
   ]
  },
  {
   "cell_type": "code",
   "execution_count": 14,
   "id": "7cefd8e3-5ce2-4b4a-8d49-d165812b17ec",
   "metadata": {},
   "outputs": [
    {
     "data": {
      "text/plain": [
       "{'ram': 1, 'cnm': 2, 'sdf': 3}"
      ]
     },
     "execution_count": 14,
     "metadata": {},
     "output_type": "execute_result"
    }
   ],
   "source": [
    "d"
   ]
  },
  {
   "cell_type": "code",
   "execution_count": 15,
   "id": "0fdbe0ce-31a3-464c-9362-25f6e4b1303d",
   "metadata": {},
   "outputs": [
    {
     "name": "stdout",
     "output_type": "stream",
     "text": [
      "ram\n",
      "cnm\n",
      "sdf\n"
     ]
    }
   ],
   "source": [
    "for i in d:\n",
    "    print(i)"
   ]
  },
  {
   "cell_type": "code",
   "execution_count": 16,
   "id": "6c7caf4b-f7dc-40f4-907a-975f9b79adee",
   "metadata": {},
   "outputs": [
    {
     "data": {
      "text/plain": [
       "'sourabh'"
      ]
     },
     "execution_count": 16,
     "metadata": {},
     "output_type": "execute_result"
    }
   ],
   "source": [
    "x = 'sourabh'\n",
    "x"
   ]
  },
  {
   "cell_type": "code",
   "execution_count": 17,
   "id": "7167edf5-6a4e-4027-9a98-abcaeaf1eefc",
   "metadata": {},
   "outputs": [
    {
     "name": "stdout",
     "output_type": "stream",
     "text": [
      "s\n",
      "o\n",
      "u\n",
      "r\n",
      "a\n",
      "b\n",
      "h\n"
     ]
    }
   ],
   "source": [
    "for i in x:\n",
    "    print(i)"
   ]
  },
  {
   "cell_type": "code",
   "execution_count": 18,
   "id": "cde35249-6517-4757-8030-21069e459442",
   "metadata": {},
   "outputs": [],
   "source": [
    "# loop with add"
   ]
  },
  {
   "cell_type": "code",
   "execution_count": 19,
   "id": "aa24806e-e644-460d-98fb-3a75d139c444",
   "metadata": {},
   "outputs": [
    {
     "data": {
      "text/plain": [
       "[1, 2, 3, 4, 5, 6, 7, 8]"
      ]
     },
     "execution_count": 19,
     "metadata": {},
     "output_type": "execute_result"
    }
   ],
   "source": [
    "l"
   ]
  },
  {
   "cell_type": "code",
   "execution_count": 20,
   "id": "9bcd5df6-18d2-42ee-b236-6f1e99ec8c9d",
   "metadata": {},
   "outputs": [
    {
     "name": "stdout",
     "output_type": "stream",
     "text": [
      "1\n",
      "2\n",
      "3\n",
      "4\n",
      "5\n",
      "6\n",
      "7\n",
      "8\n"
     ]
    }
   ],
   "source": [
    "for i in l :\n",
    "    print(i)"
   ]
  },
  {
   "cell_type": "code",
   "execution_count": 21,
   "id": "b7381000-1fb5-48d7-a96e-7eadad1fce67",
   "metadata": {},
   "outputs": [
    {
     "name": "stdout",
     "output_type": "stream",
     "text": [
      "2\n",
      "3\n",
      "4\n",
      "5\n",
      "6\n",
      "7\n",
      "8\n",
      "9\n"
     ]
    }
   ],
   "source": [
    "for i in l :\n",
    "    print(i+1)"
   ]
  },
  {
   "cell_type": "code",
   "execution_count": 23,
   "id": "e4199c3f-3643-4411-80be-6bfce6af15b8",
   "metadata": {},
   "outputs": [
    {
     "name": "stdout",
     "output_type": "stream",
     "text": [
      "2\n",
      "3\n",
      "4\n",
      "5\n",
      "6\n",
      "7\n",
      "8\n",
      "9\n"
     ]
    },
    {
     "data": {
      "text/plain": [
       "[2, 3, 4, 5, 6, 7, 8, 9]"
      ]
     },
     "execution_count": 23,
     "metadata": {},
     "output_type": "execute_result"
    }
   ],
   "source": [
    "l1=[]\n",
    "for i in l :\n",
    "    print(i+1)\n",
    "    l1.append(i+1)\n",
    "l1"
   ]
  },
  {
   "cell_type": "code",
   "execution_count": 33,
   "id": "09282652-8bbe-42df-86dc-e2730882a588",
   "metadata": {},
   "outputs": [],
   "source": [
    "# case make a list in upper case"
   ]
  },
  {
   "cell_type": "code",
   "execution_count": 38,
   "id": "5c418e4e-e688-4c0d-8dc8-5a6536a18efc",
   "metadata": {},
   "outputs": [],
   "source": [
    "l2 =[\"sudh\",\"kumar\",\"pwskills\",\"course\"]"
   ]
  },
  {
   "cell_type": "code",
   "execution_count": 39,
   "id": "868ea8a4-9831-4f96-a586-28ecb6883e31",
   "metadata": {},
   "outputs": [
    {
     "data": {
      "text/plain": [
       "['sudh', 'kumar', 'pwskills', 'course']"
      ]
     },
     "execution_count": 39,
     "metadata": {},
     "output_type": "execute_result"
    }
   ],
   "source": [
    "l2"
   ]
  },
  {
   "cell_type": "code",
   "execution_count": 41,
   "id": "70e2bf76-e609-49a7-a23e-4e54870c3345",
   "metadata": {},
   "outputs": [
    {
     "name": "stdout",
     "output_type": "stream",
     "text": [
      "sudh\n",
      "kumar\n",
      "pwskills\n",
      "course\n"
     ]
    }
   ],
   "source": [
    "for i in l2:\n",
    "    print(i)"
   ]
  },
  {
   "cell_type": "code",
   "execution_count": 43,
   "id": "3355fc09-310c-479b-b7f1-e59e73884aaa",
   "metadata": {},
   "outputs": [
    {
     "name": "stdout",
     "output_type": "stream",
     "text": [
      "sudh\n",
      "kumar\n",
      "pwskills\n",
      "course\n"
     ]
    },
    {
     "data": {
      "text/plain": [
       "['SUDH', 'KUMAR', 'PWSKILLS', 'COURSE']"
      ]
     },
     "execution_count": 43,
     "metadata": {},
     "output_type": "execute_result"
    }
   ],
   "source": [
    "x=[]\n",
    "for i in l2:\n",
    "    print(i)\n",
    "    x.append(i.upper())\n",
    "x"
   ]
  },
  {
   "cell_type": "code",
   "execution_count": 6,
   "id": "6b73a6f6-e4d1-4b04-8357-f1ff9c929f7f",
   "metadata": {},
   "outputs": [],
   "source": [
    "# case seprate string and integer\n",
    "# For loop + if/else"
   ]
  },
  {
   "cell_type": "code",
   "execution_count": 7,
   "id": "0c731fb0-e35e-4ca3-8239-5020fd2777c6",
   "metadata": {},
   "outputs": [],
   "source": [
    "l =[1,2,3,4,4,\"sudh\", \"kumar\", 324,34.456, \"abc\"]"
   ]
  },
  {
   "cell_type": "code",
   "execution_count": 8,
   "id": "d2186914-c8e6-48a9-8799-1afb47167288",
   "metadata": {},
   "outputs": [
    {
     "data": {
      "text/plain": [
       "[1, 2, 3, 4, 4, 'sudh', 'kumar', 324, 34.456, 'abc']"
      ]
     },
     "execution_count": 8,
     "metadata": {},
     "output_type": "execute_result"
    }
   ],
   "source": [
    "l"
   ]
  },
  {
   "cell_type": "code",
   "execution_count": 31,
   "id": "65f05c12-957c-44b3-8ee2-e259d172da05",
   "metadata": {},
   "outputs": [],
   "source": [
    "l1_num=[]\n",
    "l2_str=[]\n",
    "for i in l:\n",
    "    if type(i)== int or type(i)==float :\n",
    "        l1_num.append(i)\n",
    "    else:\n",
    "        l2_str.append(i)\n",
    "        "
   ]
  },
  {
   "cell_type": "code",
   "execution_count": 32,
   "id": "dd4e2ddb-c2ef-4a6a-8e33-68eb158bb4f1",
   "metadata": {},
   "outputs": [
    {
     "data": {
      "text/plain": [
       "[1, 2, 3, 4, 4, 'sudh', 'kumar', 324, 34.456, 'abc']"
      ]
     },
     "execution_count": 32,
     "metadata": {},
     "output_type": "execute_result"
    }
   ],
   "source": [
    "l"
   ]
  },
  {
   "cell_type": "code",
   "execution_count": 33,
   "id": "c4a1fd21-4f6a-466d-ab21-e319757df5f6",
   "metadata": {},
   "outputs": [
    {
     "data": {
      "text/plain": [
       "[1, 2, 3, 4, 4, 324, 34.456]"
      ]
     },
     "execution_count": 33,
     "metadata": {},
     "output_type": "execute_result"
    }
   ],
   "source": [
    "l1_num"
   ]
  },
  {
   "cell_type": "code",
   "execution_count": 34,
   "id": "8fbee9ef-eade-4e9d-8b0e-6285e42dca40",
   "metadata": {},
   "outputs": [
    {
     "data": {
      "text/plain": [
       "['sudh', 'kumar', 'abc']"
      ]
     },
     "execution_count": 34,
     "metadata": {},
     "output_type": "execute_result"
    }
   ],
   "source": [
    "l2_str"
   ]
  },
  {
   "cell_type": "code",
   "execution_count": null,
   "id": "a0b87374-e86f-4ba4-92e1-d015b1a8ff87",
   "metadata": {},
   "outputs": [],
   "source": []
  }
 ],
 "metadata": {
  "kernelspec": {
   "display_name": "Python 3 (ipykernel)",
   "language": "python",
   "name": "python3"
  },
  "language_info": {
   "codemirror_mode": {
    "name": "ipython",
    "version": 3
   },
   "file_extension": ".py",
   "mimetype": "text/x-python",
   "name": "python",
   "nbconvert_exporter": "python",
   "pygments_lexer": "ipython3",
   "version": "3.10.8"
  }
 },
 "nbformat": 4,
 "nbformat_minor": 5
}
