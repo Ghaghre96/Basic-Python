{
 "cells": [
  {
   "cell_type": "markdown",
   "id": "71531268-1935-4311-af59-3cfefa4dadb9",
   "metadata": {},
   "source": [
    "# Generator"
   ]
  },
  {
   "cell_type": "code",
   "execution_count": 2,
   "id": "9af38088-7fef-446e-8bcd-c6223f76c1c2",
   "metadata": {},
   "outputs": [],
   "source": [
    "# fibonaccci series by function"
   ]
  },
  {
   "cell_type": "code",
   "execution_count": 7,
   "id": "0ab7a63c-bc37-4c2b-bf0a-b07ed3615f29",
   "metadata": {},
   "outputs": [],
   "source": [
    "def test_fib(n):\n",
    "    a=0\n",
    "    b=1\n",
    "    for i in range(n):\n",
    "        yield a #[yield as a generator]\n",
    "        c=a+b\n",
    "        a=b\n",
    "        b=c\n",
    "    \n",
    "        "
   ]
  },
  {
   "cell_type": "code",
   "execution_count": 8,
   "id": "fc532238-f9ac-4778-b76b-3dece09682ee",
   "metadata": {},
   "outputs": [
    {
     "name": "stdout",
     "output_type": "stream",
     "text": [
      "0\n",
      "1\n",
      "1\n",
      "2\n",
      "3\n",
      "5\n",
      "8\n",
      "13\n",
      "21\n",
      "34\n"
     ]
    }
   ],
   "source": [
    " for i in test_fib(10):\n",
    "        print(i)"
   ]
  },
  {
   "cell_type": "code",
   "execution_count": 11,
   "id": "b6c0efa3-de82-46c0-b01b-88e7034589f2",
   "metadata": {},
   "outputs": [],
   "source": [
    "def test_fib1():\n",
    "    a,b=0,1\n",
    "    while True:\n",
    "        yield a\n",
    "        a,b=b,a+b\n",
    "    "
   ]
  },
  {
   "cell_type": "code",
   "execution_count": 12,
   "id": "7b533f88-35c3-44c4-b8c4-25e221e56bfc",
   "metadata": {},
   "outputs": [],
   "source": [
    "fib= test_fib1()"
   ]
  },
  {
   "cell_type": "code",
   "execution_count": 13,
   "id": "9565a22a-97f2-4666-bd87-c540d16d2ef6",
   "metadata": {},
   "outputs": [
    {
     "name": "stdout",
     "output_type": "stream",
     "text": [
      "0\n",
      "1\n",
      "1\n",
      "2\n",
      "3\n",
      "5\n",
      "8\n",
      "13\n",
      "21\n",
      "34\n"
     ]
    }
   ],
   "source": [
    "for i in range(10):\n",
    "    print(next(fib))"
   ]
  },
  {
   "cell_type": "code",
   "execution_count": 14,
   "id": "d0b77284-c988-40c2-af47-1e53dd8aa3e0",
   "metadata": {},
   "outputs": [],
   "source": [
    "# string is iterable not a iterator\n",
    "# string ko iterator banane ke liye iter function use karte hai"
   ]
  },
  {
   "cell_type": "code",
   "execution_count": 15,
   "id": "d569243a-0a98-44ab-a489-bcff32dff913",
   "metadata": {},
   "outputs": [],
   "source": [
    "b=\"sourabh\""
   ]
  },
  {
   "cell_type": "code",
   "execution_count": 16,
   "id": "abb236ad-a69e-4170-92aa-9d5c23d5e8ed",
   "metadata": {},
   "outputs": [
    {
     "name": "stdout",
     "output_type": "stream",
     "text": [
      "s\n",
      "o\n",
      "u\n",
      "r\n",
      "a\n",
      "b\n",
      "h\n"
     ]
    }
   ],
   "source": [
    "# this is iterable\n",
    "for i in b:\n",
    "    print(i)"
   ]
  },
  {
   "cell_type": "code",
   "execution_count": 17,
   "id": "be929ea5-0112-46b1-a02a-6080ef3c4972",
   "metadata": {},
   "outputs": [
    {
     "ename": "TypeError",
     "evalue": "'str' object is not an iterator",
     "output_type": "error",
     "traceback": [
      "\u001b[0;31m---------------------------------------------------------------------------\u001b[0m",
      "\u001b[0;31mTypeError\u001b[0m                                 Traceback (most recent call last)",
      "Cell \u001b[0;32mIn[17], line 2\u001b[0m\n\u001b[1;32m      1\u001b[0m \u001b[38;5;66;03m# for iterator\u001b[39;00m\n\u001b[0;32m----> 2\u001b[0m \u001b[38;5;28;43mnext\u001b[39;49m\u001b[43m(\u001b[49m\u001b[43mb\u001b[49m\u001b[43m)\u001b[49m\n",
      "\u001b[0;31mTypeError\u001b[0m: 'str' object is not an iterator"
     ]
    }
   ],
   "source": [
    "# for iterator\n",
    "next(b)"
   ]
  },
  {
   "cell_type": "markdown",
   "id": "cf150337-46c3-4f52-9bf4-1a22b9e39ffc",
   "metadata": {},
   "source": [
    "# Next means nextone not wholeone"
   ]
  },
  {
   "cell_type": "code",
   "execution_count": 18,
   "id": "3e29a909-61b9-4a55-b911-8b080f07304a",
   "metadata": {},
   "outputs": [],
   "source": [
    "c=iter(b)"
   ]
  },
  {
   "cell_type": "code",
   "execution_count": 31,
   "id": "fd90f1fe-cb24-4207-9557-6a707fe69991",
   "metadata": {},
   "outputs": [
    {
     "data": {
      "text/plain": [
       "str_iterator"
      ]
     },
     "execution_count": 31,
     "metadata": {},
     "output_type": "execute_result"
    }
   ],
   "source": [
    "type(c)"
   ]
  },
  {
   "cell_type": "code",
   "execution_count": 19,
   "id": "c21348a2-fbcb-42dc-ac31-8fcf35d0c0e9",
   "metadata": {},
   "outputs": [
    {
     "data": {
      "text/plain": [
       "'s'"
      ]
     },
     "execution_count": 19,
     "metadata": {},
     "output_type": "execute_result"
    }
   ],
   "source": [
    "next(c)"
   ]
  },
  {
   "cell_type": "code",
   "execution_count": 20,
   "id": "d3f43bdc-f96f-408c-bce0-5dbd69e58dca",
   "metadata": {},
   "outputs": [
    {
     "data": {
      "text/plain": [
       "'o'"
      ]
     },
     "execution_count": 20,
     "metadata": {},
     "output_type": "execute_result"
    }
   ],
   "source": [
    "next(c)"
   ]
  },
  {
   "cell_type": "code",
   "execution_count": 21,
   "id": "c5a0e57d-1051-42da-8559-d593cbe917dd",
   "metadata": {},
   "outputs": [
    {
     "data": {
      "text/plain": [
       "'u'"
      ]
     },
     "execution_count": 21,
     "metadata": {},
     "output_type": "execute_result"
    }
   ],
   "source": [
    "next(c)"
   ]
  },
  {
   "cell_type": "code",
   "execution_count": 22,
   "id": "5149ae28-2568-403f-b479-4231e69cd0ef",
   "metadata": {},
   "outputs": [
    {
     "data": {
      "text/plain": [
       "'r'"
      ]
     },
     "execution_count": 22,
     "metadata": {},
     "output_type": "execute_result"
    }
   ],
   "source": [
    "next(c)"
   ]
  },
  {
   "cell_type": "code",
   "execution_count": 23,
   "id": "7c46b918-c4f4-4a6d-a69a-c005a3c679be",
   "metadata": {},
   "outputs": [
    {
     "data": {
      "text/plain": [
       "'a'"
      ]
     },
     "execution_count": 23,
     "metadata": {},
     "output_type": "execute_result"
    }
   ],
   "source": [
    "next(c)"
   ]
  },
  {
   "cell_type": "code",
   "execution_count": 24,
   "id": "ad1962e4-6b8a-4587-9f2e-ac5f02449f2c",
   "metadata": {},
   "outputs": [
    {
     "data": {
      "text/plain": [
       "'b'"
      ]
     },
     "execution_count": 24,
     "metadata": {},
     "output_type": "execute_result"
    }
   ],
   "source": [
    "next(c)"
   ]
  },
  {
   "cell_type": "code",
   "execution_count": 25,
   "id": "6372833c-1fea-446f-9d80-b2cc691c99e3",
   "metadata": {},
   "outputs": [
    {
     "data": {
      "text/plain": [
       "'h'"
      ]
     },
     "execution_count": 25,
     "metadata": {},
     "output_type": "execute_result"
    }
   ],
   "source": [
    "next(c)"
   ]
  },
  {
   "cell_type": "code",
   "execution_count": 26,
   "id": "a7b8522a-b580-487a-a471-a909ba4a31ed",
   "metadata": {
    "tags": []
   },
   "outputs": [
    {
     "ename": "StopIteration",
     "evalue": "",
     "output_type": "error",
     "traceback": [
      "\u001b[0;31m---------------------------------------------------------------------------\u001b[0m",
      "\u001b[0;31mStopIteration\u001b[0m                             Traceback (most recent call last)",
      "Cell \u001b[0;32mIn[26], line 1\u001b[0m\n\u001b[0;32m----> 1\u001b[0m \u001b[38;5;28;43mnext\u001b[39;49m\u001b[43m(\u001b[49m\u001b[43mc\u001b[49m\u001b[43m)\u001b[49m\n",
      "\u001b[0;31mStopIteration\u001b[0m: "
     ]
    }
   ],
   "source": [
    "next(c)"
   ]
  },
  {
   "cell_type": "code",
   "execution_count": 27,
   "id": "a0dd1707-0f88-49c7-8597-51d69cdb2aff",
   "metadata": {},
   "outputs": [],
   "source": [
    "# jo ierable hai use  m hi aap iterator laga sakte ho"
   ]
  },
  {
   "cell_type": "code",
   "execution_count": 28,
   "id": "aa187cc9-788e-4813-98e0-f0b127f8247f",
   "metadata": {},
   "outputs": [
    {
     "ename": "TypeError",
     "evalue": "'int' object is not an iterator",
     "output_type": "error",
     "traceback": [
      "\u001b[0;31m---------------------------------------------------------------------------\u001b[0m",
      "\u001b[0;31mTypeError\u001b[0m                                 Traceback (most recent call last)",
      "Cell \u001b[0;32mIn[28], line 1\u001b[0m\n\u001b[0;32m----> 1\u001b[0m \u001b[38;5;28;43mnext\u001b[39;49m\u001b[43m(\u001b[49m\u001b[38;5;241;43m45\u001b[39;49m\u001b[43m)\u001b[49m\n",
      "\u001b[0;31mTypeError\u001b[0m: 'int' object is not an iterator"
     ]
    }
   ],
   "source": [
    "next(45)"
   ]
  },
  {
   "cell_type": "code",
   "execution_count": 29,
   "id": "494c86a1-9833-4efe-a33b-15b8f7f2ab36",
   "metadata": {},
   "outputs": [
    {
     "ename": "TypeError",
     "evalue": "'int' object is not iterable",
     "output_type": "error",
     "traceback": [
      "\u001b[0;31m---------------------------------------------------------------------------\u001b[0m",
      "\u001b[0;31mTypeError\u001b[0m                                 Traceback (most recent call last)",
      "Cell \u001b[0;32mIn[29], line 1\u001b[0m\n\u001b[0;32m----> 1\u001b[0m \u001b[38;5;28;43miter\u001b[39;49m\u001b[43m(\u001b[49m\u001b[38;5;241;43m45\u001b[39;49m\u001b[43m)\u001b[49m\n",
      "\u001b[0;31mTypeError\u001b[0m: 'int' object is not iterable"
     ]
    }
   ],
   "source": [
    "iter(45)"
   ]
  },
  {
   "cell_type": "markdown",
   "id": "7c50e042-991c-45ec-aa90-aca8028cdedf",
   "metadata": {},
   "source": [
    "### above case we can see that 45 is not a iterable and iterator,aap 45 ko loop me nahi guhama sakte ho"
   ]
  },
  {
   "cell_type": "code",
   "execution_count": 44,
   "id": "80303572-9450-4ae9-926e-c61767752e7d",
   "metadata": {},
   "outputs": [],
   "source": [
    "def count_test(n):\n",
    "    count=0\n",
    "    while count<=n:\n",
    "        yield count\n",
    "        count= count+1"
   ]
  },
  {
   "cell_type": "code",
   "execution_count": 45,
   "id": "7cb68619-2052-4a8d-b179-b157cf89fee7",
   "metadata": {},
   "outputs": [],
   "source": [
    "d=count_test(5)"
   ]
  },
  {
   "cell_type": "code",
   "execution_count": 46,
   "id": "7046dee9-f4a7-4372-910b-7a75d59ca769",
   "metadata": {},
   "outputs": [
    {
     "name": "stdout",
     "output_type": "stream",
     "text": [
      "0\n",
      "1\n",
      "2\n",
      "3\n",
      "4\n",
      "5\n"
     ]
    }
   ],
   "source": [
    "for i in d:\n",
    "    print(i)\n",
    "    "
   ]
  },
  {
   "cell_type": "code",
   "execution_count": null,
   "id": "fe845709-c35a-45ed-9c46-be892a34f27d",
   "metadata": {},
   "outputs": [],
   "source": []
  },
  {
   "cell_type": "markdown",
   "id": "7a7f0be9-31f7-4481-b2c6-fc25099e0a6d",
   "metadata": {},
   "source": [
    "# yield next value ko leta hai, purani value ko hata deta hai"
   ]
  },
  {
   "cell_type": "code",
   "execution_count": null,
   "id": "907776e6-1f13-4a3d-8ded-7608950b4f9a",
   "metadata": {},
   "outputs": [],
   "source": []
  }
 ],
 "metadata": {
  "kernelspec": {
   "display_name": "Python 3 (ipykernel)",
   "language": "python",
   "name": "python3"
  },
  "language_info": {
   "codemirror_mode": {
    "name": "ipython",
    "version": 3
   },
   "file_extension": ".py",
   "mimetype": "text/x-python",
   "name": "python",
   "nbconvert_exporter": "python",
   "pygments_lexer": "ipython3",
   "version": "3.10.8"
  }
 },
 "nbformat": 4,
 "nbformat_minor": 5
}
