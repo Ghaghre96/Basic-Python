{
 "cells": [
  {
   "cell_type": "markdown",
   "id": "824b67f3-f7e5-4f4a-8325-015edaf2c351",
   "metadata": {},
   "source": [
    "# Question 1"
   ]
  },
  {
   "cell_type": "code",
   "execution_count": 2,
   "id": "cb4f0288-d59d-485d-978f-a95657645657",
   "metadata": {},
   "outputs": [
    {
     "data": {
      "text/plain": [
       "'Q1. Which keyword is used to create a function? Create a function to return a list of odd numbers in the\\nrange of 1 to 25.'"
      ]
     },
     "execution_count": 2,
     "metadata": {},
     "output_type": "execute_result"
    }
   ],
   "source": [
    "\"\"\"Q1. Which keyword is used to create a function? Create a function to return a list of odd numbers in the\n",
    "range of 1 to 25.\"\"\""
   ]
  },
  {
   "cell_type": "markdown",
   "id": "c6a7bd0a-ca6d-4720-b241-a772e38af52c",
   "metadata": {},
   "source": [
    "# solution 1"
   ]
  },
  {
   "cell_type": "code",
   "execution_count": 3,
   "id": "a690a89d-4364-4364-bf05-cd385914729b",
   "metadata": {},
   "outputs": [
    {
     "data": {
      "text/plain": [
       "'def is used as a function keyword'"
      ]
     },
     "execution_count": 3,
     "metadata": {},
     "output_type": "execute_result"
    }
   ],
   "source": [
    "\"\"\"def is used as a function keyword\"\"\""
   ]
  },
  {
   "cell_type": "code",
   "execution_count": 4,
   "id": "79b5a0c8-c1e0-4892-8ec7-f51f107d82cc",
   "metadata": {},
   "outputs": [],
   "source": [
    "def result(a):\n",
    "    l=[]\n",
    "    for i in a:\n",
    "        if i%2!=0:\n",
    "            l.append(i)\n",
    "    return l"
   ]
  },
  {
   "cell_type": "code",
   "execution_count": 5,
   "id": "b55ce879-2ee3-45cb-8c20-1271aecd96b6",
   "metadata": {},
   "outputs": [
    {
     "data": {
      "text/plain": [
       "[1, 3, 5, 7, 9, 11, 13, 15, 17, 19, 21, 23]"
      ]
     },
     "execution_count": 5,
     "metadata": {},
     "output_type": "execute_result"
    }
   ],
   "source": [
    "result(range(1,25))"
   ]
  },
  {
   "cell_type": "code",
   "execution_count": null,
   "id": "15dc5d81-4118-4c2e-9ecd-a5a2719a1c3d",
   "metadata": {},
   "outputs": [],
   "source": []
  },
  {
   "cell_type": "code",
   "execution_count": null,
   "id": "62bec7f1-5267-49ae-90ec-bbf1f19af13b",
   "metadata": {},
   "outputs": [],
   "source": []
  },
  {
   "cell_type": "markdown",
   "id": "43de8503-3fee-4f90-a251-a9073a56620c",
   "metadata": {},
   "source": [
    "# Question 2"
   ]
  },
  {
   "cell_type": "code",
   "execution_count": 6,
   "id": "dcaffaab-a964-4d64-a6ff-c00818b8b650",
   "metadata": {},
   "outputs": [
    {
     "data": {
      "text/plain": [
       "'Q2. Why *args and **kwargs is used in some functions? Create a function each for *args and **kwargs\\nto demonstrate their use.'"
      ]
     },
     "execution_count": 6,
     "metadata": {},
     "output_type": "execute_result"
    }
   ],
   "source": [
    "\"\"\"Q2. Why *args and **kwargs is used in some functions? Create a function each for *args and **kwargs\n",
    "to demonstrate their use.\"\"\""
   ]
  },
  {
   "cell_type": "markdown",
   "id": "930d2ff9-2ed5-4aee-91d5-1499520ec394",
   "metadata": {},
   "source": [
    "# Solution 2"
   ]
  },
  {
   "cell_type": "code",
   "execution_count": 7,
   "id": "2a852397-de00-4796-9cf7-658a085e0df5",
   "metadata": {},
   "outputs": [],
   "source": [
    "# *args is used in a function to give multiple input at a time\n",
    "# example given below"
   ]
  },
  {
   "cell_type": "code",
   "execution_count": 8,
   "id": "5ce6e6eb-6d53-48aa-87d0-0266bb6813e5",
   "metadata": {},
   "outputs": [],
   "source": [
    "def sweet(*args):\n",
    "    l=[]\n",
    "    for i in args:\n",
    "        l.append(i)\n",
    "    return l\n",
    "        "
   ]
  },
  {
   "cell_type": "code",
   "execution_count": 9,
   "id": "5048b3f1-8791-4ca7-838e-2bfa32d12910",
   "metadata": {},
   "outputs": [
    {
     "data": {
      "text/plain": [
       "['laddu', 'kaju_katli', 'gulabjamun']"
      ]
     },
     "execution_count": 9,
     "metadata": {},
     "output_type": "execute_result"
    }
   ],
   "source": [
    "sweet('laddu', 'kaju_katli', 'gulabjamun')"
   ]
  },
  {
   "cell_type": "code",
   "execution_count": 10,
   "id": "9bad55c6-57ca-4b9f-9a39-a2bc6df3f64b",
   "metadata": {},
   "outputs": [],
   "source": [
    "# **kwargs is used in a function for a dictionary keyword\n",
    "# **kwargs = keyword + arg\n",
    "# example given below"
   ]
  },
  {
   "cell_type": "code",
   "execution_count": 11,
   "id": "f4752d7a-06f5-4401-8311-48376c9fe719",
   "metadata": {},
   "outputs": [],
   "source": [
    "def my_life(**kwargs):\n",
    "    l=[]\n",
    "    for i in kwargs:\n",
    "        l.append(i)\n",
    "    return kwargs\n",
    "    "
   ]
  },
  {
   "cell_type": "code",
   "execution_count": 12,
   "id": "fce46039-b6f8-4075-b0aa-84e4fdb9a982",
   "metadata": {},
   "outputs": [
    {
     "data": {
      "text/plain": [
       "{'first': 'mom_dad', 'second': 'brother', 'third': 'girlfriend'}"
      ]
     },
     "execution_count": 12,
     "metadata": {},
     "output_type": "execute_result"
    }
   ],
   "source": [
    "my_life(first=\"mom_dad\", second=\"brother\", third=\"girlfriend\")"
   ]
  },
  {
   "cell_type": "markdown",
   "id": "c9d31a9c-738e-439e-afd1-1ea850504cf0",
   "metadata": {},
   "source": [
    "# Question 3"
   ]
  },
  {
   "cell_type": "code",
   "execution_count": 13,
   "id": "8210a657-7f03-4340-9ac7-88bb60979778",
   "metadata": {},
   "outputs": [
    {
     "data": {
      "text/plain": [
       "'Q3. What is an iterator in python? Name the method used to initialise the iterator object and the method\\nused for iteration. Use these methods to print the first five elements of the given list [2, 4, 6, 8, 10, 12, 14,\\n16, 18, 20].'"
      ]
     },
     "execution_count": 13,
     "metadata": {},
     "output_type": "execute_result"
    }
   ],
   "source": [
    "\"\"\"Q3. What is an iterator in python? Name the method used to initialise the iterator object and the method\n",
    "used for iteration. Use these methods to print the first five elements of the given list [2, 4, 6, 8, 10, 12, 14,\n",
    "16, 18, 20].\"\"\""
   ]
  },
  {
   "cell_type": "markdown",
   "id": "f7768c97-0d97-48d3-b53a-42900382d10a",
   "metadata": {},
   "source": [
    "# solution 3"
   ]
  },
  {
   "cell_type": "code",
   "execution_count": 14,
   "id": "95b6017a-0401-491b-99ee-eaa65ffab9d0",
   "metadata": {},
   "outputs": [],
   "source": [
    "# __iter__ and __next__\n",
    "# first thing is that function which is iterator which is also iterable , ex: string, list\n",
    "# follows you to iterate over a collection of elements one by one,  "
   ]
  },
  {
   "cell_type": "code",
   "execution_count": 15,
   "id": "a3306716-68c8-455e-b9a6-c59fa644cace",
   "metadata": {},
   "outputs": [],
   "source": [
    "# '''the method used to initialise the iterator object and the method used for iteration.'''\n",
    "# The iter() function returns the iterator\n",
    "# next() function retrieves the next element from the iterator."
   ]
  },
  {
   "cell_type": "code",
   "execution_count": 16,
   "id": "969a8cc0-e0d6-47f0-b61e-2ffc14621cba",
   "metadata": {},
   "outputs": [],
   "source": [
    "l=[2, 4, 6, 8, 10, 12, 14,16, 18, 20]"
   ]
  },
  {
   "cell_type": "code",
   "execution_count": 17,
   "id": "d1f84473-bb91-4df2-a24a-61c345919e2e",
   "metadata": {},
   "outputs": [
    {
     "name": "stdout",
     "output_type": "stream",
     "text": [
      "2\n",
      "4\n",
      "6\n",
      "8\n",
      "10\n",
      "12\n",
      "14\n",
      "16\n",
      "18\n",
      "20\n"
     ]
    }
   ],
   "source": [
    "for i in l:   # This is iterable condition\n",
    "    print(i)"
   ]
  },
  {
   "cell_type": "code",
   "execution_count": 18,
   "id": "a8c34871-1881-45e4-8bc6-8d73ebfb8d33",
   "metadata": {},
   "outputs": [],
   "source": [
    "a= iter(l)"
   ]
  },
  {
   "cell_type": "code",
   "execution_count": 19,
   "id": "a02996b1-283e-4c7b-b57e-1c641c9a1ecf",
   "metadata": {},
   "outputs": [
    {
     "data": {
      "text/plain": [
       "<list_iterator at 0x7f14841a7f70>"
      ]
     },
     "execution_count": 19,
     "metadata": {},
     "output_type": "execute_result"
    }
   ],
   "source": [
    "a"
   ]
  },
  {
   "cell_type": "code",
   "execution_count": 20,
   "id": "c4c73198-e2fd-46cc-8fed-342a42585b82",
   "metadata": {},
   "outputs": [
    {
     "ename": "TypeError",
     "evalue": "'list' object is not an iterator",
     "output_type": "error",
     "traceback": [
      "\u001b[0;31m---------------------------------------------------------------------------\u001b[0m",
      "\u001b[0;31mTypeError\u001b[0m                                 Traceback (most recent call last)",
      "Cell \u001b[0;32mIn[20], line 1\u001b[0m\n\u001b[0;32m----> 1\u001b[0m \u001b[38;5;28;43mnext\u001b[39;49m\u001b[43m(\u001b[49m\u001b[43ml\u001b[49m\u001b[43m)\u001b[49m   \u001b[38;5;66;03m# after using iter() function we can use only next function\u001b[39;00m\n",
      "\u001b[0;31mTypeError\u001b[0m: 'list' object is not an iterator"
     ]
    }
   ],
   "source": [
    "next(l)   # after using iter() function we can use only next function"
   ]
  },
  {
   "cell_type": "code",
   "execution_count": 21,
   "id": "19eb085e-98da-4168-9ec1-32a71c60ff3a",
   "metadata": {},
   "outputs": [
    {
     "data": {
      "text/plain": [
       "2"
      ]
     },
     "execution_count": 21,
     "metadata": {},
     "output_type": "execute_result"
    }
   ],
   "source": [
    "next(a)"
   ]
  },
  {
   "cell_type": "code",
   "execution_count": 22,
   "id": "cc14e225-b00e-4ced-9cad-5916d673930c",
   "metadata": {},
   "outputs": [
    {
     "data": {
      "text/plain": [
       "4"
      ]
     },
     "execution_count": 22,
     "metadata": {},
     "output_type": "execute_result"
    }
   ],
   "source": [
    "next(a)"
   ]
  },
  {
   "cell_type": "code",
   "execution_count": 23,
   "id": "0569ce94-8386-4bad-ab8f-b71a09cbaf77",
   "metadata": {},
   "outputs": [
    {
     "data": {
      "text/plain": [
       "6"
      ]
     },
     "execution_count": 23,
     "metadata": {},
     "output_type": "execute_result"
    }
   ],
   "source": [
    "next(a)"
   ]
  },
  {
   "cell_type": "code",
   "execution_count": 24,
   "id": "14f3bb72-6a3c-4787-9766-981da202ec51",
   "metadata": {},
   "outputs": [
    {
     "data": {
      "text/plain": [
       "8"
      ]
     },
     "execution_count": 24,
     "metadata": {},
     "output_type": "execute_result"
    }
   ],
   "source": [
    "next(a)"
   ]
  },
  {
   "cell_type": "code",
   "execution_count": 55,
   "id": "0001e991-89a9-44f4-8fdc-565989344343",
   "metadata": {},
   "outputs": [
    {
     "data": {
      "text/plain": [
       "10"
      ]
     },
     "execution_count": 55,
     "metadata": {},
     "output_type": "execute_result"
    }
   ],
   "source": [
    "next(a)"
   ]
  },
  {
   "cell_type": "markdown",
   "id": "95e92423-621e-4ae4-b92f-10fb5bd19abd",
   "metadata": {},
   "source": [
    "# Question 4"
   ]
  },
  {
   "cell_type": "code",
   "execution_count": 25,
   "id": "012e782c-6fb8-4e50-adef-d8efb5e2b0f6",
   "metadata": {},
   "outputs": [
    {
     "data": {
      "text/plain": [
       "'Q4. What is a generator function in python? Why yield keyword is used? Give an example of a generator\\nfunction.'"
      ]
     },
     "execution_count": 25,
     "metadata": {},
     "output_type": "execute_result"
    }
   ],
   "source": [
    "\"\"\"Q4. What is a generator function in python? Why yield keyword is used? Give an example of a generator\n",
    "function.\"\"\""
   ]
  },
  {
   "cell_type": "markdown",
   "id": "d1f99d33-dd05-475e-b0f9-4b7337ae6489",
   "metadata": {},
   "source": [
    "# solution 4"
   ]
  },
  {
   "cell_type": "code",
   "execution_count": 26,
   "id": "5a9d2ce8-6776-4edb-ba47-7da9c741ad1c",
   "metadata": {},
   "outputs": [
    {
     "data": {
      "text/plain": [
       "' generator function-In Python, generator functions are those functions that, instead of returning a single value, return an iterable generator object. You can access or read the values returned from the generator function stored inside a generator object one-by-one using a simple loop or using next() or list() methods.'"
      ]
     },
     "execution_count": 26,
     "metadata": {},
     "output_type": "execute_result"
    }
   ],
   "source": [
    "''' generator function-In Python, generator functions are those functions that, instead of returning a single value, return an iterable generator object. You can access or read the values returned from the generator function stored inside a generator object one-by-one using a simple loop or using next() or list() methods.'''"
   ]
  },
  {
   "cell_type": "code",
   "execution_count": 27,
   "id": "a576da82-b418-4ad9-aed3-5c4959dbc063",
   "metadata": {},
   "outputs": [
    {
     "data": {
      "text/plain": [
       "' yield keyword is used as a generator,The Yield keyword in Python is similar to a return statement used for returning values or objects in Python. However, there is a slight difference, The yield statement returns a generator object to the one who calls the function which contains yield, instead of simply returning a value.'"
      ]
     },
     "execution_count": 27,
     "metadata": {},
     "output_type": "execute_result"
    }
   ],
   "source": [
    "''' yield keyword is used as a generator,The Yield keyword in Python is similar to a return statement used for returning values or objects in Python. However, there is a slight difference, The yield statement returns a generator object to the one who calls the function which contains yield, instead of simply returning a value.''' "
   ]
  },
  {
   "cell_type": "code",
   "execution_count": 29,
   "id": "b7608caa-6724-450b-8788-ff3ed4e8f40e",
   "metadata": {},
   "outputs": [],
   "source": [
    "# countdown programme"
   ]
  },
  {
   "cell_type": "code",
   "execution_count": 30,
   "id": "7d3facac-3036-4d64-9a6e-ce3d4482d3fa",
   "metadata": {},
   "outputs": [
    {
     "name": "stdout",
     "output_type": "stream",
     "text": [
      "5\n",
      "4\n",
      "3\n",
      "2\n",
      "1\n"
     ]
    }
   ],
   "source": [
    "def countdown(start):\n",
    "    while start > 0:\n",
    "        yield start\n",
    "        start =start-1\n",
    "# Retrieving values using a loop\n",
    "for number in countdown(5):\n",
    "    print(number)"
   ]
  },
  {
   "cell_type": "code",
   "execution_count": null,
   "id": "b9224f82-3efe-4a99-b7bb-4c104cfef1e4",
   "metadata": {},
   "outputs": [],
   "source": []
  },
  {
   "cell_type": "markdown",
   "id": "7a3bc20f-c2ad-4939-bc81-b07a4195b52b",
   "metadata": {},
   "source": [
    "# Question 5"
   ]
  },
  {
   "cell_type": "code",
   "execution_count": 65,
   "id": "17015808-0059-4f20-8eb7-2f59bd1372e0",
   "metadata": {},
   "outputs": [
    {
     "data": {
      "text/plain": [
       "'Q5. Create a generator function for prime numbers less than 1000. Use the next() method to print the  first 20 prime numbers.'"
      ]
     },
     "execution_count": 65,
     "metadata": {},
     "output_type": "execute_result"
    }
   ],
   "source": [
    "'''Q5. Create a generator function for prime numbers less than 1000. Use the next() method to print the  first 20 prime numbers.'''\n"
   ]
  },
  {
   "cell_type": "code",
   "execution_count": 67,
   "id": "ce6e4d65-466a-4a02-9ca7-8ff4195f98f3",
   "metadata": {},
   "outputs": [
    {
     "name": "stdin",
     "output_type": "stream",
     "text": [
      "Please enter the Lowest Range Value:  0\n",
      "Please enter the Upper Range Value:  20\n"
     ]
    },
    {
     "name": "stdout",
     "output_type": "stream",
     "text": [
      "The Prime Numbers in the range are:\n",
      "2\n",
      "3\n",
      "5\n",
      "7\n",
      "11\n",
      "13\n",
      "17\n",
      "19\n"
     ]
    }
   ],
   "source": [
    "# Using the generator function to print prime numbers\n",
    "lower_value = int(input(\"Please enter the Lowest Range Value: \"))\n",
    "upper_value = int(input(\"Please enter the Upper Range Value: \"))\n",
    "\n",
    "def generate_primes(lower_value, upper_value):\n",
    "    for number in range(lower_value, upper_value + 1):\n",
    "        if number > 1:\n",
    "            for i in range(2, number):\n",
    "                if (number % i) == 0:\n",
    "                    break\n",
    "            else:\n",
    "                yield number\n",
    "print(\"The Prime Numbers in the range are:\")\n",
    "for prime in generate_primes(lower_value, upper_value):\n",
    "    print(prime)"
   ]
  },
  {
   "cell_type": "markdown",
   "id": "d34fc946-1d6a-4e26-be14-7c29a17c1968",
   "metadata": {},
   "source": [
    "# Question 6"
   ]
  },
  {
   "cell_type": "code",
   "execution_count": 35,
   "id": "c60eb262-dd3b-40bd-a071-28ac2eec175a",
   "metadata": {},
   "outputs": [
    {
     "data": {
      "text/plain": [
       "' Q6. Write a python program to print the first 10 Fibonacci numbers using a while loop.'"
      ]
     },
     "execution_count": 35,
     "metadata": {},
     "output_type": "execute_result"
    }
   ],
   "source": [
    "\"\"\" Q6. Write a python program to print the first 10 Fibonacci numbers using a while loop.\"\"\""
   ]
  },
  {
   "cell_type": "code",
   "execution_count": 36,
   "id": "16798673-28c4-4cfc-a1e9-70277e0a0ce3",
   "metadata": {},
   "outputs": [],
   "source": [
    "# Solutuion"
   ]
  },
  {
   "cell_type": "code",
   "execution_count": 37,
   "id": "1ef49d2c-e985-48da-8a4a-771bab089e94",
   "metadata": {},
   "outputs": [],
   "source": [
    "# fibonacci series start with 0 and 1"
   ]
  },
  {
   "cell_type": "code",
   "execution_count": 38,
   "id": "64f21d13-5ee6-40af-b4bc-66218619be4c",
   "metadata": {},
   "outputs": [
    {
     "name": "stdin",
     "output_type": "stream",
     "text": [
      "Enter a number 10\n"
     ]
    },
    {
     "name": "stdout",
     "output_type": "stream",
     "text": [
      "0\n",
      "1\n",
      "1\n",
      "2\n",
      "3\n",
      "5\n",
      "8\n",
      "13\n",
      "21\n",
      "34\n"
     ]
    }
   ],
   "source": [
    "n=int(input(\"Enter a number\")) # start with 0\n",
    "a=0\n",
    "b=1\n",
    "i=0\n",
    "while i<n:\n",
    "    print(a)\n",
    "    c=a+b\n",
    "    a=b\n",
    "    b=c\n",
    "    i=i+1\n",
    "    \n",
    "    \n",
    "\n"
   ]
  },
  {
   "cell_type": "code",
   "execution_count": 39,
   "id": "74429521-6d0f-4396-b75b-0f2f8e4d91be",
   "metadata": {
    "tags": []
   },
   "outputs": [
    {
     "name": "stdin",
     "output_type": "stream",
     "text": [
      "Enter a number 10\n"
     ]
    },
    {
     "name": "stdout",
     "output_type": "stream",
     "text": [
      "1\n",
      "1\n",
      "2\n",
      "3\n",
      "5\n",
      "8\n",
      "13\n",
      "21\n",
      "34\n",
      "55\n"
     ]
    }
   ],
   "source": [
    "n=int(input(\"Enter a number\")) # start with 1\n",
    "a=0\n",
    "b=1\n",
    "i=0\n",
    "while i<n:\n",
    "    c=a+b\n",
    "    a=b\n",
    "    b=c\n",
    "    i=i+1\n",
    "    print(a)\n",
    "    \n",
    "\n"
   ]
  },
  {
   "cell_type": "code",
   "execution_count": 40,
   "id": "d0f3a0ce-e960-4e3d-bb3a-4e6372f4620b",
   "metadata": {},
   "outputs": [],
   "source": [
    "# fibonacci series by using function"
   ]
  },
  {
   "cell_type": "code",
   "execution_count": null,
   "id": "58bb974c-b242-4a69-8aa5-daf7530cbb92",
   "metadata": {},
   "outputs": [],
   "source": [
    "def fibonaaci_series(n):\n",
    "    a=0\n",
    "    b=1\n",
    "    i=0\n",
    "    fibonaaci_list=[]\n",
    "    while i<n:\n",
    "        fibonaaci_list.append(a)\n",
    "        c=a+b\n",
    "        a=b\n",
    "        b=c\n",
    "        i=i+1\n",
    "       \n",
    "    return fibonaaci_list\n",
    "    "
   ]
  },
  {
   "cell_type": "code",
   "execution_count": 41,
   "id": "461aede0-00b1-49c4-bc7d-5be4af4fbf75",
   "metadata": {},
   "outputs": [
    {
     "data": {
      "text/plain": [
       "[0, 1, 1, 2, 3, 5, 8, 13, 21, 34]"
      ]
     },
     "execution_count": 43,
     "metadata": {},
     "output_type": "execute_result"
    }
   ],
   "source": [
    "fibonaaci_series(10)"
   ]
  },
  {
   "cell_type": "markdown",
   "id": "35cc2e4b-b2c7-4de0-8bba-534cd6592140",
   "metadata": {},
   "source": [
    "# Question 7"
   ]
  },
  {
   "cell_type": "code",
   "execution_count": 45,
   "id": "99b369a5-3982-48de-ba3a-78ddd8bc40d2",
   "metadata": {},
   "outputs": [
    {
     "data": {
      "text/plain": [
       "\"Q7. Write a List Comprehension to iterate through the given string: ‘pwskills’.\\nExpected output: ['p', 'w', 's', 'k', 'i', 'l', 'l', 's']\""
      ]
     },
     "execution_count": 45,
     "metadata": {},
     "output_type": "execute_result"
    }
   ],
   "source": [
    "'''Q7. Write a List Comprehension to iterate through the given string: ‘pwskills’.\n",
    "Expected output: ['p', 'w', 's', 'k', 'i', 'l', 'l', 's']'''"
   ]
  },
  {
   "cell_type": "code",
   "execution_count": 46,
   "id": "42dbcfb3-8a68-4b1b-aaad-93e54de3d7c1",
   "metadata": {},
   "outputs": [],
   "source": [
    "l2=[\"pwskills\"]"
   ]
  },
  {
   "cell_type": "code",
   "execution_count": 47,
   "id": "d0e8eeb2-2dd7-4a88-b121-0c4f2043f55c",
   "metadata": {},
   "outputs": [
    {
     "name": "stdout",
     "output_type": "stream",
     "text": [
      "['p', 'w', 's', 'k', 'i', 'l', 'l', 's']\n"
     ]
    }
   ],
   "source": [
    "l3=[]\n",
    "for i in l2:\n",
    "    for j in i:\n",
    "        l3.append(j)\n",
    "print(l3)\n",
    "    \n",
    "    "
   ]
  },
  {
   "cell_type": "markdown",
   "id": "d147272d-fdfd-46b2-949b-e78bede4f275",
   "metadata": {},
   "source": [
    "## A List Comprehension"
   ]
  },
  {
   "cell_type": "code",
   "execution_count": 48,
   "id": "dacbc237-a7b3-4e39-94b4-765dad277627",
   "metadata": {},
   "outputs": [
    {
     "data": {
      "text/plain": [
       "['p', 'w', 's', 'k', 'i', 'l', 'l', 's']"
      ]
     },
     "execution_count": 48,
     "metadata": {},
     "output_type": "execute_result"
    }
   ],
   "source": [
    "[j for i in l2 for j in i]"
   ]
  },
  {
   "cell_type": "markdown",
   "id": "e4644f7c-aff1-418f-9b41-8f0c6a5952e9",
   "metadata": {},
   "source": [
    "# Question 8"
   ]
  },
  {
   "cell_type": "code",
   "execution_count": 49,
   "id": "1cf53a24-6172-4e92-9893-c90090c6ac8c",
   "metadata": {},
   "outputs": [],
   "source": [
    "#Q8. Write a python program to check whether a given number is Palindrome or not using a while loop."
   ]
  },
  {
   "cell_type": "code",
   "execution_count": 50,
   "id": "45968bb4-0776-4067-99f7-325695d5ab90",
   "metadata": {},
   "outputs": [
    {
     "data": {
      "text/plain": [
       "'A palindrome is a word, phrase, number, or sequence of characters that reads the same forward and backward'"
      ]
     },
     "execution_count": 50,
     "metadata": {},
     "output_type": "execute_result"
    }
   ],
   "source": [
    "\"\"\"A palindrome is a word, phrase, number, or sequence of characters that reads the same forward and backward\"\"\""
   ]
  },
  {
   "cell_type": "code",
   "execution_count": 51,
   "id": "fbf7202d-b842-4a26-a20f-9bb261470ef1",
   "metadata": {},
   "outputs": [],
   "source": [
    "# we can read from forword and backword \n",
    "# example - \"level\", \"madam\", \"radar\", \"121\", \"14541\""
   ]
  },
  {
   "cell_type": "code",
   "execution_count": 52,
   "id": "40e394a6-39bc-4900-909b-87a502b3d9de",
   "metadata": {},
   "outputs": [],
   "source": [
    "# this below code  for  any word and number using   if-else condition"
   ]
  },
  {
   "cell_type": "code",
   "execution_count": 53,
   "id": "45aaf467-160e-496a-bc97-08bbca138bc2",
   "metadata": {},
   "outputs": [
    {
     "name": "stdin",
     "output_type": "stream",
     "text": [
      "Enter a number or string to check if it is a palindrome:  level\n"
     ]
    },
    {
     "name": "stdout",
     "output_type": "stream",
     "text": [
      "The input is a palindrome.\n"
     ]
    }
   ],
   "source": [
    "word = input(\"Enter a number or string to check if it is a palindrome: \")\n",
    "reverse = str(word)[::-1]  # Reverse the input\n",
    "\n",
    "if str(word) == reverse:\n",
    "    print(\"The input is a palindrome.\")\n",
    "else:\n",
    "    print(\"The input is not a palindrome.\")"
   ]
  },
  {
   "cell_type": "code",
   "execution_count": 54,
   "id": "f753e169-0f43-498e-a188-8693d9c3e76f",
   "metadata": {},
   "outputs": [],
   "source": [
    "# this below code  for \"number\" using while  condition"
   ]
  },
  {
   "cell_type": "code",
   "execution_count": 55,
   "id": "a7778265-86a9-40a2-a332-507e11333647",
   "metadata": {},
   "outputs": [
    {
     "name": "stdin",
     "output_type": "stream",
     "text": [
      "Enter a number to check if it is a palindrome:  121\n"
     ]
    },
    {
     "name": "stdout",
     "output_type": "stream",
     "text": [
      "The number is a palindrome.\n"
     ]
    }
   ],
   "source": [
    "word = input(\"Enter a number to check if it is a palindrome: \")\n",
    "reverse = \"\"\n",
    "length = len(word)\n",
    "\n",
    "if word.isdigit():\n",
    "    while length > 0:\n",
    "        reverse = reverse + word[length - 1]\n",
    "        length = length - 1\n",
    "    if word == reverse:\n",
    "        print(\"The number is a palindrome.\")\n",
    "    else:\n",
    "        print(\"The number is not a palindrome.\")\n",
    "else:\n",
    "    print(\"Invalid input! Please enter a number.\")"
   ]
  },
  {
   "cell_type": "code",
   "execution_count": null,
   "id": "2014594f-46ca-46a0-a4ea-235963929cd1",
   "metadata": {},
   "outputs": [],
   "source": []
  },
  {
   "cell_type": "markdown",
   "id": "b205343c-b48c-424f-a194-eaabf1bbcce1",
   "metadata": {},
   "source": [
    "# Question 9"
   ]
  },
  {
   "cell_type": "code",
   "execution_count": 56,
   "id": "7bdcfbdf-7dfb-427a-80ce-77aa2fd803e2",
   "metadata": {},
   "outputs": [
    {
     "data": {
      "text/plain": [
       "'Q9. Write a code to print odd numbers from 1 to 100 using list comprehension.\\nNote: Use a list comprehension to create a list from 1 to 100 and use another List comprehension to filter\\nout odd numbers.'"
      ]
     },
     "execution_count": 56,
     "metadata": {},
     "output_type": "execute_result"
    }
   ],
   "source": [
    "'''Q9. Write a code to print odd numbers from 1 to 100 using list comprehension.\n",
    "Note: Use a list comprehension to create a list from 1 to 100 and use another List comprehension to filter\n",
    "out odd numbers.'''"
   ]
  },
  {
   "cell_type": "code",
   "execution_count": 57,
   "id": "81f64198-48d4-46e3-a912-487d47b87e1b",
   "metadata": {},
   "outputs": [],
   "source": [
    "# comprehension form\n",
    "#  [output-loop-condition]"
   ]
  },
  {
   "cell_type": "code",
   "execution_count": 58,
   "id": "a08ad937-49ad-4852-bb88-97283d2c0376",
   "metadata": {},
   "outputs": [],
   "source": [
    "l=range(1,101)"
   ]
  },
  {
   "cell_type": "code",
   "execution_count": 59,
   "id": "131637a7-ebe1-4e69-b5a5-fd31e32536b4",
   "metadata": {},
   "outputs": [],
   "source": [
    "l2=[i for i in l if i%2!=0]"
   ]
  },
  {
   "cell_type": "code",
   "execution_count": 60,
   "id": "8d69bb41-acd6-42ed-9e38-becd59069741",
   "metadata": {},
   "outputs": [
    {
     "data": {
      "text/plain": [
       "[1,\n",
       " 3,\n",
       " 5,\n",
       " 7,\n",
       " 9,\n",
       " 11,\n",
       " 13,\n",
       " 15,\n",
       " 17,\n",
       " 19,\n",
       " 21,\n",
       " 23,\n",
       " 25,\n",
       " 27,\n",
       " 29,\n",
       " 31,\n",
       " 33,\n",
       " 35,\n",
       " 37,\n",
       " 39,\n",
       " 41,\n",
       " 43,\n",
       " 45,\n",
       " 47,\n",
       " 49,\n",
       " 51,\n",
       " 53,\n",
       " 55,\n",
       " 57,\n",
       " 59,\n",
       " 61,\n",
       " 63,\n",
       " 65,\n",
       " 67,\n",
       " 69,\n",
       " 71,\n",
       " 73,\n",
       " 75,\n",
       " 77,\n",
       " 79,\n",
       " 81,\n",
       " 83,\n",
       " 85,\n",
       " 87,\n",
       " 89,\n",
       " 91,\n",
       " 93,\n",
       " 95,\n",
       " 97,\n",
       " 99]"
      ]
     },
     "execution_count": 60,
     "metadata": {},
     "output_type": "execute_result"
    }
   ],
   "source": [
    "l2"
   ]
  },
  {
   "cell_type": "code",
   "execution_count": 61,
   "id": "8330edc1-35a6-4e7a-8298-3ca8a36b8e32",
   "metadata": {},
   "outputs": [],
   "source": [
    "count_odd=len(l2)"
   ]
  },
  {
   "cell_type": "code",
   "execution_count": 62,
   "id": "2ac9e961-6601-4151-9776-77bc417b7615",
   "metadata": {},
   "outputs": [
    {
     "data": {
      "text/plain": [
       "50"
      ]
     },
     "execution_count": 62,
     "metadata": {},
     "output_type": "execute_result"
    }
   ],
   "source": [
    "count_odd"
   ]
  }
 ],
 "metadata": {
  "kernelspec": {
   "display_name": "Python 3 (ipykernel)",
   "language": "python",
   "name": "python3"
  },
  "language_info": {
   "codemirror_mode": {
    "name": "ipython",
    "version": 3
   },
   "file_extension": ".py",
   "mimetype": "text/x-python",
   "name": "python",
   "nbconvert_exporter": "python",
   "pygments_lexer": "ipython3",
   "version": "3.10.8"
  }
 },
 "nbformat": 4,
 "nbformat_minor": 5
}
