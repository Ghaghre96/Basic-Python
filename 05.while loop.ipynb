{
 "cells": [
  {
   "cell_type": "code",
   "execution_count": 7,
   "id": "d69aa9ac-b464-4c3f-a4b4-42d6e4bec35b",
   "metadata": {},
   "outputs": [
    {
     "name": "stdout",
     "output_type": "stream",
     "text": [
      "1\n",
      "2\n",
      "3\n",
      "4\n",
      "5\n",
      "6\n",
      "7\n",
      "8\n",
      "9\n",
      "10\n"
     ]
    }
   ],
   "source": [
    "a=1\n",
    "while a<=10:\n",
    "    print(a)\n",
    "    a=a+1"
   ]
  },
  {
   "cell_type": "markdown",
   "id": "ded4d37f-87ee-497a-b7c7-9aed59c2521f",
   "metadata": {},
   "source": [
    "## counter = i = variable"
   ]
  },
  {
   "cell_type": "code",
   "execution_count": 8,
   "id": "ef2c5097-ffbf-4bac-bc72-d204cbc262a2",
   "metadata": {},
   "outputs": [],
   "source": [
    "# sum of the number till some point"
   ]
  },
  {
   "cell_type": "code",
   "execution_count": 10,
   "id": "8f32bffb-ee53-4a67-a30c-70b932d66881",
   "metadata": {},
   "outputs": [
    {
     "name": "stdin",
     "output_type": "stream",
     "text": [
      "enter your limit 5\n"
     ]
    },
    {
     "data": {
      "text/plain": [
       "15"
      ]
     },
     "execution_count": 10,
     "metadata": {},
     "output_type": "execute_result"
    }
   ],
   "source": [
    "n = int(input(\"enter your limit\"))\n",
    "starting_point = 0\n",
    "counter= 1 # counter means aap ek ek karke value dena chate ho\n",
    "while counter<=n:\n",
    "    starting_point = starting_point+counter\n",
    "    counter = counter+1\n",
    "starting_point "
   ]
  },
  {
   "cell_type": "code",
   "execution_count": 11,
   "id": "922814a4-73a2-4c93-9b95-bf2ba5e4365b",
   "metadata": {},
   "outputs": [],
   "source": [
    "# factorial calculate"
   ]
  },
  {
   "cell_type": "code",
   "execution_count": 15,
   "id": "2931de98-f53e-43b6-a3cd-602246948c02",
   "metadata": {},
   "outputs": [
    {
     "name": "stdin",
     "output_type": "stream",
     "text": [
      "enter your number 3\n"
     ]
    },
    {
     "data": {
      "text/plain": [
       "6"
      ]
     },
     "execution_count": 15,
     "metadata": {},
     "output_type": "execute_result"
    }
   ],
   "source": [
    "number = int(input(\"enter your number\"))\n",
    "factorial = 1\n",
    "while number>0:\n",
    "        factorial = factorial*number\n",
    "        number = number-1\n",
    "factorial"
   ]
  },
  {
   "cell_type": "markdown",
   "id": "4caacee8-5b59-4e06-81de-43a87e1200a5",
   "metadata": {},
   "source": [
    "### finonacci series \n",
    "####( means next number = sum of previous two number)"
   ]
  },
  {
   "cell_type": "code",
   "execution_count": 2,
   "id": "39110497-d925-47cd-9aa4-8eead51227de",
   "metadata": {},
   "outputs": [
    {
     "name": "stdin",
     "output_type": "stream",
     "text": [
      "enter the number of element you are looking for 10\n"
     ]
    },
    {
     "name": "stdout",
     "output_type": "stream",
     "text": [
      "0\n",
      "1\n",
      "1\n",
      "2\n",
      "3\n",
      "5\n",
      "8\n",
      "13\n",
      "21\n",
      "34\n"
     ]
    }
   ],
   "source": [
    "number= int(input(\"enter the number of element you are looking for\"))\n",
    "a,b =0,1\n",
    "counter = 0\n",
    "while counter < number:\n",
    "    print(a)\n",
    "    c=a+b\n",
    "    a=b\n",
    "    b=c\n",
    "    counter=counter+1"
   ]
  },
  {
   "cell_type": "code",
   "execution_count": 6,
   "id": "dd162e41-79f4-43d3-9aef-98253f651784",
   "metadata": {},
   "outputs": [],
   "source": [
    "# reverse concept by a while loop"
   ]
  },
  {
   "cell_type": "code",
   "execution_count": 7,
   "id": "78d827e7-2c4c-42fa-b52a-2a517b18c6c7",
   "metadata": {},
   "outputs": [],
   "source": [
    "s=\"sourabh\""
   ]
  },
  {
   "cell_type": "code",
   "execution_count": 8,
   "id": "18682442-3bf1-43c7-a7d7-c60d630630ae",
   "metadata": {},
   "outputs": [
    {
     "data": {
      "text/plain": [
       "'hbaruos'"
      ]
     },
     "execution_count": 8,
     "metadata": {},
     "output_type": "execute_result"
    }
   ],
   "source": [
    "s[::-1]"
   ]
  },
  {
   "cell_type": "code",
   "execution_count": 9,
   "id": "503a6a1e-c629-46d3-8d1a-55f8ad8cee31",
   "metadata": {},
   "outputs": [
    {
     "name": "stdin",
     "output_type": "stream",
     "text": [
      "enter your string for reverse sourabh\n"
     ]
    }
   ],
   "source": [
    "word = input(\"enter your string for reverse\")\n"
   ]
  },
  {
   "cell_type": "code",
   "execution_count": 10,
   "id": "4b777a79-a959-46d3-bcac-1572a3b109ae",
   "metadata": {},
   "outputs": [
    {
     "name": "stdout",
     "output_type": "stream",
     "text": [
      "hbaruos\n"
     ]
    }
   ],
   "source": [
    "reverse = \"\"\n",
    "lenght=len(word)\n",
    "while lenght>0:\n",
    "    reverse  = reverse+word[lenght-1]\n",
    "    lenght = lenght-1\n",
    "print(reverse)"
   ]
  },
  {
   "cell_type": "code",
   "execution_count": 11,
   "id": "8ce5af68-9e4a-4a93-b0cd-99a18c8431f5",
   "metadata": {},
   "outputs": [],
   "source": [
    "# print table"
   ]
  },
  {
   "cell_type": "code",
   "execution_count": 24,
   "id": "95970ba6-2b09-4c7d-b069-97d1c44b5dd9",
   "metadata": {},
   "outputs": [
    {
     "name": "stdin",
     "output_type": "stream",
     "text": [
      "enter a num 2\n"
     ]
    },
    {
     "name": "stdout",
     "output_type": "stream",
     "text": [
      "2\n",
      "4\n",
      "6\n",
      "8\n",
      "10\n",
      "12\n",
      "14\n",
      "16\n",
      "18\n",
      "20\n"
     ]
    }
   ],
   "source": [
    "n = int(input(\"enter a num\")) # vo num jiska aap table want to make\n",
    "i = 1\n",
    "while i <=10:\n",
    "    result = n*i\n",
    "    print(n,\"*\",i,\"=\",result)\n",
    "    i=i+1\n",
    "                "
   ]
  },
  {
   "cell_type": "markdown",
   "id": "f81f9122-0aec-48b9-88e5-04f3d9e8c424",
   "metadata": {},
   "source": [
    "# while + else "
   ]
  },
  {
   "cell_type": "code",
   "execution_count": 25,
   "id": "f9e397cf-6047-46ae-95d6-7164f689f554",
   "metadata": {},
   "outputs": [
    {
     "name": "stdout",
     "output_type": "stream",
     "text": [
      "1\n",
      "2\n",
      "3\n",
      "4\n",
      "this will be executedonce your while will complete it successfully\n"
     ]
    }
   ],
   "source": [
    "n=5\n",
    "i=1\n",
    "while i<n:\n",
    "    print(i)\n",
    "    i=i+1\n",
    "else:\n",
    "    print(\"this will be executed once your while will complete it successfully\") "
   ]
  },
  {
   "cell_type": "code",
   "execution_count": 26,
   "id": "751bc99c-8734-42dd-a440-460bead7d0d3",
   "metadata": {},
   "outputs": [
    {
     "name": "stdout",
     "output_type": "stream",
     "text": [
      "1\n",
      "2\n",
      "3\n"
     ]
    }
   ],
   "source": [
    "n=5\n",
    "i=1\n",
    "while i<n:\n",
    "    print(i)\n",
    "    if i==3:\n",
    "        break\n",
    "    i=i+1\n",
    "else:\n",
    "    print(\"this will be executedonce your while will complete it successfully\") "
   ]
  },
  {
   "cell_type": "code",
   "execution_count": null,
   "id": "19170c18-6846-4b54-8612-04340ae566ea",
   "metadata": {},
   "outputs": [],
   "source": []
  }
 ],
 "metadata": {
  "kernelspec": {
   "display_name": "Python 3 (ipykernel)",
   "language": "python",
   "name": "python3"
  },
  "language_info": {
   "codemirror_mode": {
    "name": "ipython",
    "version": 3
   },
   "file_extension": ".py",
   "mimetype": "text/x-python",
   "name": "python",
   "nbconvert_exporter": "python",
   "pygments_lexer": "ipython3",
   "version": "3.10.8"
  }
 },
 "nbformat": 4,
 "nbformat_minor": 5
}
