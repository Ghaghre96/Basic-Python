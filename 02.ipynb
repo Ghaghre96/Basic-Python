{
 "cells": [
  {
   "cell_type": "markdown",
   "id": "e77f593f-4fb0-43b2-b0a6-cb227da5c344",
   "metadata": {},
   "source": [
    "# LIST, TUPLE, DICTIONARY"
   ]
  },
  {
   "cell_type": "markdown",
   "id": "ffa678a8-ac95-4505-9f73-48bd94456219",
   "metadata": {},
   "source": [
    "# STRING = IMMUTABLE"
   ]
  },
  {
   "cell_type": "markdown",
   "id": "86da57b7-5e3c-4cdd-a04f-ad82d3c72868",
   "metadata": {},
   "source": [
    "# LIST = MUTABLE"
   ]
  },
  {
   "cell_type": "code",
   "execution_count": 29,
   "id": "911eb09e-1c0e-4052-b9b0-a96856240947",
   "metadata": {},
   "outputs": [],
   "source": [
    "li = [2,3.45,400,\"sourabh\",9+8j,True]"
   ]
  },
  {
   "cell_type": "code",
   "execution_count": 30,
   "id": "87ed6681-7836-450d-b40b-01acd402de12",
   "metadata": {},
   "outputs": [
    {
     "data": {
      "text/plain": [
       "[2, 3.45, 400, 'sourabh', (9+8j), True]"
      ]
     },
     "execution_count": 30,
     "metadata": {},
     "output_type": "execute_result"
    }
   ],
   "source": [
    "li"
   ]
  },
  {
   "cell_type": "code",
   "execution_count": 31,
   "id": "d8455103-b9e8-4d53-b028-fd4d7a30dc1d",
   "metadata": {},
   "outputs": [
    {
     "data": {
      "text/plain": [
       "6"
      ]
     },
     "execution_count": 31,
     "metadata": {},
     "output_type": "execute_result"
    }
   ],
   "source": [
    "len(li)"
   ]
  },
  {
   "cell_type": "code",
   "execution_count": 32,
   "id": "8a687456-de32-441c-bd45-30c4f83eb797",
   "metadata": {},
   "outputs": [
    {
     "data": {
      "text/plain": [
       "list"
      ]
     },
     "execution_count": 32,
     "metadata": {},
     "output_type": "execute_result"
    }
   ],
   "source": [
    "type(li)"
   ]
  },
  {
   "cell_type": "code",
   "execution_count": 33,
   "id": "5d0e67d5-0664-4234-84eb-40a61d50fd39",
   "metadata": {},
   "outputs": [],
   "source": [
    "# indexing/ slicing/"
   ]
  },
  {
   "cell_type": "code",
   "execution_count": 34,
   "id": "8bfdcb86-1cd9-41ff-9170-13917ef55b07",
   "metadata": {},
   "outputs": [
    {
     "data": {
      "text/plain": [
       "2"
      ]
     },
     "execution_count": 34,
     "metadata": {},
     "output_type": "execute_result"
    }
   ],
   "source": [
    "li[0]"
   ]
  },
  {
   "cell_type": "code",
   "execution_count": 35,
   "id": "adb853d8-6be0-4ff8-8357-cf7dfbb63929",
   "metadata": {},
   "outputs": [
    {
     "data": {
      "text/plain": [
       "(9+8j)"
      ]
     },
     "execution_count": 35,
     "metadata": {},
     "output_type": "execute_result"
    }
   ],
   "source": [
    "li[4]"
   ]
  },
  {
   "cell_type": "code",
   "execution_count": 36,
   "id": "e241c977-6a75-4167-8c0d-e3b0e8717404",
   "metadata": {},
   "outputs": [
    {
     "data": {
      "text/plain": [
       "[2, 400, (9+8j)]"
      ]
     },
     "execution_count": 36,
     "metadata": {},
     "output_type": "execute_result"
    }
   ],
   "source": [
    "li[0:7:2]"
   ]
  },
  {
   "cell_type": "code",
   "execution_count": 37,
   "id": "f6004258-d8e5-4388-b45c-6820b5c75f39",
   "metadata": {},
   "outputs": [
    {
     "data": {
      "text/plain": [
       "[2, 3.45, 400, 'sourabh', (9+8j), True]"
      ]
     },
     "execution_count": 37,
     "metadata": {},
     "output_type": "execute_result"
    }
   ],
   "source": [
    "li[0:90:1]"
   ]
  },
  {
   "cell_type": "code",
   "execution_count": 38,
   "id": "be3e696e-4a38-4a3a-9939-3ac2e422bcf0",
   "metadata": {},
   "outputs": [
    {
     "data": {
      "text/plain": [
       "True"
      ]
     },
     "execution_count": 38,
     "metadata": {},
     "output_type": "execute_result"
    }
   ],
   "source": [
    "li[-1]"
   ]
  },
  {
   "cell_type": "code",
   "execution_count": 39,
   "id": "695111e1-93ec-4763-b5ce-f0f68b8c727c",
   "metadata": {},
   "outputs": [
    {
     "data": {
      "text/plain": [
       "(9+8j)"
      ]
     },
     "execution_count": 39,
     "metadata": {},
     "output_type": "execute_result"
    }
   ],
   "source": [
    "li[-2]"
   ]
  },
  {
   "cell_type": "code",
   "execution_count": 40,
   "id": "a82e0a52-762e-438f-b374-ffc96b1afdc0",
   "metadata": {},
   "outputs": [
    {
     "data": {
      "text/plain": [
       "[]"
      ]
     },
     "execution_count": 40,
     "metadata": {},
     "output_type": "execute_result"
    }
   ],
   "source": [
    "li[0:7:-1]"
   ]
  },
  {
   "cell_type": "code",
   "execution_count": 41,
   "id": "95511048-911d-4ac8-8533-e6b2ac5bf3b4",
   "metadata": {},
   "outputs": [
    {
     "data": {
      "text/plain": [
       "[True, (9+8j), 'sourabh', 400, 3.45, 2]"
      ]
     },
     "execution_count": 41,
     "metadata": {},
     "output_type": "execute_result"
    }
   ],
   "source": [
    "li[-1:-7:-1]"
   ]
  },
  {
   "cell_type": "code",
   "execution_count": 42,
   "id": "7f290267-1259-4755-99ee-766274e2b66a",
   "metadata": {},
   "outputs": [
    {
     "data": {
      "text/plain": [
       "[True, (9+8j), 'sourabh', 400, 3.45, 2]"
      ]
     },
     "execution_count": 42,
     "metadata": {},
     "output_type": "execute_result"
    }
   ],
   "source": [
    "li[::-1]"
   ]
  },
  {
   "cell_type": "code",
   "execution_count": 43,
   "id": "1131fb5c-1912-4221-b1d2-15e709691e53",
   "metadata": {},
   "outputs": [
    {
     "data": {
      "text/plain": [
       "[2, 400, (9+8j)]"
      ]
     },
     "execution_count": 43,
     "metadata": {},
     "output_type": "execute_result"
    }
   ],
   "source": [
    "li[0:8:2]"
   ]
  },
  {
   "cell_type": "code",
   "execution_count": 44,
   "id": "9ee8b562-ead4-4547-b191-6c8a67058eba",
   "metadata": {},
   "outputs": [
    {
     "data": {
      "text/plain": [
       "[2, 400, (9+8j)]"
      ]
     },
     "execution_count": 44,
     "metadata": {},
     "output_type": "execute_result"
    }
   ],
   "source": [
    "li[::2]"
   ]
  },
  {
   "cell_type": "code",
   "execution_count": 45,
   "id": "9770781a-1df1-4f84-8375-437dd48b07d9",
   "metadata": {},
   "outputs": [],
   "source": [
    "# concatenating"
   ]
  },
  {
   "cell_type": "code",
   "execution_count": 46,
   "id": "91c60610-d913-4f0a-a789-84113c10a77f",
   "metadata": {},
   "outputs": [],
   "source": [
    "x = 'sourabh'"
   ]
  },
  {
   "cell_type": "code",
   "execution_count": 47,
   "id": "ac504bb0-9898-4e8d-a6d5-fe99e6bde79e",
   "metadata": {},
   "outputs": [
    {
     "ename": "TypeError",
     "evalue": "can only concatenate list (not \"str\") to list",
     "output_type": "error",
     "traceback": [
      "\u001b[0;31m---------------------------------------------------------------------------\u001b[0m",
      "\u001b[0;31mTypeError\u001b[0m                                 Traceback (most recent call last)",
      "Cell \u001b[0;32mIn[47], line 1\u001b[0m\n\u001b[0;32m----> 1\u001b[0m \u001b[43mli\u001b[49m\u001b[38;5;241;43m+\u001b[39;49m\u001b[43mx\u001b[49m\n",
      "\u001b[0;31mTypeError\u001b[0m: can only concatenate list (not \"str\") to list"
     ]
    }
   ],
   "source": [
    "li+x"
   ]
  },
  {
   "cell_type": "code",
   "execution_count": 56,
   "id": "b994d904-c931-4283-9100-a9db0936a1f5",
   "metadata": {},
   "outputs": [
    {
     "data": {
      "text/plain": [
       "['s', 'o', 'u', 'r', 'a', 'b', 'h']"
      ]
     },
     "execution_count": 56,
     "metadata": {},
     "output_type": "execute_result"
    }
   ],
   "source": [
    "list(x)"
   ]
  },
  {
   "cell_type": "code",
   "execution_count": 57,
   "id": "a401e311-2cd7-48b8-a634-431bcb14f37b",
   "metadata": {},
   "outputs": [
    {
     "data": {
      "text/plain": [
       "['s', 'o', 'u', 'r', 'a', 'b', 'h', 2, 3.45, 400, 'sourabh', (9+8j), True]"
      ]
     },
     "execution_count": 57,
     "metadata": {},
     "output_type": "execute_result"
    }
   ],
   "source": [
    "list(x)+li"
   ]
  },
  {
   "cell_type": "code",
   "execution_count": 58,
   "id": "9c085439-190b-492e-8806-5dc9a79661e6",
   "metadata": {},
   "outputs": [],
   "source": [
    "# remove the element from list"
   ]
  },
  {
   "cell_type": "code",
   "execution_count": 59,
   "id": "4ca86c8a-1d12-43f7-8cd6-e2d582162b32",
   "metadata": {},
   "outputs": [
    {
     "data": {
      "text/plain": [
       "[2, 3.45, 400, 'sourabh', (9+8j), True]"
      ]
     },
     "execution_count": 59,
     "metadata": {},
     "output_type": "execute_result"
    }
   ],
   "source": [
    "li"
   ]
  },
  {
   "cell_type": "code",
   "execution_count": 60,
   "id": "a278fd47-5b9f-4086-ae00-740bc7d9c2da",
   "metadata": {},
   "outputs": [
    {
     "data": {
      "text/plain": [
       "'sourabh'"
      ]
     },
     "execution_count": 60,
     "metadata": {},
     "output_type": "execute_result"
    }
   ],
   "source": [
    "li[3]"
   ]
  },
  {
   "cell_type": "code",
   "execution_count": 61,
   "id": "c0e8e2d7-60f4-4940-9274-56b80d37f107",
   "metadata": {},
   "outputs": [
    {
     "data": {
      "text/plain": [
       "str"
      ]
     },
     "execution_count": 61,
     "metadata": {},
     "output_type": "execute_result"
    }
   ],
   "source": [
    "type(li[3])"
   ]
  },
  {
   "cell_type": "code",
   "execution_count": 62,
   "id": "85a2f682-d5e9-4177-9a49-ea598ce06ee6",
   "metadata": {},
   "outputs": [
    {
     "data": {
      "text/plain": [
       "'so'"
      ]
     },
     "execution_count": 62,
     "metadata": {},
     "output_type": "execute_result"
    }
   ],
   "source": [
    "li[3][0:2]"
   ]
  },
  {
   "cell_type": "code",
   "execution_count": 63,
   "id": "6d04127b-17f7-4edc-aa8c-6a16c281ac4e",
   "metadata": {},
   "outputs": [],
   "source": [
    " x=\"sourabh\""
   ]
  },
  {
   "cell_type": "code",
   "execution_count": 64,
   "id": "d5258a84-6dfa-4302-8c14-03d5fcf43f69",
   "metadata": {},
   "outputs": [
    {
     "data": {
      "text/plain": [
       "'r'"
      ]
     },
     "execution_count": 64,
     "metadata": {},
     "output_type": "execute_result"
    }
   ],
   "source": [
    "x[3]"
   ]
  },
  {
   "cell_type": "code",
   "execution_count": 65,
   "id": "d382eb84-5cf8-4f54-b7cc-70fe7348df7f",
   "metadata": {},
   "outputs": [
    {
     "data": {
      "text/plain": [
       "'srh'"
      ]
     },
     "execution_count": 65,
     "metadata": {},
     "output_type": "execute_result"
    }
   ],
   "source": [
    "x[::3]"
   ]
  },
  {
   "cell_type": "code",
   "execution_count": 66,
   "id": "dbc4cf62-73ce-4c78-bafa-94c8ace0f220",
   "metadata": {},
   "outputs": [
    {
     "data": {
      "text/plain": [
       "'sourabh'"
      ]
     },
     "execution_count": 66,
     "metadata": {},
     "output_type": "execute_result"
    }
   ],
   "source": [
    "str(li[3])"
   ]
  },
  {
   "cell_type": "code",
   "execution_count": 67,
   "id": "b0c8da2b-2955-43fd-b413-7de04cbdfc0d",
   "metadata": {},
   "outputs": [
    {
     "data": {
      "text/plain": [
       "'s'"
      ]
     },
     "execution_count": 67,
     "metadata": {},
     "output_type": "execute_result"
    }
   ],
   "source": [
    "str(li[3])[0:1]"
   ]
  },
  {
   "cell_type": "code",
   "execution_count": 68,
   "id": "5bbcd7df-602b-4a61-babf-df1e97b89e4b",
   "metadata": {},
   "outputs": [],
   "source": [
    "# list addition (we can add list by list)"
   ]
  },
  {
   "cell_type": "code",
   "execution_count": 69,
   "id": "0b0da606-c8e6-42ab-9ef4-1ec79c7fa244",
   "metadata": {},
   "outputs": [
    {
     "ename": "TypeError",
     "evalue": "can only concatenate list (not \"int\") to list",
     "output_type": "error",
     "traceback": [
      "\u001b[0;31m---------------------------------------------------------------------------\u001b[0m",
      "\u001b[0;31mTypeError\u001b[0m                                 Traceback (most recent call last)",
      "Cell \u001b[0;32mIn[69], line 1\u001b[0m\n\u001b[0;32m----> 1\u001b[0m \u001b[43mli\u001b[49m\u001b[38;5;241;43m+\u001b[39;49m\u001b[38;5;241;43m5\u001b[39;49m\n",
      "\u001b[0;31mTypeError\u001b[0m: can only concatenate list (not \"int\") to list"
     ]
    }
   ],
   "source": [
    "li+5"
   ]
  },
  {
   "cell_type": "code",
   "execution_count": 70,
   "id": "1ba4f499-7a76-4c02-9b33-1dd46043fd88",
   "metadata": {},
   "outputs": [],
   "source": [
    "l1=[3,4,5]"
   ]
  },
  {
   "cell_type": "code",
   "execution_count": 71,
   "id": "79cd3c84-8e2f-4127-97f9-67ea0ca8b5e6",
   "metadata": {},
   "outputs": [
    {
     "data": {
      "text/plain": [
       "[2, 3.45, 400, 'sourabh', (9+8j), True, 3, 4, 5]"
      ]
     },
     "execution_count": 71,
     "metadata": {},
     "output_type": "execute_result"
    }
   ],
   "source": [
    "li+l1"
   ]
  },
  {
   "cell_type": "code",
   "execution_count": 72,
   "id": "3eb54c5a-5612-4a4a-b736-7b3c7e11f11c",
   "metadata": {},
   "outputs": [
    {
     "data": {
      "text/plain": [
       "[3, 4, 5, 3, 4, 5, 3, 4, 5]"
      ]
     },
     "execution_count": 72,
     "metadata": {},
     "output_type": "execute_result"
    }
   ],
   "source": [
    "l1*3"
   ]
  },
  {
   "cell_type": "code",
   "execution_count": 73,
   "id": "201fc636-af0c-4919-b5b8-ce2a9b703115",
   "metadata": {},
   "outputs": [
    {
     "data": {
      "text/plain": [
       "[2, 3.45, 400, 'sourabh', (9+8j), True]"
      ]
     },
     "execution_count": 73,
     "metadata": {},
     "output_type": "execute_result"
    }
   ],
   "source": [
    "li"
   ]
  },
  {
   "cell_type": "code",
   "execution_count": 74,
   "id": "4baec26b-1a7b-482f-9115-b33526550042",
   "metadata": {},
   "outputs": [
    {
     "data": {
      "text/plain": [
       "6"
      ]
     },
     "execution_count": 74,
     "metadata": {},
     "output_type": "execute_result"
    }
   ],
   "source": [
    "len(li)"
   ]
  },
  {
   "cell_type": "code",
   "execution_count": 75,
   "id": "c2338f9e-918f-4767-bcfa-48e235d9b2b0",
   "metadata": {},
   "outputs": [],
   "source": [
    "# appened// extend "
   ]
  },
  {
   "cell_type": "code",
   "execution_count": 76,
   "id": "9f35babf-2bfc-4acc-b111-ad2485681a32",
   "metadata": {},
   "outputs": [
    {
     "data": {
      "text/plain": [
       "[2, 3.45, 400, 'sourabh', (9+8j), True]"
      ]
     },
     "execution_count": 76,
     "metadata": {},
     "output_type": "execute_result"
    }
   ],
   "source": [
    "li"
   ]
  },
  {
   "cell_type": "code",
   "execution_count": 77,
   "id": "7f6e3a20-f832-42fa-b9ee-07482f96ff2e",
   "metadata": {},
   "outputs": [],
   "source": [
    "li.append(456)"
   ]
  },
  {
   "cell_type": "code",
   "execution_count": 78,
   "id": "91c08fda-d263-4300-9575-bbea27ccde10",
   "metadata": {},
   "outputs": [
    {
     "data": {
      "text/plain": [
       "[2, 3.45, 400, 'sourabh', (9+8j), True, 456]"
      ]
     },
     "execution_count": 78,
     "metadata": {},
     "output_type": "execute_result"
    }
   ],
   "source": [
    "li"
   ]
  },
  {
   "cell_type": "code",
   "execution_count": 79,
   "id": "ba416727-99ae-4664-a022-3f0c27d1fb6a",
   "metadata": {},
   "outputs": [],
   "source": [
    "li.append('Ghaghre')"
   ]
  },
  {
   "cell_type": "code",
   "execution_count": 80,
   "id": "1ed61c92-680c-473e-9087-8ad25fba291f",
   "metadata": {},
   "outputs": [
    {
     "data": {
      "text/plain": [
       "[2, 3.45, 400, 'sourabh', (9+8j), True, 456, 'Ghaghre']"
      ]
     },
     "execution_count": 80,
     "metadata": {},
     "output_type": "execute_result"
    }
   ],
   "source": [
    "li"
   ]
  },
  {
   "cell_type": "markdown",
   "id": "0bd81570-c51d-47bf-9c0b-7d060f56f32b",
   "metadata": {},
   "source": [
    "# NESTED LIST (LIST KE ANDAR EK LIST)"
   ]
  },
  {
   "cell_type": "code",
   "execution_count": 81,
   "id": "1be5e76d-88fa-4df7-a4e4-1d43ce144c8a",
   "metadata": {},
   "outputs": [],
   "source": [
    "l=[1,2,3,4,5,6]"
   ]
  },
  {
   "cell_type": "code",
   "execution_count": 82,
   "id": "13078aac-7236-4a24-aee7-5c460bd3e241",
   "metadata": {},
   "outputs": [
    {
     "data": {
      "text/plain": [
       "[1, 2, 3, 4, 5, 6]"
      ]
     },
     "execution_count": 82,
     "metadata": {},
     "output_type": "execute_result"
    }
   ],
   "source": [
    "l"
   ]
  },
  {
   "cell_type": "code",
   "execution_count": 83,
   "id": "22830861-0044-4334-a008-2dd92ab89d7b",
   "metadata": {},
   "outputs": [],
   "source": [
    "fruit=[\"mango\",\"grapes\",\"banana\"]"
   ]
  },
  {
   "cell_type": "code",
   "execution_count": 84,
   "id": "53f602d5-718b-4797-b5aa-278c4fab5f48",
   "metadata": {},
   "outputs": [
    {
     "data": {
      "text/plain": [
       "['mango', 'grapes', 'banana']"
      ]
     },
     "execution_count": 84,
     "metadata": {},
     "output_type": "execute_result"
    }
   ],
   "source": [
    "fruit"
   ]
  },
  {
   "cell_type": "code",
   "execution_count": 85,
   "id": "76d87e6b-00ed-4b4f-94de-126f581b0206",
   "metadata": {},
   "outputs": [],
   "source": [
    "l.append(fruit)"
   ]
  },
  {
   "cell_type": "code",
   "execution_count": 86,
   "id": "abf814f4-09b0-409b-94b3-068b17b78f95",
   "metadata": {},
   "outputs": [
    {
     "data": {
      "text/plain": [
       "[1, 2, 3, 4, 5, 6, ['mango', 'grapes', 'banana']]"
      ]
     },
     "execution_count": 86,
     "metadata": {},
     "output_type": "execute_result"
    }
   ],
   "source": [
    "l"
   ]
  },
  {
   "cell_type": "code",
   "execution_count": 87,
   "id": "57da2975-c7b0-4988-84f0-efee50094d97",
   "metadata": {},
   "outputs": [
    {
     "data": {
      "text/plain": [
       "3"
      ]
     },
     "execution_count": 87,
     "metadata": {},
     "output_type": "execute_result"
    }
   ],
   "source": [
    "l[2]"
   ]
  },
  {
   "cell_type": "code",
   "execution_count": 88,
   "id": "6fe42404-ec73-4823-bee7-d0edbf747ba0",
   "metadata": {},
   "outputs": [
    {
     "data": {
      "text/plain": [
       "['mango', 'grapes', 'banana']"
      ]
     },
     "execution_count": 88,
     "metadata": {},
     "output_type": "execute_result"
    }
   ],
   "source": [
    "l[6]"
   ]
  },
  {
   "cell_type": "code",
   "execution_count": 89,
   "id": "c7f7bacd-e82f-49c4-9751-ffcee5f7c0eb",
   "metadata": {},
   "outputs": [
    {
     "data": {
      "text/plain": [
       "'grapes'"
      ]
     },
     "execution_count": 89,
     "metadata": {},
     "output_type": "execute_result"
    }
   ],
   "source": [
    "l[6][1]"
   ]
  },
  {
   "cell_type": "code",
   "execution_count": 90,
   "id": "5ef3bb3d-e21c-46df-9de2-13c9c1cbce2b",
   "metadata": {},
   "outputs": [],
   "source": [
    "# EXTEND ( extend break kake add karta hai)"
   ]
  },
  {
   "cell_type": "code",
   "execution_count": 91,
   "id": "f8446bf1-b18e-44dc-9317-c7a870ce3404",
   "metadata": {},
   "outputs": [],
   "source": [
    "l.extend(\"sourabh\")"
   ]
  },
  {
   "cell_type": "code",
   "execution_count": 92,
   "id": "91b0c86f-7a74-4f9f-bce4-9550f3e3d747",
   "metadata": {},
   "outputs": [
    {
     "data": {
      "text/plain": [
       "[1,\n",
       " 2,\n",
       " 3,\n",
       " 4,\n",
       " 5,\n",
       " 6,\n",
       " ['mango', 'grapes', 'banana'],\n",
       " 's',\n",
       " 'o',\n",
       " 'u',\n",
       " 'r',\n",
       " 'a',\n",
       " 'b',\n",
       " 'h']"
      ]
     },
     "execution_count": 92,
     "metadata": {},
     "output_type": "execute_result"
    }
   ],
   "source": [
    "l"
   ]
  },
  {
   "cell_type": "code",
   "execution_count": 93,
   "id": "41220b8f-1be5-4628-b7fe-38fa28b59cec",
   "metadata": {},
   "outputs": [],
   "source": [
    "l.extend([10,20,30])"
   ]
  },
  {
   "cell_type": "code",
   "execution_count": 94,
   "id": "9e5784a9-4a50-44fd-9a53-8c3d26f5bb16",
   "metadata": {},
   "outputs": [
    {
     "data": {
      "text/plain": [
       "[1,\n",
       " 2,\n",
       " 3,\n",
       " 4,\n",
       " 5,\n",
       " 6,\n",
       " ['mango', 'grapes', 'banana'],\n",
       " 's',\n",
       " 'o',\n",
       " 'u',\n",
       " 'r',\n",
       " 'a',\n",
       " 'b',\n",
       " 'h',\n",
       " 10,\n",
       " 20,\n",
       " 30]"
      ]
     },
     "execution_count": 94,
     "metadata": {},
     "output_type": "execute_result"
    }
   ],
   "source": [
    "l"
   ]
  },
  {
   "cell_type": "code",
   "execution_count": 95,
   "id": "9d4b57d5-cb3d-4805-a7fe-e0cf8970de25",
   "metadata": {},
   "outputs": [],
   "source": [
    "# put the data inside the list or where you put data into index"
   ]
  },
  {
   "cell_type": "code",
   "execution_count": 96,
   "id": "f8bd5f4c-15f1-4bf9-a24e-b82f4cc00baa",
   "metadata": {},
   "outputs": [],
   "source": [
    "s=[1,2,3,4,5,6]"
   ]
  },
  {
   "cell_type": "code",
   "execution_count": 97,
   "id": "b73867cf-fd2c-4fd4-b3d7-72fa355d9247",
   "metadata": {},
   "outputs": [
    {
     "data": {
      "text/plain": [
       "[1, 2, 3, 4, 5, 6]"
      ]
     },
     "execution_count": 97,
     "metadata": {},
     "output_type": "execute_result"
    }
   ],
   "source": [
    "s"
   ]
  },
  {
   "cell_type": "code",
   "execution_count": 98,
   "id": "5983199f-6e44-4627-8762-4c891f963721",
   "metadata": {},
   "outputs": [],
   "source": [
    "s.insert(1,\"ghaghre\")"
   ]
  },
  {
   "cell_type": "code",
   "execution_count": 99,
   "id": "d10c8f2d-5b3f-4c25-885a-0c2eb482a6ba",
   "metadata": {},
   "outputs": [
    {
     "data": {
      "text/plain": [
       "[1, 'ghaghre', 2, 3, 4, 5, 6]"
      ]
     },
     "execution_count": 99,
     "metadata": {},
     "output_type": "execute_result"
    }
   ],
   "source": [
    "s"
   ]
  },
  {
   "cell_type": "code",
   "execution_count": 100,
   "id": "51c9eb1b-01d8-4b23-bb00-9c51a76cfec1",
   "metadata": {},
   "outputs": [],
   "source": [
    "s.insert(5,[20,30,40])"
   ]
  },
  {
   "cell_type": "code",
   "execution_count": 101,
   "id": "2e51dc0f-1d3d-41e8-aac5-d58611b612fb",
   "metadata": {},
   "outputs": [
    {
     "data": {
      "text/plain": [
       "[1, 'ghaghre', 2, 3, 4, [20, 30, 40], 5, 6]"
      ]
     },
     "execution_count": 101,
     "metadata": {},
     "output_type": "execute_result"
    }
   ],
   "source": [
    "s"
   ]
  },
  {
   "cell_type": "code",
   "execution_count": 102,
   "id": "d7397620-7bc8-4341-8f85-5d07a13d5cd1",
   "metadata": {},
   "outputs": [],
   "source": [
    "s.insert(-2,\"sourabh\")"
   ]
  },
  {
   "cell_type": "code",
   "execution_count": 103,
   "id": "c6afba71-9cef-4d5a-bbbe-351f43b2109e",
   "metadata": {},
   "outputs": [
    {
     "data": {
      "text/plain": [
       "[1, 'ghaghre', 2, 3, 4, [20, 30, 40], 'sourabh', 5, 6]"
      ]
     },
     "execution_count": 103,
     "metadata": {},
     "output_type": "execute_result"
    }
   ],
   "source": [
    "s"
   ]
  },
  {
   "cell_type": "code",
   "execution_count": 104,
   "id": "929e07b6-f9e3-4ff3-bd86-87d1b2ce39e6",
   "metadata": {},
   "outputs": [],
   "source": [
    "# delete the data from list"
   ]
  },
  {
   "cell_type": "code",
   "execution_count": 105,
   "id": "41a7a344-814b-412e-9fbe-4c7685c4579c",
   "metadata": {},
   "outputs": [
    {
     "data": {
      "text/plain": [
       "1"
      ]
     },
     "execution_count": 105,
     "metadata": {},
     "output_type": "execute_result"
    }
   ],
   "source": [
    "s.pop(0)  # index wise delecte karta hai"
   ]
  },
  {
   "cell_type": "code",
   "execution_count": 106,
   "id": "700a0924-e5bf-4c05-b651-430b80f66f4c",
   "metadata": {},
   "outputs": [
    {
     "data": {
      "text/plain": [
       "['ghaghre', 2, 3, 4, [20, 30, 40], 'sourabh', 5, 6]"
      ]
     },
     "execution_count": 106,
     "metadata": {},
     "output_type": "execute_result"
    }
   ],
   "source": [
    "s"
   ]
  },
  {
   "cell_type": "code",
   "execution_count": 107,
   "id": "42642fab-0658-40c8-872b-13323feb77a0",
   "metadata": {},
   "outputs": [
    {
     "data": {
      "text/plain": [
       "[20, 30, 40]"
      ]
     },
     "execution_count": 107,
     "metadata": {},
     "output_type": "execute_result"
    }
   ],
   "source": [
    "s.pop(4)"
   ]
  },
  {
   "cell_type": "code",
   "execution_count": 108,
   "id": "84c16f7d-f62a-4bda-a063-c573efebd06a",
   "metadata": {},
   "outputs": [
    {
     "data": {
      "text/plain": [
       "['ghaghre', 2, 3, 4, 'sourabh', 5, 6]"
      ]
     },
     "execution_count": 108,
     "metadata": {},
     "output_type": "execute_result"
    }
   ],
   "source": [
    "s"
   ]
  },
  {
   "cell_type": "code",
   "execution_count": 109,
   "id": "03897dad-0e5a-4c74-b3d6-2318ebb70239",
   "metadata": {},
   "outputs": [],
   "source": [
    "# remove direct value ko hataeyega"
   ]
  },
  {
   "cell_type": "code",
   "execution_count": 110,
   "id": "56b51ddf-c843-40f8-be49-3834c37de212",
   "metadata": {},
   "outputs": [],
   "source": [
    "s.remove(5)"
   ]
  },
  {
   "cell_type": "code",
   "execution_count": 111,
   "id": "95e7984f-fb24-4996-a70b-14dd00f60ccf",
   "metadata": {},
   "outputs": [
    {
     "data": {
      "text/plain": [
       "['ghaghre', 2, 3, 4, 'sourabh', 6]"
      ]
     },
     "execution_count": 111,
     "metadata": {},
     "output_type": "execute_result"
    }
   ],
   "source": [
    "s"
   ]
  },
  {
   "cell_type": "code",
   "execution_count": 112,
   "id": "f93ce02f-4dbe-480a-b078-7b86e8df4070",
   "metadata": {},
   "outputs": [],
   "source": [
    "s.remove(3)"
   ]
  },
  {
   "cell_type": "code",
   "execution_count": 113,
   "id": "d4f81466-9515-4592-b4e0-c1bcdeabb43e",
   "metadata": {},
   "outputs": [
    {
     "data": {
      "text/plain": [
       "['ghaghre', 2, 4, 'sourabh', 6]"
      ]
     },
     "execution_count": 113,
     "metadata": {},
     "output_type": "execute_result"
    }
   ],
   "source": [
    "s"
   ]
  },
  {
   "cell_type": "code",
   "execution_count": 114,
   "id": "a094ce90-b4f9-45b6-a696-1962a0b21b01",
   "metadata": {},
   "outputs": [
    {
     "data": {
      "text/plain": [
       "4"
      ]
     },
     "execution_count": 114,
     "metadata": {},
     "output_type": "execute_result"
    }
   ],
   "source": [
    "s[2] # MOST IMPORTANT"
   ]
  },
  {
   "cell_type": "code",
   "execution_count": 115,
   "id": "29105e46-8f9a-47fb-92ad-f15d930575e5",
   "metadata": {},
   "outputs": [
    {
     "ename": "AttributeError",
     "evalue": "'int' object has no attribute 'remove'",
     "output_type": "error",
     "traceback": [
      "\u001b[0;31m---------------------------------------------------------------------------\u001b[0m",
      "\u001b[0;31mAttributeError\u001b[0m                            Traceback (most recent call last)",
      "Cell \u001b[0;32mIn[115], line 1\u001b[0m\n\u001b[0;32m----> 1\u001b[0m \u001b[43ms\u001b[49m\u001b[43m[\u001b[49m\u001b[38;5;241;43m2\u001b[39;49m\u001b[43m]\u001b[49m\u001b[38;5;241;43m.\u001b[39;49m\u001b[43mremove\u001b[49m(\u001b[38;5;241m30\u001b[39m)\n",
      "\u001b[0;31mAttributeError\u001b[0m: 'int' object has no attribute 'remove'"
     ]
    }
   ],
   "source": [
    "s[2].remove(30)"
   ]
  },
  {
   "cell_type": "code",
   "execution_count": 116,
   "id": "e61df7b4-284f-42e0-ac09-3745e05be5a6",
   "metadata": {},
   "outputs": [
    {
     "data": {
      "text/plain": [
       "['ghaghre', 2, 4, 'sourabh', 6]"
      ]
     },
     "execution_count": 116,
     "metadata": {},
     "output_type": "execute_result"
    }
   ],
   "source": [
    "s"
   ]
  },
  {
   "cell_type": "code",
   "execution_count": 117,
   "id": "a24c00bf-30e6-4a6c-af4e-0387469c32cb",
   "metadata": {},
   "outputs": [
    {
     "ename": "NameError",
     "evalue": "name 'S' is not defined",
     "output_type": "error",
     "traceback": [
      "\u001b[0;31m---------------------------------------------------------------------------\u001b[0m",
      "\u001b[0;31mNameError\u001b[0m                                 Traceback (most recent call last)",
      "Cell \u001b[0;32mIn[117], line 1\u001b[0m\n\u001b[0;32m----> 1\u001b[0m \u001b[43mS\u001b[49m[\u001b[38;5;241m0\u001b[39m]\u001b[38;5;241m.\u001b[39mremove(gh) \u001b[38;5;66;03m# CAN DO THIS\u001b[39;00m\n",
      "\u001b[0;31mNameError\u001b[0m: name 'S' is not defined"
     ]
    }
   ],
   "source": [
    "S[0].remove(gh) # CAN DO THIS"
   ]
  },
  {
   "cell_type": "code",
   "execution_count": 118,
   "id": "e5e8187c-c7d8-4864-9645-94972c684076",
   "metadata": {},
   "outputs": [],
   "source": [
    "s.insert(1,4)"
   ]
  },
  {
   "cell_type": "code",
   "execution_count": 119,
   "id": "ce0d4899-1fc3-4a35-9802-d274a05c1909",
   "metadata": {},
   "outputs": [
    {
     "data": {
      "text/plain": [
       "['ghaghre', 4, 2, 4, 'sourabh', 6]"
      ]
     },
     "execution_count": 119,
     "metadata": {},
     "output_type": "execute_result"
    }
   ],
   "source": [
    "s"
   ]
  },
  {
   "cell_type": "code",
   "execution_count": 120,
   "id": "bf90d0c3-ea38-4a82-b586-ad2e56b81e8a",
   "metadata": {},
   "outputs": [],
   "source": [
    "s.remove(4)"
   ]
  },
  {
   "cell_type": "code",
   "execution_count": 121,
   "id": "88996d51-4125-4737-a034-5ccc9a8bb772",
   "metadata": {},
   "outputs": [
    {
     "data": {
      "text/plain": [
       "['ghaghre', 2, 4, 'sourabh', 6]"
      ]
     },
     "execution_count": 121,
     "metadata": {},
     "output_type": "execute_result"
    }
   ],
   "source": [
    "s"
   ]
  },
  {
   "cell_type": "code",
   "execution_count": 122,
   "id": "78a59c31-6923-4ca6-b1a0-7d9e22cae43b",
   "metadata": {},
   "outputs": [
    {
     "data": {
      "text/plain": [
       "[6, 'sourabh', 4, 2, 'ghaghre']"
      ]
     },
     "execution_count": 122,
     "metadata": {},
     "output_type": "execute_result"
    }
   ],
   "source": [
    "s[::-1]"
   ]
  },
  {
   "cell_type": "code",
   "execution_count": 123,
   "id": "cf335cbd-9674-4af4-b1fa-269397fa70c9",
   "metadata": {},
   "outputs": [],
   "source": [
    "s.reverse()"
   ]
  },
  {
   "cell_type": "code",
   "execution_count": 124,
   "id": "2ab8911a-4a23-49ea-aa98-e6d31572e0d0",
   "metadata": {},
   "outputs": [
    {
     "data": {
      "text/plain": [
       "[6, 'sourabh', 4, 2, 'ghaghre']"
      ]
     },
     "execution_count": 124,
     "metadata": {},
     "output_type": "execute_result"
    }
   ],
   "source": [
    "s"
   ]
  },
  {
   "cell_type": "code",
   "execution_count": 125,
   "id": "31f5b178-ad5a-4f71-bd0e-bddf8c5318ee",
   "metadata": {},
   "outputs": [
    {
     "data": {
      "text/plain": [
       "[6, 'sourabh', 4, 2, 'ghaghre']"
      ]
     },
     "execution_count": 125,
     "metadata": {},
     "output_type": "execute_result"
    }
   ],
   "source": [
    "s"
   ]
  },
  {
   "cell_type": "code",
   "execution_count": 126,
   "id": "cb84d7dc-38cc-41d4-9de3-e26198dd18e6",
   "metadata": {},
   "outputs": [],
   "source": [
    "s1=[20,300,40,500,60]"
   ]
  },
  {
   "cell_type": "code",
   "execution_count": 127,
   "id": "06939c36-b3e8-43b6-bf01-8f8c5cad5795",
   "metadata": {},
   "outputs": [
    {
     "data": {
      "text/plain": [
       "[20, 300, 40, 500, 60]"
      ]
     },
     "execution_count": 127,
     "metadata": {},
     "output_type": "execute_result"
    }
   ],
   "source": [
    "s1"
   ]
  },
  {
   "cell_type": "code",
   "execution_count": 128,
   "id": "02c67a77-d17c-4e00-84af-72dcfa8f18ab",
   "metadata": {},
   "outputs": [],
   "source": [
    "s1.sort()"
   ]
  },
  {
   "cell_type": "code",
   "execution_count": 129,
   "id": "f3e1aeaf-bb70-4acf-a7a1-0214cda3d814",
   "metadata": {},
   "outputs": [
    {
     "data": {
      "text/plain": [
       "[20, 40, 60, 300, 500]"
      ]
     },
     "execution_count": 129,
     "metadata": {},
     "output_type": "execute_result"
    }
   ],
   "source": [
    "s1"
   ]
  },
  {
   "cell_type": "code",
   "execution_count": 130,
   "id": "9d8ebe72-e0a2-48b7-87c2-0fc8b4b6ad20",
   "metadata": {},
   "outputs": [],
   "source": [
    "s2=[1,2,\"mango\"]"
   ]
  },
  {
   "cell_type": "code",
   "execution_count": 131,
   "id": "f6f44374-4007-4b70-ad7d-e9b48f69da51",
   "metadata": {},
   "outputs": [
    {
     "data": {
      "text/plain": [
       "[1, 2, 'mango']"
      ]
     },
     "execution_count": 131,
     "metadata": {},
     "output_type": "execute_result"
    }
   ],
   "source": [
    "s2"
   ]
  },
  {
   "cell_type": "code",
   "execution_count": 132,
   "id": "e367539e-bf47-454c-a6f2-1ec46ad175ae",
   "metadata": {},
   "outputs": [
    {
     "ename": "TypeError",
     "evalue": "'<' not supported between instances of 'str' and 'int'",
     "output_type": "error",
     "traceback": [
      "\u001b[0;31m---------------------------------------------------------------------------\u001b[0m",
      "\u001b[0;31mTypeError\u001b[0m                                 Traceback (most recent call last)",
      "Cell \u001b[0;32mIn[132], line 1\u001b[0m\n\u001b[0;32m----> 1\u001b[0m \u001b[43ms2\u001b[49m\u001b[38;5;241;43m.\u001b[39;49m\u001b[43msort\u001b[49m\u001b[43m(\u001b[49m\u001b[43m)\u001b[49m \u001b[38;5;66;03m# string ke sath integer compre nahi hote hai\u001b[39;00m\n",
      "\u001b[0;31mTypeError\u001b[0m: '<' not supported between instances of 'str' and 'int'"
     ]
    }
   ],
   "source": [
    "s2.sort() # string ke sath integer compre nahi hote hai"
   ]
  },
  {
   "cell_type": "code",
   "execution_count": 133,
   "id": "ceeee925-d6c6-44bf-8985-72c35ddc3116",
   "metadata": {},
   "outputs": [],
   "source": [
    "l4=[\"mango\",\"banana\",\"papaya\"]"
   ]
  },
  {
   "cell_type": "code",
   "execution_count": 134,
   "id": "39c9ad60-9dfa-4088-a2f0-8d62a0f35eb9",
   "metadata": {},
   "outputs": [
    {
     "data": {
      "text/plain": [
       "['mango', 'banana', 'papaya']"
      ]
     },
     "execution_count": 134,
     "metadata": {},
     "output_type": "execute_result"
    }
   ],
   "source": [
    "l4"
   ]
  },
  {
   "cell_type": "code",
   "execution_count": 135,
   "id": "bc6d02db-3a95-49e2-b2e7-536dab2a0d7d",
   "metadata": {},
   "outputs": [],
   "source": [
    "l4.sort()"
   ]
  },
  {
   "cell_type": "code",
   "execution_count": 136,
   "id": "9a3e57cf-a16f-40c3-a498-57ad2f5a4432",
   "metadata": {},
   "outputs": [
    {
     "data": {
      "text/plain": [
       "['banana', 'mango', 'papaya']"
      ]
     },
     "execution_count": 136,
     "metadata": {},
     "output_type": "execute_result"
    }
   ],
   "source": [
    "l4"
   ]
  },
  {
   "cell_type": "code",
   "execution_count": 137,
   "id": "cc9d436a-85c8-4602-af59-057bb8d17743",
   "metadata": {},
   "outputs": [],
   "source": [
    "l4.sort(reverse=True)"
   ]
  },
  {
   "cell_type": "code",
   "execution_count": 138,
   "id": "f01b23c0-8d62-4f8f-ba4a-9ace9543bcc0",
   "metadata": {},
   "outputs": [
    {
     "data": {
      "text/plain": [
       "['papaya', 'mango', 'banana']"
      ]
     },
     "execution_count": 138,
     "metadata": {},
     "output_type": "execute_result"
    }
   ],
   "source": [
    "l4"
   ]
  },
  {
   "cell_type": "code",
   "execution_count": 139,
   "id": "dfef0a0c-8e34-4649-b0cb-27e407460941",
   "metadata": {},
   "outputs": [],
   "source": [
    "l4.sort(reverse=False)"
   ]
  },
  {
   "cell_type": "code",
   "execution_count": 140,
   "id": "5b5b0a36-2dd9-46c1-8ff3-0099af8b148e",
   "metadata": {},
   "outputs": [
    {
     "data": {
      "text/plain": [
       "['banana', 'mango', 'papaya']"
      ]
     },
     "execution_count": 140,
     "metadata": {},
     "output_type": "execute_result"
    }
   ],
   "source": [
    "l4"
   ]
  },
  {
   "cell_type": "code",
   "execution_count": 141,
   "id": "d6067d6b-50ca-4a15-bdec-11e0ff3d3638",
   "metadata": {},
   "outputs": [
    {
     "data": {
      "text/plain": [
       "1"
      ]
     },
     "execution_count": 141,
     "metadata": {},
     "output_type": "execute_result"
    }
   ],
   "source": [
    "l4.index(\"mango\") # just upper vale ka index bata raha hai"
   ]
  },
  {
   "cell_type": "code",
   "execution_count": 142,
   "id": "53eba6fd-da8f-48f1-8382-9695429b0162",
   "metadata": {},
   "outputs": [
    {
     "data": {
      "text/plain": [
       "1"
      ]
     },
     "execution_count": 142,
     "metadata": {},
     "output_type": "execute_result"
    }
   ],
   "source": [
    "l4.count(\"papaya\")"
   ]
  },
  {
   "cell_type": "code",
   "execution_count": 143,
   "id": "0e30325a-a451-4b00-8917-add717d06489",
   "metadata": {},
   "outputs": [],
   "source": [
    "# most unique"
   ]
  },
  {
   "cell_type": "code",
   "execution_count": 152,
   "id": "13f94360-de64-4d03-a420-1f41b03b0f77",
   "metadata": {},
   "outputs": [],
   "source": [
    "l6=[1,2,3,4]"
   ]
  },
  {
   "cell_type": "code",
   "execution_count": 153,
   "id": "753f0f26-92e2-4acf-a05f-06f695055bc7",
   "metadata": {},
   "outputs": [
    {
     "data": {
      "text/plain": [
       "[1, 2, 3, 4]"
      ]
     },
     "execution_count": 153,
     "metadata": {},
     "output_type": "execute_result"
    }
   ],
   "source": [
    "l6"
   ]
  },
  {
   "cell_type": "code",
   "execution_count": 154,
   "id": "001cb416-d7d9-4002-b4e7-1ca83aec095e",
   "metadata": {},
   "outputs": [
    {
     "data": {
      "text/plain": [
       "1"
      ]
     },
     "execution_count": 154,
     "metadata": {},
     "output_type": "execute_result"
    }
   ],
   "source": [
    "l6[0]"
   ]
  },
  {
   "cell_type": "code",
   "execution_count": 155,
   "id": "762e07cf-7306-4405-8e7e-f72e862779e6",
   "metadata": {},
   "outputs": [],
   "source": [
    "l6[0]='a'"
   ]
  },
  {
   "cell_type": "code",
   "execution_count": 156,
   "id": "bd79d956-ce67-4997-9bcd-271787d0d854",
   "metadata": {},
   "outputs": [
    {
     "data": {
      "text/plain": [
       "['a', 2, 3, 4]"
      ]
     },
     "execution_count": 156,
     "metadata": {},
     "output_type": "execute_result"
    }
   ],
   "source": [
    "l6"
   ]
  },
  {
   "cell_type": "code",
   "execution_count": 157,
   "id": "aad6ca64-6b6c-4dcc-86da-a4545b57c17e",
   "metadata": {},
   "outputs": [],
   "source": [
    "s3=\"sourabh\""
   ]
  },
  {
   "cell_type": "code",
   "execution_count": 158,
   "id": "af4159c6-4278-4c46-99ad-aa089a569ca3",
   "metadata": {},
   "outputs": [
    {
     "data": {
      "text/plain": [
       "'sourabh'"
      ]
     },
     "execution_count": 158,
     "metadata": {},
     "output_type": "execute_result"
    }
   ],
   "source": [
    "s3"
   ]
  },
  {
   "cell_type": "code",
   "execution_count": 159,
   "id": "39cb278c-8c52-4389-bb9b-95939fd1e600",
   "metadata": {},
   "outputs": [
    {
     "ename": "TypeError",
     "evalue": "'str' object does not support item assignment",
     "output_type": "error",
     "traceback": [
      "\u001b[0;31m---------------------------------------------------------------------------\u001b[0m",
      "\u001b[0;31mTypeError\u001b[0m                                 Traceback (most recent call last)",
      "Cell \u001b[0;32mIn[159], line 1\u001b[0m\n\u001b[0;32m----> 1\u001b[0m \u001b[43ms3\u001b[49m\u001b[43m[\u001b[49m\u001b[38;5;241;43m0\u001b[39;49m\u001b[43m]\u001b[49m\u001b[38;5;241m=\u001b[39m\u001b[38;5;124m\"\u001b[39m\u001b[38;5;124mb\u001b[39m\u001b[38;5;124m\"\u001b[39m\n",
      "\u001b[0;31mTypeError\u001b[0m: 'str' object does not support item assignment"
     ]
    }
   ],
   "source": [
    "s3[0]=\"b\""
   ]
  },
  {
   "cell_type": "markdown",
   "id": "252f967f-232a-4a4f-812b-1a43bebc5e5e",
   "metadata": {},
   "source": [
    "# string is immutable\n",
    "# list is mutable"
   ]
  },
  {
   "cell_type": "markdown",
   "id": "63d0179b-caeb-4203-b406-4d595ce69155",
   "metadata": {},
   "source": [
    "## string me index position change nahi kar saktte"
   ]
  },
  {
   "cell_type": "markdown",
   "id": "5db479ff-db01-4347-81c1-97dc416cfc6c",
   "metadata": {},
   "source": [
    "### replace work as a assignment not as a index "
   ]
  },
  {
   "cell_type": "code",
   "execution_count": 161,
   "id": "a9bf41fc-a1ba-4066-b549-ba4ca7030c90",
   "metadata": {},
   "outputs": [
    {
     "data": {
      "text/plain": [
       "'gourabh'"
      ]
     },
     "execution_count": 161,
     "metadata": {},
     "output_type": "execute_result"
    }
   ],
   "source": [
    "s3.replace('s','g')"
   ]
  },
  {
   "cell_type": "code",
   "execution_count": 162,
   "id": "28a1f5cd-5cf4-4f12-8421-f80a05773f57",
   "metadata": {},
   "outputs": [
    {
     "data": {
      "text/plain": [
       "'sourabh'"
      ]
     },
     "execution_count": 162,
     "metadata": {},
     "output_type": "execute_result"
    }
   ],
   "source": [
    "s3"
   ]
  },
  {
   "cell_type": "markdown",
   "id": "4d7b76e9-e9da-46f2-b2f6-8cf0a9d9e5c0",
   "metadata": {},
   "source": [
    "# TUPLE"
   ]
  },
  {
   "cell_type": "code",
   "execution_count": 163,
   "id": "8b51d0fc-05d4-497a-a69f-1bf13ef4807e",
   "metadata": {},
   "outputs": [],
   "source": [
    "t=(1,2,3,4)"
   ]
  },
  {
   "cell_type": "code",
   "execution_count": 164,
   "id": "875495f0-322f-476d-a385-c67cf903b690",
   "metadata": {},
   "outputs": [
    {
     "data": {
      "text/plain": [
       "(1, 2, 3, 4)"
      ]
     },
     "execution_count": 164,
     "metadata": {},
     "output_type": "execute_result"
    }
   ],
   "source": [
    "t"
   ]
  },
  {
   "cell_type": "code",
   "execution_count": 166,
   "id": "1492ecef-fdbe-4b66-bf30-72c6b574993e",
   "metadata": {},
   "outputs": [],
   "source": [
    "t=(1, 6.7,\"fgh\",[1,2,3])"
   ]
  },
  {
   "cell_type": "code",
   "execution_count": 167,
   "id": "d0fb9d0d-3e23-4310-8890-7fc5a9f7a4af",
   "metadata": {},
   "outputs": [
    {
     "data": {
      "text/plain": [
       "tuple"
      ]
     },
     "execution_count": 167,
     "metadata": {},
     "output_type": "execute_result"
    }
   ],
   "source": [
    "type(t)"
   ]
  },
  {
   "cell_type": "code",
   "execution_count": 169,
   "id": "33015ef7-f21b-42b8-a8bb-f832e2b16689",
   "metadata": {},
   "outputs": [
    {
     "data": {
      "text/plain": [
       "4"
      ]
     },
     "execution_count": 169,
     "metadata": {},
     "output_type": "execute_result"
    }
   ],
   "source": [
    "len(t)"
   ]
  },
  {
   "cell_type": "code",
   "execution_count": 170,
   "id": "a5f14f4a-d5b0-4506-9deb-3ed58367e98b",
   "metadata": {},
   "outputs": [
    {
     "data": {
      "text/plain": [
       "1"
      ]
     },
     "execution_count": 170,
     "metadata": {},
     "output_type": "execute_result"
    }
   ],
   "source": [
    "t[0]"
   ]
  },
  {
   "cell_type": "code",
   "execution_count": 171,
   "id": "1413884e-3000-46ba-bb79-d84e80c045c5",
   "metadata": {},
   "outputs": [
    {
     "data": {
      "text/plain": [
       "([1, 2, 3], 'fgh', 6.7, 1)"
      ]
     },
     "execution_count": 171,
     "metadata": {},
     "output_type": "execute_result"
    }
   ],
   "source": [
    "t[::-1]"
   ]
  },
  {
   "cell_type": "code",
   "execution_count": 172,
   "id": "5dc8eb78-2619-4d76-9c6f-930c0a6e7dd5",
   "metadata": {},
   "outputs": [
    {
     "data": {
      "text/plain": [
       "(1, 6.7, 'fgh', [1, 2, 3])"
      ]
     },
     "execution_count": 172,
     "metadata": {},
     "output_type": "execute_result"
    }
   ],
   "source": [
    "t"
   ]
  },
  {
   "cell_type": "code",
   "execution_count": 174,
   "id": "988e05e5-47b9-4156-8a57-f56f408e8339",
   "metadata": {},
   "outputs": [
    {
     "data": {
      "text/plain": [
       "['a', 2, 3, 4]"
      ]
     },
     "execution_count": 174,
     "metadata": {},
     "output_type": "execute_result"
    }
   ],
   "source": [
    "l6"
   ]
  },
  {
   "cell_type": "code",
   "execution_count": 175,
   "id": "e4f5bfd6-2e6f-4ebb-a3b8-a58204607c2d",
   "metadata": {},
   "outputs": [],
   "source": [
    "l6[0]=[1,3,7]"
   ]
  },
  {
   "cell_type": "code",
   "execution_count": 176,
   "id": "f562442c-a6d1-4d67-b328-d08831d714e8",
   "metadata": {},
   "outputs": [
    {
     "data": {
      "text/plain": [
       "[[1, 3, 7], 2, 3, 4]"
      ]
     },
     "execution_count": 176,
     "metadata": {},
     "output_type": "execute_result"
    }
   ],
   "source": [
    "l6"
   ]
  },
  {
   "cell_type": "code",
   "execution_count": 177,
   "id": "709dda6d-9ce8-4f88-aea4-95016b904c37",
   "metadata": {},
   "outputs": [],
   "source": [
    "t=(\"sourabh\",3,5,6,7)"
   ]
  },
  {
   "cell_type": "code",
   "execution_count": 178,
   "id": "263cb874-e689-4ef8-997e-888007d155aa",
   "metadata": {},
   "outputs": [
    {
     "data": {
      "text/plain": [
       "('sourabh', 3, 5, 6, 7)"
      ]
     },
     "execution_count": 178,
     "metadata": {},
     "output_type": "execute_result"
    }
   ],
   "source": [
    "t"
   ]
  },
  {
   "cell_type": "code",
   "execution_count": 179,
   "id": "d8c196b5-ead4-40a3-bbf7-3f7d209ae52d",
   "metadata": {},
   "outputs": [
    {
     "ename": "TypeError",
     "evalue": "'tuple' object does not support item assignment",
     "output_type": "error",
     "traceback": [
      "\u001b[0;31m---------------------------------------------------------------------------\u001b[0m",
      "\u001b[0;31mTypeError\u001b[0m                                 Traceback (most recent call last)",
      "Cell \u001b[0;32mIn[179], line 1\u001b[0m\n\u001b[0;32m----> 1\u001b[0m \u001b[43mt\u001b[49m\u001b[43m[\u001b[49m\u001b[38;5;241;43m0\u001b[39;49m\u001b[43m]\u001b[49m\u001b[38;5;241m=\u001b[39m\u001b[38;5;124m\"\u001b[39m\u001b[38;5;124mghaghre\u001b[39m\u001b[38;5;124m\"\u001b[39m\n",
      "\u001b[0;31mTypeError\u001b[0m: 'tuple' object does not support item assignment"
     ]
    }
   ],
   "source": [
    "t[0]=\"ghaghre\""
   ]
  },
  {
   "cell_type": "markdown",
   "id": "86c99ffd-868c-4462-ab24-adb65763509c",
   "metadata": {},
   "source": [
    "# tuple is UNmutable"
   ]
  },
  {
   "cell_type": "code",
   "execution_count": 182,
   "id": "e8bd7715-d3b5-4aa6-a759-1562e6ba5217",
   "metadata": {},
   "outputs": [
    {
     "data": {
      "text/plain": [
       "1"
      ]
     },
     "execution_count": 182,
     "metadata": {},
     "output_type": "execute_result"
    }
   ],
   "source": [
    " t.count(5) # kitni bar aaya"
   ]
  },
  {
   "cell_type": "code",
   "execution_count": 183,
   "id": "0c0eb30c-79e2-4f9e-a99a-fe80dd57d1f7",
   "metadata": {},
   "outputs": [
    {
     "data": {
      "text/plain": [
       "3"
      ]
     },
     "execution_count": 183,
     "metadata": {},
     "output_type": "execute_result"
    }
   ],
   "source": [
    "t.index(6) # index position of item"
   ]
  },
  {
   "cell_type": "markdown",
   "id": "443a828d-a3c5-4920-b59c-ee8b558341ef",
   "metadata": {},
   "source": [
    "# SET"
   ]
  },
  {
   "cell_type": "code",
   "execution_count": 187,
   "id": "a6aa33d5-7f06-4e7e-acde-f6256d6ef0a6",
   "metadata": {},
   "outputs": [],
   "source": [
    "s={1,2,3,\"SOURABH\"}"
   ]
  },
  {
   "cell_type": "code",
   "execution_count": 188,
   "id": "b36df1e8-0d84-449c-853a-868773d41420",
   "metadata": {},
   "outputs": [
    {
     "data": {
      "text/plain": [
       "{1, 2, 3, 'SOURABH'}"
      ]
     },
     "execution_count": 188,
     "metadata": {},
     "output_type": "execute_result"
    }
   ],
   "source": [
    "s"
   ]
  },
  {
   "cell_type": "code",
   "execution_count": 189,
   "id": "d4388938-49d8-4a0f-8d2b-b263fe1f2778",
   "metadata": {},
   "outputs": [
    {
     "data": {
      "text/plain": [
       "set"
      ]
     },
     "execution_count": 189,
     "metadata": {},
     "output_type": "execute_result"
    }
   ],
   "source": [
    "type(s)"
   ]
  },
  {
   "cell_type": "code",
   "execution_count": 190,
   "id": "58c78e46-4f24-4ff9-837a-87883a0d5e9f",
   "metadata": {},
   "outputs": [
    {
     "ename": "TypeError",
     "evalue": "unhashable type: 'list'",
     "output_type": "error",
     "traceback": [
      "\u001b[0;31m---------------------------------------------------------------------------\u001b[0m",
      "\u001b[0;31mTypeError\u001b[0m                                 Traceback (most recent call last)",
      "Cell \u001b[0;32mIn[190], line 1\u001b[0m\n\u001b[0;32m----> 1\u001b[0m s1\u001b[38;5;241m=\u001b[39m{[\u001b[38;5;241m1\u001b[39m,\u001b[38;5;241m2\u001b[39m,\u001b[38;5;241m3\u001b[39m],\u001b[38;5;241m4\u001b[39m,\u001b[38;5;241m5\u001b[39m}\n",
      "\u001b[0;31mTypeError\u001b[0m: unhashable type: 'list'"
     ]
    }
   ],
   "source": [
    "s1={[1,2,3],4,5} # list is not aaceptable in set"
   ]
  },
  {
   "cell_type": "code",
   "execution_count": 191,
   "id": "db90b88c-c3ee-4e38-b39f-9aa58434022e",
   "metadata": {},
   "outputs": [],
   "source": [
    "s1={(1,2,3),4,5} # set accept tuple"
   ]
  },
  {
   "cell_type": "code",
   "execution_count": 192,
   "id": "1fbd7d7e-0f0e-4e5b-9869-8672be1aa505",
   "metadata": {},
   "outputs": [
    {
     "data": {
      "text/plain": [
       "{(1, 2, 3), 4, 5}"
      ]
     },
     "execution_count": 192,
     "metadata": {},
     "output_type": "execute_result"
    }
   ],
   "source": [
    "s1"
   ]
  },
  {
   "cell_type": "markdown",
   "id": "b490afeb-d13e-4f92-9f77-bf219cef983c",
   "metadata": {},
   "source": [
    "### set hamesha ek fixed quantity ko leta hai jo change na ho "
   ]
  },
  {
   "cell_type": "markdown",
   "id": "3e35bac4-5780-42f1-9ccf-52e49d7a0380",
   "metadata": {},
   "source": [
    "# why set?"
   ]
  },
  {
   "cell_type": "markdown",
   "id": "bc8bf37f-2458-41f8-82a2-fd9f21bfa523",
   "metadata": {},
   "source": [
    "### jab bhi unique data chaiye/ duplicate hatana ho + never arrange data (UNORDERED)"
   ]
  },
  {
   "cell_type": "code",
   "execution_count": 194,
   "id": "5ecddf7f-767f-4986-ba53-0b17ddc30668",
   "metadata": {},
   "outputs": [],
   "source": [
    "s2={1,2,3,4,5,1,2,3,4,5,4,5,3}"
   ]
  },
  {
   "cell_type": "code",
   "execution_count": 195,
   "id": "c01c8a4c-27e1-49d3-ab8a-f91e4c107654",
   "metadata": {},
   "outputs": [
    {
     "data": {
      "text/plain": [
       "{1, 2, 3, 4, 5}"
      ]
     },
     "execution_count": 195,
     "metadata": {},
     "output_type": "execute_result"
    }
   ],
   "source": [
    "s2"
   ]
  },
  {
   "cell_type": "code",
   "execution_count": 196,
   "id": "f2f6da92-c2d3-4a3d-bd71-badf42e6d330",
   "metadata": {},
   "outputs": [],
   "source": [
    "s2={1,2,3,4,5,1,2,3,4,5,4,5,3,\"Ghahre\", \"ghaghre\"}"
   ]
  },
  {
   "cell_type": "code",
   "execution_count": 197,
   "id": "13d4c636-79b1-4e33-8b64-e9a3ff9821e1",
   "metadata": {},
   "outputs": [
    {
     "data": {
      "text/plain": [
       "{1, 2, 3, 4, 5, 'Ghahre', 'ghaghre'}"
      ]
     },
     "execution_count": 197,
     "metadata": {},
     "output_type": "execute_result"
    }
   ],
   "source": [
    "s2"
   ]
  },
  {
   "cell_type": "code",
   "execution_count": 200,
   "id": "37879979-def4-432c-a724-30f15b2e803b",
   "metadata": {},
   "outputs": [],
   "source": [
    "l7=[1,2,3,4,5,1,2,3,4,5,4,5,3]"
   ]
  },
  {
   "cell_type": "code",
   "execution_count": 201,
   "id": "71b8fb58-d40a-485e-ac30-d4de7f2715d2",
   "metadata": {},
   "outputs": [
    {
     "data": {
      "text/plain": [
       "[1, 2, 3, 4, 5, 1, 2, 3, 4, 5, 4, 5, 3]"
      ]
     },
     "execution_count": 201,
     "metadata": {},
     "output_type": "execute_result"
    }
   ],
   "source": [
    "l7"
   ]
  },
  {
   "cell_type": "code",
   "execution_count": 202,
   "id": "38f78d03-30e7-4b96-9c29-6aebd9351595",
   "metadata": {},
   "outputs": [],
   "source": [
    "l7=set(l7)"
   ]
  },
  {
   "cell_type": "code",
   "execution_count": 203,
   "id": "4b81ce42-e691-40f8-ba46-de8960982d1b",
   "metadata": {},
   "outputs": [
    {
     "data": {
      "text/plain": [
       "{1, 2, 3, 4, 5}"
      ]
     },
     "execution_count": 203,
     "metadata": {},
     "output_type": "execute_result"
    }
   ],
   "source": [
    "l7"
   ]
  },
  {
   "cell_type": "code",
   "execution_count": 205,
   "id": "43c0ce5d-4add-4f9d-be61-63c4d1ed915d",
   "metadata": {},
   "outputs": [],
   "source": [
    "l7=list(set(l7))"
   ]
  },
  {
   "cell_type": "code",
   "execution_count": 206,
   "id": "25e82304-5703-4f67-aae1-3b9fafb693ef",
   "metadata": {},
   "outputs": [
    {
     "data": {
      "text/plain": [
       "[1, 2, 3, 4, 5]"
      ]
     },
     "execution_count": 206,
     "metadata": {},
     "output_type": "execute_result"
    }
   ],
   "source": [
    "l7"
   ]
  },
  {
   "cell_type": "code",
   "execution_count": 208,
   "id": "a264ce72-d69f-44c8-ad0f-b294398efeee",
   "metadata": {},
   "outputs": [
    {
     "data": {
      "text/plain": [
       "{1, 2, 3, 4, 5, 'Ghahre', 'ghaghre'}"
      ]
     },
     "execution_count": 208,
     "metadata": {},
     "output_type": "execute_result"
    }
   ],
   "source": [
    "s2"
   ]
  },
  {
   "cell_type": "code",
   "execution_count": 209,
   "id": "b58c3876-ab8f-4bec-a809-16559656865c",
   "metadata": {},
   "outputs": [
    {
     "ename": "TypeError",
     "evalue": "'set' object is not subscriptable",
     "output_type": "error",
     "traceback": [
      "\u001b[0;31m---------------------------------------------------------------------------\u001b[0m",
      "\u001b[0;31mTypeError\u001b[0m                                 Traceback (most recent call last)",
      "Cell \u001b[0;32mIn[209], line 1\u001b[0m\n\u001b[0;32m----> 1\u001b[0m \u001b[43ms2\u001b[49m\u001b[43m[\u001b[49m\u001b[38;5;241;43m0\u001b[39;49m\u001b[43m]\u001b[49m\n",
      "\u001b[0;31mTypeError\u001b[0m: 'set' object is not subscriptable"
     ]
    }
   ],
   "source": [
    "s2[0]"
   ]
  },
  {
   "cell_type": "code",
   "execution_count": 210,
   "id": "ec50ef11-de88-4281-be8b-8a1b2f312258",
   "metadata": {},
   "outputs": [
    {
     "ename": "TypeError",
     "evalue": "'set' object is not subscriptable",
     "output_type": "error",
     "traceback": [
      "\u001b[0;31m---------------------------------------------------------------------------\u001b[0m",
      "\u001b[0;31mTypeError\u001b[0m                                 Traceback (most recent call last)",
      "Cell \u001b[0;32mIn[210], line 1\u001b[0m\n\u001b[0;32m----> 1\u001b[0m \u001b[43ms2\u001b[49m\u001b[43m[\u001b[49m\u001b[43m:\u001b[49m\u001b[43m:\u001b[49m\u001b[38;5;241;43m-\u001b[39;49m\u001b[38;5;241;43m1\u001b[39;49m\u001b[43m]\u001b[49m\n",
      "\u001b[0;31mTypeError\u001b[0m: 'set' object is not subscriptable"
     ]
    }
   ],
   "source": [
    "s2[::-1]"
   ]
  },
  {
   "cell_type": "code",
   "execution_count": 211,
   "id": "63b86896-b81d-4e57-bedc-c6aa07511893",
   "metadata": {},
   "outputs": [],
   "source": [
    "# slicing and indexing not applicable"
   ]
  },
  {
   "cell_type": "code",
   "execution_count": 212,
   "id": "4d468b84-f8b9-4218-83aa-a8bb68662379",
   "metadata": {},
   "outputs": [],
   "source": [
    "s2.add(\"sourabh\")"
   ]
  },
  {
   "cell_type": "code",
   "execution_count": 213,
   "id": "e5b77c3f-76b1-407c-bf3c-46d73713f8cb",
   "metadata": {},
   "outputs": [
    {
     "data": {
      "text/plain": [
       "{1, 2, 3, 4, 5, 'Ghahre', 'ghaghre', 'sourabh'}"
      ]
     },
     "execution_count": 213,
     "metadata": {},
     "output_type": "execute_result"
    }
   ],
   "source": [
    "s2"
   ]
  },
  {
   "cell_type": "code",
   "execution_count": 218,
   "id": "003e3cb0-8d87-4aea-b0a1-8212f0854844",
   "metadata": {},
   "outputs": [],
   "source": [
    "s2.remove(\"ghaghre\")"
   ]
  },
  {
   "cell_type": "code",
   "execution_count": 219,
   "id": "2ea162f8-6450-4d42-8412-93e4e5bc0c37",
   "metadata": {},
   "outputs": [
    {
     "data": {
      "text/plain": [
       "{1, 2, 3, 4, 5, 'sourabh'}"
      ]
     },
     "execution_count": 219,
     "metadata": {},
     "output_type": "execute_result"
    }
   ],
   "source": [
    "s2"
   ]
  },
  {
   "cell_type": "code",
   "execution_count": null,
   "id": "9e2ec493-0382-43e6-a388-71ca7487c340",
   "metadata": {},
   "outputs": [],
   "source": []
  }
 ],
 "metadata": {
  "kernelspec": {
   "display_name": "Python 3 (ipykernel)",
   "language": "python",
   "name": "python3"
  },
  "language_info": {
   "codemirror_mode": {
    "name": "ipython",
    "version": 3
   },
   "file_extension": ".py",
   "mimetype": "text/x-python",
   "name": "python",
   "nbconvert_exporter": "python",
   "pygments_lexer": "ipython3",
   "version": "3.10.8"
  }
 },
 "nbformat": 4,
 "nbformat_minor": 5
}
