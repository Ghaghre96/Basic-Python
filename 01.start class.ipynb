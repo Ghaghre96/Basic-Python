{
 "cells": [
  {
   "cell_type": "code",
   "execution_count": 2,
   "id": "34e3d626-a87f-40aa-be2e-e2c7deefa072",
   "metadata": {},
   "outputs": [
    {
     "data": {
      "text/plain": [
       "3"
      ]
     },
     "execution_count": 2,
     "metadata": {},
     "output_type": "execute_result"
    }
   ],
   "source": [
    "1+2"
   ]
  },
  {
   "cell_type": "code",
   "execution_count": 3,
   "id": "3f58e837-6eb6-4dd0-bb61-0a89c47ec8df",
   "metadata": {},
   "outputs": [
    {
     "name": "stdout",
     "output_type": "stream",
     "text": [
      "this is my first class\n"
     ]
    }
   ],
   "source": [
    "print(\"this is my first class\")"
   ]
  },
  {
   "cell_type": "markdown",
   "id": "1765bb3a-767e-40e8-b015-209d0b52fd73",
   "metadata": {},
   "source": [
    "# variable\n"
   ]
  },
  {
   "cell_type": "code",
   "execution_count": 4,
   "id": "a7d4d5e2-d026-4af9-b25b-53a19dddf19c",
   "metadata": {},
   "outputs": [],
   "source": [
    "# int, float, bol, complex"
   ]
  },
  {
   "cell_type": "code",
   "execution_count": 5,
   "id": "707491ca-41ab-42cb-a27c-8033f0d0b13d",
   "metadata": {
    "tags": []
   },
   "outputs": [],
   "source": [
    " a = 30"
   ]
  },
  {
   "cell_type": "code",
   "execution_count": 6,
   "id": "4a77b429-3360-4d05-a3ee-466d872f3dfa",
   "metadata": {},
   "outputs": [
    {
     "data": {
      "text/plain": [
       "30"
      ]
     },
     "execution_count": 6,
     "metadata": {},
     "output_type": "execute_result"
    }
   ],
   "source": [
    "a"
   ]
  },
  {
   "cell_type": "code",
   "execution_count": 7,
   "id": "6e6cbbf1-ad15-4250-9dfa-0f4bb06e5566",
   "metadata": {},
   "outputs": [
    {
     "data": {
      "text/plain": [
       "int"
      ]
     },
     "execution_count": 7,
     "metadata": {},
     "output_type": "execute_result"
    }
   ],
   "source": [
    "type(a)"
   ]
  },
  {
   "cell_type": "code",
   "execution_count": 8,
   "id": "09ce205b-29f8-49fc-8913-f1db4b0a0c74",
   "metadata": {},
   "outputs": [],
   "source": [
    "x = a"
   ]
  },
  {
   "cell_type": "code",
   "execution_count": 9,
   "id": "22a81516-23b9-404b-9a81-6cbf9e789374",
   "metadata": {},
   "outputs": [
    {
     "data": {
      "text/plain": [
       "30"
      ]
     },
     "execution_count": 9,
     "metadata": {},
     "output_type": "execute_result"
    }
   ],
   "source": [
    "a"
   ]
  },
  {
   "cell_type": "code",
   "execution_count": 10,
   "id": "3a2227ac-d942-4cd9-a953-dc2de94dd116",
   "metadata": {},
   "outputs": [
    {
     "data": {
      "text/plain": [
       "30"
      ]
     },
     "execution_count": 10,
     "metadata": {},
     "output_type": "execute_result"
    }
   ],
   "source": [
    "x"
   ]
  },
  {
   "cell_type": "code",
   "execution_count": 11,
   "id": "e995f32d-5e9e-4859-baad-d60724d4fc99",
   "metadata": {},
   "outputs": [
    {
     "data": {
      "text/plain": [
       "int"
      ]
     },
     "execution_count": 11,
     "metadata": {},
     "output_type": "execute_result"
    }
   ],
   "source": [
    "type(x)"
   ]
  },
  {
   "cell_type": "code",
   "execution_count": 12,
   "id": "ed6152ce-e82f-470d-836b-a8b7e28baaa7",
   "metadata": {},
   "outputs": [],
   "source": [
    "c =2.9"
   ]
  },
  {
   "cell_type": "code",
   "execution_count": 13,
   "id": "93dbddfd-17cb-49ee-a65d-1eac0a296e4c",
   "metadata": {},
   "outputs": [
    {
     "data": {
      "text/plain": [
       "float"
      ]
     },
     "execution_count": 13,
     "metadata": {},
     "output_type": "execute_result"
    }
   ],
   "source": [
    "type(c)"
   ]
  },
  {
   "cell_type": "code",
   "execution_count": 14,
   "id": "c981a1da-9416-4454-9385-2f77e20b3b21",
   "metadata": {},
   "outputs": [],
   "source": [
    "d=\"sourabh\""
   ]
  },
  {
   "cell_type": "code",
   "execution_count": 15,
   "id": "8fb95071-5cfa-4c94-8d52-d5b5a5f846f7",
   "metadata": {},
   "outputs": [
    {
     "data": {
      "text/plain": [
       "str"
      ]
     },
     "execution_count": 15,
     "metadata": {},
     "output_type": "execute_result"
    }
   ],
   "source": [
    "type(d)"
   ]
  },
  {
   "cell_type": "code",
   "execution_count": 16,
   "id": "6266a7df-1d2a-47c2-8146-3f013adeee7a",
   "metadata": {},
   "outputs": [],
   "source": [
    "m = True"
   ]
  },
  {
   "cell_type": "code",
   "execution_count": 17,
   "id": "00d36571-1a93-4481-bf65-4273f215db53",
   "metadata": {},
   "outputs": [
    {
     "data": {
      "text/plain": [
       "bool"
      ]
     },
     "execution_count": 17,
     "metadata": {},
     "output_type": "execute_result"
    }
   ],
   "source": [
    "type(m)"
   ]
  },
  {
   "cell_type": "markdown",
   "id": "222884f3-965d-4b2b-838f-6e7ef5b3a212",
   "metadata": {},
   "source": [
    "# binary logic(0,1)"
   ]
  },
  {
   "cell_type": "code",
   "execution_count": 18,
   "id": "107a640b-ab2c-4cee-96bc-6306b1e9f70e",
   "metadata": {},
   "outputs": [],
   "source": [
    "# true = 1\n",
    "# false = 0"
   ]
  },
  {
   "cell_type": "code",
   "execution_count": 19,
   "id": "20cd0b7c-5650-466b-a51d-792db00c8563",
   "metadata": {},
   "outputs": [],
   "source": [
    "m = True"
   ]
  },
  {
   "cell_type": "code",
   "execution_count": 20,
   "id": "8948ac0c-3ac2-4b7f-bb7d-33ba34bc8519",
   "metadata": {},
   "outputs": [],
   "source": [
    "n = False"
   ]
  },
  {
   "cell_type": "code",
   "execution_count": 21,
   "id": "72b12ebe-ee52-45c9-9a6a-cfcd16b0bd24",
   "metadata": {},
   "outputs": [
    {
     "data": {
      "text/plain": [
       "True"
      ]
     },
     "execution_count": 21,
     "metadata": {},
     "output_type": "execute_result"
    }
   ],
   "source": [
    "m"
   ]
  },
  {
   "cell_type": "code",
   "execution_count": 22,
   "id": "29745a12-d131-4bd3-88d1-5a9cc0de0cd3",
   "metadata": {},
   "outputs": [
    {
     "data": {
      "text/plain": [
       "False"
      ]
     },
     "execution_count": 22,
     "metadata": {},
     "output_type": "execute_result"
    }
   ],
   "source": [
    "n"
   ]
  },
  {
   "cell_type": "code",
   "execution_count": 23,
   "id": "af594fe2-311f-4504-b2fe-47c2cb7f8a22",
   "metadata": {},
   "outputs": [
    {
     "data": {
      "text/plain": [
       "1"
      ]
     },
     "execution_count": 23,
     "metadata": {},
     "output_type": "execute_result"
    }
   ],
   "source": [
    "m+n"
   ]
  },
  {
   "cell_type": "code",
   "execution_count": 24,
   "id": "28b3c5e4-35c7-428f-a987-80471d68f152",
   "metadata": {},
   "outputs": [
    {
     "data": {
      "text/plain": [
       "1"
      ]
     },
     "execution_count": 24,
     "metadata": {},
     "output_type": "execute_result"
    }
   ],
   "source": [
    "m-n"
   ]
  },
  {
   "cell_type": "code",
   "execution_count": 25,
   "id": "3598111a-85aa-485f-adbd-7fc06d40e728",
   "metadata": {},
   "outputs": [
    {
     "data": {
      "text/plain": [
       "0"
      ]
     },
     "execution_count": 25,
     "metadata": {},
     "output_type": "execute_result"
    }
   ],
   "source": [
    "m*n"
   ]
  },
  {
   "cell_type": "code",
   "execution_count": 32,
   "id": "3d90c184-5eec-459e-9ddd-3451e5b26e3a",
   "metadata": {},
   "outputs": [
    {
     "ename": "ZeroDivisionError",
     "evalue": "division by zero",
     "output_type": "error",
     "traceback": [
      "\u001b[0;31m---------------------------------------------------------------------------\u001b[0m",
      "\u001b[0;31mZeroDivisionError\u001b[0m                         Traceback (most recent call last)",
      "Cell \u001b[0;32mIn[32], line 1\u001b[0m\n\u001b[0;32m----> 1\u001b[0m \u001b[43mm\u001b[49m\u001b[38;5;241;43m/\u001b[39;49m\u001b[43mn\u001b[49m\n",
      "\u001b[0;31mZeroDivisionError\u001b[0m: division by zero"
     ]
    }
   ],
   "source": [
    "m/n"
   ]
  },
  {
   "cell_type": "code",
   "execution_count": 38,
   "id": "82d986a3-1b56-4508-9093-78cf12833dc2",
   "metadata": {},
   "outputs": [
    {
     "data": {
      "text/plain": [
       "0.0"
      ]
     },
     "execution_count": 38,
     "metadata": {},
     "output_type": "execute_result"
    }
   ],
   "source": [
    "n/m"
   ]
  },
  {
   "cell_type": "code",
   "execution_count": 39,
   "id": "e626c14d-4f75-4bd6-83e0-f33720e44d42",
   "metadata": {},
   "outputs": [
    {
     "data": {
      "text/plain": [
       "1"
      ]
     },
     "execution_count": 39,
     "metadata": {},
     "output_type": "execute_result"
    }
   ],
   "source": [
    "True*True"
   ]
  },
  {
   "cell_type": "code",
   "execution_count": 40,
   "id": "c2103a9a-9ead-4933-9424-ac7ef52e72e4",
   "metadata": {},
   "outputs": [
    {
     "ename": "NameError",
     "evalue": "name 'bj' is not defined",
     "output_type": "error",
     "traceback": [
      "\u001b[0;31m---------------------------------------------------------------------------\u001b[0m",
      "\u001b[0;31mNameError\u001b[0m                                 Traceback (most recent call last)",
      "Cell \u001b[0;32mIn[40], line 1\u001b[0m\n\u001b[0;32m----> 1\u001b[0m x \u001b[38;5;241m=\u001b[39m a\u001b[38;5;241m+\u001b[39m\u001b[43mbj\u001b[49m\n",
      "\u001b[0;31mNameError\u001b[0m: name 'bj' is not defined"
     ]
    }
   ],
   "source": [
    "x = a+bj"
   ]
  },
  {
   "cell_type": "code",
   "execution_count": 41,
   "id": "56096f79-30c5-4ae2-902e-253ffa58aad1",
   "metadata": {},
   "outputs": [],
   "source": [
    "x = 6+5J"
   ]
  },
  {
   "cell_type": "code",
   "execution_count": 42,
   "id": "7b2c4aa9-1bd9-498f-94ed-40dbb0f93c6f",
   "metadata": {},
   "outputs": [
    {
     "data": {
      "text/plain": [
       "(6+5j)"
      ]
     },
     "execution_count": 42,
     "metadata": {},
     "output_type": "execute_result"
    }
   ],
   "source": [
    "x"
   ]
  },
  {
   "cell_type": "code",
   "execution_count": 43,
   "id": "726b2d28-35d8-4ffc-90e7-324e800eba65",
   "metadata": {},
   "outputs": [
    {
     "data": {
      "text/plain": [
       "complex"
      ]
     },
     "execution_count": 43,
     "metadata": {},
     "output_type": "execute_result"
    }
   ],
   "source": [
    "type(x)"
   ]
  },
  {
   "cell_type": "code",
   "execution_count": 44,
   "id": "66c69078-64be-48c1-968f-8505be042185",
   "metadata": {},
   "outputs": [
    {
     "data": {
      "text/plain": [
       "6.0"
      ]
     },
     "execution_count": 44,
     "metadata": {},
     "output_type": "execute_result"
    }
   ],
   "source": [
    "x.real  # dot ke bad tab use karna"
   ]
  },
  {
   "cell_type": "code",
   "execution_count": 45,
   "id": "b3b3ccf9-7cfd-443e-a37a-07b88ce00a3e",
   "metadata": {},
   "outputs": [
    {
     "data": {
      "text/plain": [
       "5.0"
      ]
     },
     "execution_count": 45,
     "metadata": {},
     "output_type": "execute_result"
    }
   ],
   "source": [
    "x.imag"
   ]
  },
  {
   "cell_type": "code",
   "execution_count": 46,
   "id": "783e7128-689e-4c22-8fa1-3f21fbd7203d",
   "metadata": {},
   "outputs": [
    {
     "name": "stdout",
     "output_type": "stream",
     "text": [
      "my name is sourabh Ghaghre\n"
     ]
    }
   ],
   "source": [
    "print(\"my name is sourabh Ghaghre\")"
   ]
  },
  {
   "cell_type": "code",
   "execution_count": 47,
   "id": "1f659dc4-542a-4e8b-ae39-0d27a79667ba",
   "metadata": {},
   "outputs": [],
   "source": [
    "x = \"sourabh\""
   ]
  },
  {
   "cell_type": "code",
   "execution_count": 48,
   "id": "a3bf1d83-6989-4a54-b9f1-b015b03f6a63",
   "metadata": {},
   "outputs": [],
   "source": [
    "# indexing/ slicing  [forword and backward]"
   ]
  },
  {
   "cell_type": "code",
   "execution_count": 49,
   "id": "e9776c06-92a9-4887-a780-b33e7d6bfaa6",
   "metadata": {},
   "outputs": [
    {
     "data": {
      "text/plain": [
       "'s'"
      ]
     },
     "execution_count": 49,
     "metadata": {},
     "output_type": "execute_result"
    }
   ],
   "source": [
    "x[0]"
   ]
  },
  {
   "cell_type": "code",
   "execution_count": 50,
   "id": "9f6850f0-fe8b-442d-b595-3ad06647ccc4",
   "metadata": {},
   "outputs": [
    {
     "data": {
      "text/plain": [
       "'a'"
      ]
     },
     "execution_count": 50,
     "metadata": {},
     "output_type": "execute_result"
    }
   ],
   "source": [
    "x[4]"
   ]
  },
  {
   "cell_type": "code",
   "execution_count": 51,
   "id": "9d588d91-e2b7-4838-8ce3-27bd32b915d8",
   "metadata": {},
   "outputs": [
    {
     "data": {
      "text/plain": [
       "'h'"
      ]
     },
     "execution_count": 51,
     "metadata": {},
     "output_type": "execute_result"
    }
   ],
   "source": [
    "x[-1]"
   ]
  },
  {
   "cell_type": "code",
   "execution_count": 52,
   "id": "df00e9b3-e69c-43c9-b5d6-eb273222f00f",
   "metadata": {},
   "outputs": [
    {
     "data": {
      "text/plain": [
       "'sour'"
      ]
     },
     "execution_count": 52,
     "metadata": {},
     "output_type": "execute_result"
    }
   ],
   "source": [
    "x[0:4]"
   ]
  },
  {
   "cell_type": "code",
   "execution_count": 53,
   "id": "93e6c5d9-6244-447f-93fa-0da6efa671f2",
   "metadata": {},
   "outputs": [
    {
     "data": {
      "text/plain": [
       "'soura'"
      ]
     },
     "execution_count": 53,
     "metadata": {},
     "output_type": "execute_result"
    }
   ],
   "source": [
    "x[0:5]"
   ]
  },
  {
   "cell_type": "code",
   "execution_count": 54,
   "id": "87371346-ab72-46d0-9048-0d646a3ae047",
   "metadata": {},
   "outputs": [
    {
     "data": {
      "text/plain": [
       "''"
      ]
     },
     "execution_count": 54,
     "metadata": {},
     "output_type": "execute_result"
    }
   ],
   "source": [
    "x[-1:-5]"
   ]
  },
  {
   "cell_type": "code",
   "execution_count": 55,
   "id": "ae04e813-b32d-44ff-8a9f-8a4de1a2d20f",
   "metadata": {},
   "outputs": [],
   "source": [
    "# slicing with jump/pattern"
   ]
  },
  {
   "cell_type": "code",
   "execution_count": 56,
   "id": "0e53e21c-7ae0-4bf3-a812-81de889de411",
   "metadata": {},
   "outputs": [
    {
     "data": {
      "text/plain": [
       "'sourabh'"
      ]
     },
     "execution_count": 56,
     "metadata": {},
     "output_type": "execute_result"
    }
   ],
   "source": [
    "x[0:8]"
   ]
  },
  {
   "cell_type": "code",
   "execution_count": 57,
   "id": "6ee67861-1759-4d16-b79a-3b0bc0174c06",
   "metadata": {},
   "outputs": [
    {
     "data": {
      "text/plain": [
       "'suah'"
      ]
     },
     "execution_count": 57,
     "metadata": {},
     "output_type": "execute_result"
    }
   ],
   "source": [
    "x[0:8:2]"
   ]
  },
  {
   "cell_type": "code",
   "execution_count": 58,
   "id": "85cd24db-f12b-408c-9307-183c3a66d1ee",
   "metadata": {},
   "outputs": [
    {
     "data": {
      "text/plain": [
       "'sourabh'"
      ]
     },
     "execution_count": 58,
     "metadata": {},
     "output_type": "execute_result"
    }
   ],
   "source": [
    "x[0:8:1]"
   ]
  },
  {
   "cell_type": "code",
   "execution_count": 59,
   "id": "5bcb3736-71c6-4897-ae04-abd66b4c5136",
   "metadata": {},
   "outputs": [
    {
     "data": {
      "text/plain": [
       "'sa'"
      ]
     },
     "execution_count": 59,
     "metadata": {},
     "output_type": "execute_result"
    }
   ],
   "source": [
    "x[::4]"
   ]
  },
  {
   "cell_type": "code",
   "execution_count": 60,
   "id": "50725c23-7d2c-4a16-81a1-a9b83100df32",
   "metadata": {},
   "outputs": [
    {
     "data": {
      "text/plain": [
       "'urabh'"
      ]
     },
     "execution_count": 60,
     "metadata": {},
     "output_type": "execute_result"
    }
   ],
   "source": [
    "x[2::1]"
   ]
  },
  {
   "cell_type": "code",
   "execution_count": 61,
   "id": "aaef5894-db15-4fb4-8c58-4b9f71d0aa50",
   "metadata": {},
   "outputs": [
    {
     "data": {
      "text/plain": [
       "'uah'"
      ]
     },
     "execution_count": 61,
     "metadata": {},
     "output_type": "execute_result"
    }
   ],
   "source": [
    "x[2::2]"
   ]
  },
  {
   "cell_type": "code",
   "execution_count": 62,
   "id": "fd8da74a-a152-4a72-b1f9-a0e055d1465b",
   "metadata": {},
   "outputs": [],
   "source": [
    "# reverse "
   ]
  },
  {
   "cell_type": "code",
   "execution_count": 63,
   "id": "1be2754c-5603-455a-899f-833dec40bb07",
   "metadata": {},
   "outputs": [
    {
     "data": {
      "text/plain": [
       "'hbaruos'"
      ]
     },
     "execution_count": 63,
     "metadata": {},
     "output_type": "execute_result"
    }
   ],
   "source": [
    "x[::-1]"
   ]
  },
  {
   "cell_type": "code",
   "execution_count": 64,
   "id": "0f094b54-0d29-4009-84d5-bb73b7f8ff67",
   "metadata": {},
   "outputs": [
    {
     "data": {
      "text/plain": [
       "''"
      ]
     },
     "execution_count": 64,
     "metadata": {},
     "output_type": "execute_result"
    }
   ],
   "source": [
    "x[0:7:-1] # IN this case remember scale"
   ]
  },
  {
   "cell_type": "code",
   "execution_count": 65,
   "id": "8aa06e6c-dca9-4915-b6af-b376f47abd79",
   "metadata": {},
   "outputs": [
    {
     "data": {
      "text/plain": [
       "''"
      ]
     },
     "execution_count": 65,
     "metadata": {},
     "output_type": "execute_result"
    }
   ],
   "source": [
    "x[7:0]"
   ]
  },
  {
   "cell_type": "code",
   "execution_count": 66,
   "id": "2dc274a8-e1ec-4ecd-8f48-3fd62fa0967f",
   "metadata": {},
   "outputs": [
    {
     "data": {
      "text/plain": [
       "''"
      ]
     },
     "execution_count": 66,
     "metadata": {},
     "output_type": "execute_result"
    }
   ],
   "source": [
    "x[7:4]"
   ]
  },
  {
   "cell_type": "code",
   "execution_count": 67,
   "id": "6a838c14-23f7-45c8-932a-ba6ed173afe3",
   "metadata": {},
   "outputs": [
    {
     "data": {
      "text/plain": [
       "'hbaruos'"
      ]
     },
     "execution_count": 67,
     "metadata": {},
     "output_type": "execute_result"
    }
   ],
   "source": [
    "x[7::-1]"
   ]
  },
  {
   "cell_type": "code",
   "execution_count": 69,
   "id": "4ec490b6-fa72-45d4-9154-b8da9182f4db",
   "metadata": {},
   "outputs": [
    {
     "data": {
      "text/plain": [
       "'hba'"
      ]
     },
     "execution_count": 69,
     "metadata": {},
     "output_type": "execute_result"
    }
   ],
   "source": [
    "x[7:3:-1]"
   ]
  },
  {
   "cell_type": "code",
   "execution_count": 68,
   "id": "2e423b27-5905-450d-b391-ad105411198d",
   "metadata": {},
   "outputs": [
    {
     "data": {
      "text/plain": [
       "'hbaruo'"
      ]
     },
     "execution_count": 68,
     "metadata": {},
     "output_type": "execute_result"
    }
   ],
   "source": [
    "x[7:0:-1]"
   ]
  },
  {
   "cell_type": "code",
   "execution_count": 70,
   "id": "aa2da0c9-9dae-46f9-b0fa-50ce1444fd58",
   "metadata": {},
   "outputs": [
    {
     "data": {
      "text/plain": [
       "''"
      ]
     },
     "execution_count": 70,
     "metadata": {},
     "output_type": "execute_result"
    }
   ],
   "source": [
    "x[-1:0]"
   ]
  },
  {
   "cell_type": "code",
   "execution_count": 71,
   "id": "75e0f018-b900-4860-988a-e961d6b8418b",
   "metadata": {},
   "outputs": [
    {
     "data": {
      "text/plain": [
       "'hbaruos'"
      ]
     },
     "execution_count": 71,
     "metadata": {},
     "output_type": "execute_result"
    }
   ],
   "source": [
    "x[-1:-8:-1]"
   ]
  },
  {
   "cell_type": "code",
   "execution_count": 72,
   "id": "a3678ea6-d851-4a19-9e91-0304ae428278",
   "metadata": {},
   "outputs": [
    {
     "data": {
      "text/plain": [
       "'baruos'"
      ]
     },
     "execution_count": 72,
     "metadata": {},
     "output_type": "execute_result"
    }
   ],
   "source": [
    "x[-2::-1]"
   ]
  },
  {
   "cell_type": "code",
   "execution_count": 78,
   "id": "bd9d2fec-0f1a-4f90-9377-7d07964428a1",
   "metadata": {},
   "outputs": [
    {
     "data": {
      "text/plain": [
       "'haus'"
      ]
     },
     "execution_count": 78,
     "metadata": {},
     "output_type": "execute_result"
    }
   ],
   "source": [
    "x[-1:-8:-2]"
   ]
  },
  {
   "cell_type": "code",
   "execution_count": 79,
   "id": "9202166c-5bd2-4b81-9fb9-895a180dca3c",
   "metadata": {},
   "outputs": [
    {
     "data": {
      "text/plain": [
       "'hbaruos'"
      ]
     },
     "execution_count": 79,
     "metadata": {},
     "output_type": "execute_result"
    }
   ],
   "source": [
    "x[::-1]"
   ]
  },
  {
   "cell_type": "code",
   "execution_count": 80,
   "id": "dc1b3f00-b2f9-4130-b355-3306c6bbb3f1",
   "metadata": {},
   "outputs": [
    {
     "data": {
      "text/plain": [
       "'sourabh'"
      ]
     },
     "execution_count": 80,
     "metadata": {},
     "output_type": "execute_result"
    }
   ],
   "source": [
    "x[::1]"
   ]
  },
  {
   "cell_type": "code",
   "execution_count": 82,
   "id": "a38f3fe2-5e2d-45a4-bd0f-78bbebe1af24",
   "metadata": {},
   "outputs": [
    {
     "ename": "IndexError",
     "evalue": "string index out of range",
     "output_type": "error",
     "traceback": [
      "\u001b[0;31m---------------------------------------------------------------------------\u001b[0m",
      "\u001b[0;31mIndexError\u001b[0m                                Traceback (most recent call last)",
      "Cell \u001b[0;32mIn[82], line 1\u001b[0m\n\u001b[0;32m----> 1\u001b[0m \u001b[43mx\u001b[49m\u001b[43m[\u001b[49m\u001b[38;5;241;43m90\u001b[39;49m\u001b[43m]\u001b[49m\n",
      "\u001b[0;31mIndexError\u001b[0m: string index out of range"
     ]
    }
   ],
   "source": [
    "x[90]"
   ]
  },
  {
   "cell_type": "code",
   "execution_count": 83,
   "id": "1244e38f-d180-48d2-922a-5b1de2beafab",
   "metadata": {},
   "outputs": [
    {
     "data": {
      "text/plain": [
       "'sourabh'"
      ]
     },
     "execution_count": 83,
     "metadata": {},
     "output_type": "execute_result"
    }
   ],
   "source": [
    "x[:90:]"
   ]
  },
  {
   "cell_type": "code",
   "execution_count": 84,
   "id": "55fbf945-0fe9-42cd-a264-03d2a4c3f1be",
   "metadata": {},
   "outputs": [
    {
     "data": {
      "text/plain": [
       "'sourabh'"
      ]
     },
     "execution_count": 84,
     "metadata": {},
     "output_type": "execute_result"
    }
   ],
   "source": [
    "x[0:90]"
   ]
  },
  {
   "cell_type": "code",
   "execution_count": 87,
   "id": "21a38263-61a4-47c1-8a8d-5f26f6d9d3be",
   "metadata": {},
   "outputs": [
    {
     "data": {
      "text/plain": [
       "'hbaruos'"
      ]
     },
     "execution_count": 87,
     "metadata": {},
     "output_type": "execute_result"
    }
   ],
   "source": [
    "x[:-90:-1]"
   ]
  },
  {
   "cell_type": "markdown",
   "id": "80ee8c47-a795-4587-9852-cd8f63f9fe63",
   "metadata": {},
   "source": [
    "# variable dot(.)+ tab = in_built function"
   ]
  },
  {
   "cell_type": "code",
   "execution_count": 100,
   "id": "4d514af9-8b83-4949-85d2-9a4eb8d11a7f",
   "metadata": {},
   "outputs": [],
   "source": [
    "# in-built function (ln,find,...)"
   ]
  },
  {
   "cell_type": "code",
   "execution_count": 101,
   "id": "b25c6ea5-f849-4b19-9bbb-be3704c241d3",
   "metadata": {},
   "outputs": [],
   "source": [
    "s=\"this is my first class\""
   ]
  },
  {
   "cell_type": "code",
   "execution_count": 102,
   "id": "3d382e9a-de6a-4cf6-9182-87549b389da9",
   "metadata": {},
   "outputs": [
    {
     "data": {
      "text/plain": [
       "22"
      ]
     },
     "execution_count": 102,
     "metadata": {},
     "output_type": "execute_result"
    }
   ],
   "source": [
    "len(s)"
   ]
  },
  {
   "cell_type": "code",
   "execution_count": 103,
   "id": "d3413c5b-ab78-4414-8eea-8be966364722",
   "metadata": {},
   "outputs": [
    {
     "data": {
      "text/plain": [
       "2"
      ]
     },
     "execution_count": 103,
     "metadata": {},
     "output_type": "execute_result"
    }
   ],
   "source": [
    "s.find('i')"
   ]
  },
  {
   "cell_type": "code",
   "execution_count": 104,
   "id": "9977d3d4-13fc-48a1-b9ba-5d116f4372c0",
   "metadata": {},
   "outputs": [
    {
     "data": {
      "text/plain": [
       "11"
      ]
     },
     "execution_count": 104,
     "metadata": {},
     "output_type": "execute_result"
    }
   ],
   "source": [
    "s.find(\"first\")"
   ]
  },
  {
   "cell_type": "code",
   "execution_count": 105,
   "id": "4cf501ae-2f6e-4156-862a-794e9b35246b",
   "metadata": {},
   "outputs": [
    {
     "data": {
      "text/plain": [
       "13"
      ]
     },
     "execution_count": 105,
     "metadata": {},
     "output_type": "execute_result"
    }
   ],
   "source": [
    "s.find(\"rs\")"
   ]
  },
  {
   "cell_type": "code",
   "execution_count": 106,
   "id": "7254b536-590b-4998-8805-91bc16c06ef9",
   "metadata": {},
   "outputs": [
    {
     "data": {
      "text/plain": [
       "5"
      ]
     },
     "execution_count": 106,
     "metadata": {},
     "output_type": "execute_result"
    }
   ],
   "source": [
    "s.count('s')"
   ]
  },
  {
   "cell_type": "code",
   "execution_count": 107,
   "id": "d42eac1d-3c4f-4aaf-aa95-8397cd5e4239",
   "metadata": {},
   "outputs": [
    {
     "data": {
      "text/plain": [
       "0"
      ]
     },
     "execution_count": 107,
     "metadata": {},
     "output_type": "execute_result"
    }
   ],
   "source": [
    "s.count('z')"
   ]
  },
  {
   "cell_type": "code",
   "execution_count": 108,
   "id": "1088f90a-556c-4381-b97b-cd0c56d88813",
   "metadata": {},
   "outputs": [
    {
     "data": {
      "text/plain": [
       "'this is my first class'"
      ]
     },
     "execution_count": 108,
     "metadata": {},
     "output_type": "execute_result"
    }
   ],
   "source": [
    "s.lower()"
   ]
  },
  {
   "cell_type": "code",
   "execution_count": 109,
   "id": "8c60bfd6-2869-49f0-ad0c-ef71f1c5e196",
   "metadata": {},
   "outputs": [
    {
     "data": {
      "text/plain": [
       "'THIS IS MY FIRST CLASS'"
      ]
     },
     "execution_count": 109,
     "metadata": {},
     "output_type": "execute_result"
    }
   ],
   "source": [
    "s.upper()"
   ]
  },
  {
   "cell_type": "code",
   "execution_count": 110,
   "id": "ccee174c-224a-432f-9171-d5883e9be759",
   "metadata": {},
   "outputs": [
    {
     "data": {
      "text/plain": [
       "'This Is My First Class'"
      ]
     },
     "execution_count": 110,
     "metadata": {},
     "output_type": "execute_result"
    }
   ],
   "source": [
    "s.title()"
   ]
  },
  {
   "cell_type": "code",
   "execution_count": 113,
   "id": "c3a10b72-1444-49e7-a25d-70b2af147c05",
   "metadata": {},
   "outputs": [
    {
     "data": {
      "text/plain": [
       "'This is my first class'"
      ]
     },
     "execution_count": 113,
     "metadata": {},
     "output_type": "execute_result"
    }
   ],
   "source": [
    "s.capitalize()"
   ]
  },
  {
   "cell_type": "code",
   "execution_count": 114,
   "id": "6ba44b16-83dc-4ded-bf94-fe206152edf1",
   "metadata": {},
   "outputs": [
    {
     "data": {
      "text/plain": [
       "'sourabh'"
      ]
     },
     "execution_count": 114,
     "metadata": {},
     "output_type": "execute_result"
    }
   ],
   "source": [
    "x"
   ]
  },
  {
   "cell_type": "code",
   "execution_count": null,
   "id": "df059cb0-789a-4c7d-b7b6-47f7ea630ad2",
   "metadata": {},
   "outputs": [],
   "source": [
    "# concatenating operation"
   ]
  },
  {
   "cell_type": "code",
   "execution_count": 115,
   "id": "7f7008c7-1253-46bf-814e-e801318d8f76",
   "metadata": {},
   "outputs": [
    {
     "ename": "TypeError",
     "evalue": "can only concatenate str (not \"int\") to str",
     "output_type": "error",
     "traceback": [
      "\u001b[0;31m---------------------------------------------------------------------------\u001b[0m",
      "\u001b[0;31mTypeError\u001b[0m                                 Traceback (most recent call last)",
      "Cell \u001b[0;32mIn[115], line 1\u001b[0m\n\u001b[0;32m----> 1\u001b[0m \u001b[43mx\u001b[49m\u001b[38;5;241;43m+\u001b[39;49m\u001b[38;5;241;43m1\u001b[39;49m\n",
      "\u001b[0;31mTypeError\u001b[0m: can only concatenate str (not \"int\") to str"
     ]
    }
   ],
   "source": [
    "x+1"
   ]
  },
  {
   "cell_type": "code",
   "execution_count": 116,
   "id": "595f6bff-127d-44aa-b8c2-07640b0e6d75",
   "metadata": {},
   "outputs": [
    {
     "data": {
      "text/plain": [
       "'sourabhGhaghhre'"
      ]
     },
     "execution_count": 116,
     "metadata": {},
     "output_type": "execute_result"
    }
   ],
   "source": [
    "x + \"Ghaghhre\""
   ]
  },
  {
   "cell_type": "code",
   "execution_count": 117,
   "id": "e27ba172-1ca5-4975-81b2-3358e4e0044f",
   "metadata": {},
   "outputs": [
    {
     "data": {
      "text/plain": [
       "'sourabh1'"
      ]
     },
     "execution_count": 117,
     "metadata": {},
     "output_type": "execute_result"
    }
   ],
   "source": [
    "x + str(1)"
   ]
  },
  {
   "cell_type": "code",
   "execution_count": 118,
   "id": "52e2e30a-64ba-4fba-8d14-f1f362f0a5b3",
   "metadata": {},
   "outputs": [
    {
     "data": {
      "text/plain": [
       "'sourabhsourabhsourabh'"
      ]
     },
     "execution_count": 118,
     "metadata": {},
     "output_type": "execute_result"
    }
   ],
   "source": [
    "x * 3"
   ]
  },
  {
   "cell_type": "code",
   "execution_count": 122,
   "id": "5f171553-2c20-4bcf-a59e-0e4988bb647e",
   "metadata": {},
   "outputs": [],
   "source": [
    "# comment , codes"
   ]
  },
  {
   "cell_type": "code",
   "execution_count": 123,
   "id": "3a97a032-0ae9-4a34-8468-be3b933d9f2f",
   "metadata": {},
   "outputs": [
    {
     "ename": "SyntaxError",
     "evalue": "unterminated string literal (detected at line 1) (3500718104.py, line 1)",
     "output_type": "error",
     "traceback": [
      "\u001b[0;36m  Cell \u001b[0;32mIn[123], line 1\u001b[0;36m\u001b[0m\n\u001b[0;31m    print('don't be penic')\u001b[0m\n\u001b[0m                         ^\u001b[0m\n\u001b[0;31mSyntaxError\u001b[0m\u001b[0;31m:\u001b[0m unterminated string literal (detected at line 1)\n"
     ]
    }
   ],
   "source": [
    "print('don't be penic')"
   ]
  },
  {
   "cell_type": "code",
   "execution_count": 121,
   "id": "8e7a6988-abe4-4bd9-aadc-30a6a8a8906d",
   "metadata": {},
   "outputs": [
    {
     "name": "stdout",
     "output_type": "stream",
     "text": [
      "don't be penic\n"
     ]
    }
   ],
   "source": [
    "print(\"don't be penic\")"
   ]
  },
  {
   "cell_type": "code",
   "execution_count": 124,
   "id": "4aa90dc8-fe65-430b-a53e-fa137815b87a",
   "metadata": {},
   "outputs": [
    {
     "ename": "SyntaxError",
     "evalue": "unterminated string literal (detected at line 3) (2694810686.py, line 3)",
     "output_type": "error",
     "traceback": [
      "\u001b[0;36m  Cell \u001b[0;32mIn[124], line 3\u001b[0;36m\u001b[0m\n\u001b[0;31m    one day i will definately learn the python'\u001b[0m\n\u001b[0m                                              ^\u001b[0m\n\u001b[0;31mSyntaxError\u001b[0m\u001b[0;31m:\u001b[0m unterminated string literal (detected at line 3)\n"
     ]
    }
   ],
   "source": [
    "# 'this is my first class\n",
    "i am trying to learning python from basic\n",
    "one day i will definately learn the python'"
   ]
  },
  {
   "cell_type": "code",
   "execution_count": 127,
   "id": "42446cec-93de-4416-92b6-65ec012c22f7",
   "metadata": {},
   "outputs": [
    {
     "data": {
      "text/plain": [
       "'this is my first class\\ni am trying to learning python from basic\\none day i will definately learn the python'"
      ]
     },
     "execution_count": 127,
     "metadata": {},
     "output_type": "execute_result"
    }
   ],
   "source": [
    " \"\"\"this is my first class\n",
    "i am trying to learning python from basic\n",
    "one day i will definately learn the python\"\"\""
   ]
  },
  {
   "cell_type": "code",
   "execution_count": 128,
   "id": "af9a5571-3926-4fff-88a6-d4cd113631b0",
   "metadata": {},
   "outputs": [],
   "source": [
    "# this is my first class\n",
    "# i am trying to learning python from basic\n",
    "# one day i will definately learn the python"
   ]
  },
  {
   "cell_type": "code",
   "execution_count": null,
   "id": "d46990a4-282c-42d3-b3d3-53b4dd439a0a",
   "metadata": {},
   "outputs": [],
   "source": []
  }
 ],
 "metadata": {
  "kernelspec": {
   "display_name": "Python 3 (ipykernel)",
   "language": "python",
   "name": "python3"
  },
  "language_info": {
   "codemirror_mode": {
    "name": "ipython",
    "version": 3
   },
   "file_extension": ".py",
   "mimetype": "text/x-python",
   "name": "python",
   "nbconvert_exporter": "python",
   "pygments_lexer": "ipython3",
   "version": "3.10.8"
  }
 },
 "nbformat": 4,
 "nbformat_minor": 5
}
